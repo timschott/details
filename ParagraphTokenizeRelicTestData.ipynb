{
 "cells": [
  {
   "cell_type": "code",
   "execution_count": 258,
   "id": "4e2c3556",
   "metadata": {},
   "outputs": [],
   "source": [
    "# re\n",
    "import re\n",
    "\n",
    "# data reading / cleaning utils\n",
    "from gut_tokenize import read_data\n",
    "\n",
    "# pandas\n",
    "import pandas as pd\n",
    "\n",
    "# nltk\n",
    "from nltk.tokenize import sent_tokenize, word_tokenize"
   ]
  },
  {
   "cell_type": "code",
   "execution_count": 236,
   "id": "8d3e833c",
   "metadata": {},
   "outputs": [],
   "source": [
    "# read in test corpus\n",
    "directory = \"../Gutenberg/relic_test_set/\"\n",
    "titles = []\n",
    "texts = []\n",
    "# use util\n",
    "titles, texts = read_data(directory)"
   ]
  },
  {
   "cell_type": "code",
   "execution_count": 237,
   "id": "e5f449ef",
   "metadata": {},
   "outputs": [],
   "source": [
    "titles = [t[:-10] for t in titles]"
   ]
  },
  {
   "cell_type": "code",
   "execution_count": 238,
   "id": "a7993966",
   "metadata": {},
   "outputs": [],
   "source": [
    "'''\n",
    "Detects the presence of dialogue markers in a sentence\n",
    "'''\n",
    "def dialogue_helper(d):\n",
    "    \n",
    "    if '\"' in d or '\\\"' in d or '“' in d or '”' in d or d.startswith('-') or d.strip().startswith('-') or len(d.strip().split()) == 1 != []:\n",
    "        return ''\n",
    "    else:\n",
    "        return d"
   ]
  },
  {
   "cell_type": "code",
   "execution_count": 278,
   "id": "59ca6cc3",
   "metadata": {},
   "outputs": [],
   "source": [
    "'''\n",
    "Function to quickly break apart a .txt file into paragraphs\n",
    "Eschews sentence_tokenize or similar strategies because the output goal is paragraphs\n",
    "Preprocessing includes: removing excessive spaces and line-breaks, and converting em-dashes to normal dashes\n",
    "As to adhere to the RELiC format\n",
    "'''\n",
    "def paragraph_tokenize(text, title):\n",
    "    \n",
    "    # default start and stop boundaries\n",
    "    start_index = 0\n",
    "    stop_index = len(text)\n",
    "    \n",
    "    # manual cleanup for applicable boundary markers\n",
    "    if title == 'north_and_south':\n",
    "        start_index = text.find(\"chapter i.\")\n",
    "        stop_index = text.find(\"the end.\")\n",
    "    elif title == 'germinal':\n",
    "        start_index = text.find(\"chapter i\")\n",
    "    elif title == 'pride_and_prejudice':\n",
    "        start_index = text.find(\"chapter 61\") + 1\n",
    "    elif title == 'the_jungle':\n",
    "        start_index = text.find(\"chapter xxxi\") + 1\n",
    "    elif title == 'the_great_gatsby':\n",
    "        start_index = text.find(\"thomas parke d’invilliers\")\n",
    "    \n",
    "    text = text[start_index : stop_index]\n",
    "    # split \n",
    "    text = text.split(\"\\n\\n\")\n",
    "    # remove extra spaces and new line characters, plus sub out the em-dash\n",
    "    text = [re.sub(\"\\s{2,}\", \" \", t.replace(\"\\n\", \" \").strip().replace(\"—\", \"-\").replace(\"--\", \"-\")) for t in text]\n",
    "    # remove dialogue\n",
    "    text = [t for t in text if dialogue_helper(t) != '']\n",
    "    # remove paragraphs shorter than 10 'tokenized' words (including punc)\n",
    "    text = [t for t in text if len(nltk.word_tokenize(t)) >= 10]\n",
    "    \n",
    "    return text"
   ]
  },
  {
   "cell_type": "code",
   "execution_count": 279,
   "id": "96bac690",
   "metadata": {},
   "outputs": [],
   "source": [
    "tokenized_texts = []\n",
    "for text, title in zip(texts, titles):\n",
    "    tokenized_texts.append(paragraph_tokenize(text, title))"
   ]
  },
  {
   "cell_type": "code",
   "execution_count": 280,
   "id": "7e08814b",
   "metadata": {},
   "outputs": [],
   "source": [
    "'''\n",
    "RELiC data is grouped in arrangements of between 1 sentence and 4 sentences.\n",
    "This method returns a dictionary whose keys are the name of the text and a 'grouping' id, and whose values are blocks of sentences\n",
    "Slide over each paragraph, returning groups of 4.\n",
    "'''\n",
    "def create_paragraph_dictionary(text, title):\n",
    "    \n",
    "    # print(f\"creating paragraph dictionary for {title}\")\n",
    "    \n",
    "    # container\n",
    "    text_dict = {}\n",
    "    # for every paragraph in text\n",
    "    for i in range(len(text)):\n",
    "        paragraph = text[i]\n",
    "        # break into sentences\n",
    "        sentences = nltk.sent_tokenize(paragraph)\n",
    "        num_sentences = len(sentences)\n",
    "        \n",
    "        if num_sentences <= 4:\n",
    "            text_dict[title + '_para_' + str(i)] = \" \".join(sentences)\n",
    "            \n",
    "        elif num_sentences > 4 and num_sentences <= 8:\n",
    "            text_dict[title + '_para_' + str(i) + '_1_4'] = \" \".join(sentences[:4])\n",
    "            text_dict[title + '_para_' + str(i) + '_5_' + str(num_sentences)] = \" \".join(sentences[4:])\n",
    "            \n",
    "        elif num_sentences > 8 and num_sentences <=12:\n",
    "            \n",
    "            text_dict[title + '_para_' + str(i) + '_1_4'] = \" \".join(sentences[:4])\n",
    "            text_dict[title + '_para_' + str(i) + '_5_8'] = \" \".join(sentences[4:8])\n",
    "            text_dict[title + '_para_' + str(i) + '_9_' + str(num_sentences)] = \" \".join(sentences[8:])\n",
    "            \n",
    "        else:\n",
    "            text_dict[title + '_para_' + str(i) + '_1_4'] = \" \".join(sentences[:4])\n",
    "            text_dict[title + '_para_' + str(i) + '_5_8'] = \" \".join(sentences[4:8])\n",
    "            text_dict[title + '_para_' + str(i) + '_9_12' + str(num_sentences)] = \" \".join(sentences[8:12])\n",
    "    \n",
    "    return text_dict"
   ]
  },
  {
   "cell_type": "code",
   "execution_count": 281,
   "id": "a93ae735",
   "metadata": {},
   "outputs": [],
   "source": [
    "def write_dict_to_file(title, paragraph_dict):\n",
    "    \n",
    "    para_ids = paragraph_dict.keys()\n",
    "    paras = paragraph_dict.values()\n",
    "    \n",
    "    book_df = pd.DataFrame({'ids': para_ids,'text': paras,})\n",
    "    \n",
    "    book_df.to_csv('data/relic/relic-test-corpus/' + title + '_paragraphs.csv')\n",
    "    \n",
    "    print(f\"wrote {len(paras)} paragraphs to .csv for {title}\")"
   ]
  },
  {
   "cell_type": "code",
   "execution_count": 282,
   "id": "665c2537",
   "metadata": {},
   "outputs": [
    {
     "name": "stdout",
     "output_type": "stream",
     "text": [
      "wrote 2474 paragraphs to .csv for germinal\n",
      "wrote 833 paragraphs to .csv for pride_and_prejudice\n",
      "wrote 800 paragraphs to .csv for the_jungle\n",
      "wrote 907 paragraphs to .csv for north_and_south\n",
      "wrote 536 paragraphs to .csv for the_great_gatsby\n"
     ]
    }
   ],
   "source": [
    "for text, title in zip(tokenized_texts, titles):\n",
    "    write_dict_to_file(title, create_paragraph_dictionary(text, title))"
   ]
  },
  {
   "cell_type": "code",
   "execution_count": null,
   "id": "44b294c4",
   "metadata": {},
   "outputs": [],
   "source": []
  }
 ],
 "metadata": {
  "kernelspec": {
   "display_name": "Python [conda env:anlp] *",
   "language": "python",
   "name": "conda-env-anlp-py"
  },
  "language_info": {
   "codemirror_mode": {
    "name": "ipython",
    "version": 3
   },
   "file_extension": ".py",
   "mimetype": "text/x-python",
   "name": "python",
   "nbconvert_exporter": "python",
   "pygments_lexer": "ipython3",
   "version": "3.8.8"
  }
 },
 "nbformat": 4,
 "nbformat_minor": 5
}
