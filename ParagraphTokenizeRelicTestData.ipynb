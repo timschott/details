{
 "cells": [
  {
   "cell_type": "code",
   "execution_count": 1,
   "id": "4e2c3556",
   "metadata": {},
   "outputs": [],
   "source": [
    "# re\n",
    "import re\n",
    "\n",
    "# data reading / cleaning\n",
    "from gut_tokenize import read_data, preprocess\n",
    "\n",
    "# ceiling \n",
    "import math \n",
    "\n",
    "# random\n",
    "import random\n",
    "random.seed(42)\n",
    "\n",
    "import nltk"
   ]
  },
  {
   "cell_type": "code",
   "execution_count": 2,
   "id": "8d3e833c",
   "metadata": {},
   "outputs": [],
   "source": [
    "# read in test corpus\n",
    "directory = \"../Gutenberg/relic_test_set/\"\n",
    "titles = []\n",
    "texts = []\n",
    "# use util\n",
    "titles, texts = read_data(directory)"
   ]
  },
  {
   "cell_type": "code",
   "execution_count": 3,
   "id": "59ca6cc3",
   "metadata": {},
   "outputs": [],
   "source": [
    "'''\n",
    "Function to quickly break apart a .txt file into paragraphs\n",
    "Eschews sentence_tokenize or similar strategies because the output goal is paragraphs\n",
    "Preprocessing includes: removing excessive spaces and line-breaks, and converting em-dashes to normal dashes\n",
    "As to adhere to the RELiC format\n",
    "'''\n",
    "def paragraph_tokenize(text):\n",
    "    text = text.split(\"\\n\\n\")\n",
    "    text = [re.sub(\"\\s{2,}\", \" \", t.replace(\"\\n\", \"\").strip().replace(\"—\", \"-\")) for t in text]\n",
    "    return text"
   ]
  },
  {
   "cell_type": "code",
   "execution_count": 13,
   "id": "a96e2e40",
   "metadata": {},
   "outputs": [],
   "source": [
    "'''\n",
    "Detects the presence of dialogue markers in a sentence\n",
    "'''\n",
    "def dialogue_helper(d):\n",
    "    \n",
    "    if '\"' in d or '\\\"' in d or '“' in d or '”' in d or d.startswith('-') or d.strip().startswith('-') or len(d.strip().split()) == 1 != []:\n",
    "        return ''\n",
    "    else:\n",
    "        return d"
   ]
  },
  {
   "cell_type": "code",
   "execution_count": 12,
   "id": "bd60d0ce",
   "metadata": {},
   "outputs": [
    {
     "data": {
      "text/plain": [
       "''"
      ]
     },
     "execution_count": 12,
     "metadata": {},
     "output_type": "execute_result"
    }
   ],
   "source": [
    "dialogue_helper('\\\"Yesterday I walked down the road. To Tom\\'s house\\\"')"
   ]
  },
  {
   "cell_type": "code",
   "execution_count": 15,
   "id": "e841b619",
   "metadata": {},
   "outputs": [
    {
     "data": {
      "text/plain": [
       "\"This is a normal sentence -- that should stand-fine! on its own. no issue with it's grammar problems, we just care about.... dialogue!!\""
      ]
     },
     "execution_count": 15,
     "metadata": {},
     "output_type": "execute_result"
    }
   ],
   "source": [
    "dialogue_helper('This is a normal sentence -- that should stand-fine! on its own. no issue with it\\'s grammar problems, we just care about.... dialogue!!')"
   ]
  },
  {
   "cell_type": "code",
   "execution_count": 40,
   "id": "7e08814b",
   "metadata": {},
   "outputs": [],
   "source": [
    "'''\n",
    "RELiC data is grouped in arrangements of between 1 sentence and 4 sentences.\n",
    "\n",
    "'''\n",
    "def create_paragraph_dictionary(text):"
   ]
  },
  {
   "cell_type": "code",
   "execution_count": null,
   "id": "6d22827e",
   "metadata": {},
   "outputs": [],
   "source": []
  }
 ],
 "metadata": {
  "kernelspec": {
   "display_name": "Python [conda env:anlp] *",
   "language": "python",
   "name": "conda-env-anlp-py"
  },
  "language_info": {
   "codemirror_mode": {
    "name": "ipython",
    "version": 3
   },
   "file_extension": ".py",
   "mimetype": "text/x-python",
   "name": "python",
   "nbconvert_exporter": "python",
   "pygments_lexer": "ipython3",
   "version": "3.8.8"
  }
 },
 "nbformat": 4,
 "nbformat_minor": 5
}
