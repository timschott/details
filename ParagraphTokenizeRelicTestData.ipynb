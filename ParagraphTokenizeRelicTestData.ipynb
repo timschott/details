{
 "cells": [
  {
   "cell_type": "code",
   "execution_count": 43,
   "id": "4e2c3556",
   "metadata": {},
   "outputs": [],
   "source": [
    "# re\n",
    "import re\n",
    "\n",
    "# data reading / cleaning\n",
    "from gut_tokenize import read_data, preprocess\n",
    "\n",
    "# ceiling \n",
    "import math \n",
    "\n",
    "# random\n",
    "import random\n",
    "random.seed(42)\n",
    "\n",
    "import nltk"
   ]
  },
  {
   "cell_type": "code",
   "execution_count": 44,
   "id": "8d3e833c",
   "metadata": {},
   "outputs": [],
   "source": [
    "directory = \"../Gutenberg/relic_test_set/\"\n",
    "titles = []\n",
    "texts = []\n",
    "titles, texts = read_data(directory)"
   ]
  },
  {
   "cell_type": "code",
   "execution_count": 45,
   "id": "59ca6cc3",
   "metadata": {},
   "outputs": [],
   "source": [
    "def paragraph_tokenize(text):\n",
    "    text = text.split(\"\\n\\n\")\n",
    "    text = [re.sub(\"\\s{2,}\", \" \", t.replace(\"\\n\", \"\").strip()) for t in text]\n",
    "    return text"
   ]
  },
  {
   "cell_type": "code",
   "execution_count": 40,
   "id": "7e08814b",
   "metadata": {},
   "outputs": [],
   "source": []
  },
  {
   "cell_type": "code",
   "execution_count": null,
   "id": "6d22827e",
   "metadata": {},
   "outputs": [],
   "source": []
  }
 ],
 "metadata": {
  "kernelspec": {
   "display_name": "Python [conda env:anlp] *",
   "language": "python",
   "name": "conda-env-anlp-py"
  },
  "language_info": {
   "codemirror_mode": {
    "name": "ipython",
    "version": 3
   },
   "file_extension": ".py",
   "mimetype": "text/x-python",
   "name": "python",
   "nbconvert_exporter": "python",
   "pygments_lexer": "ipython3",
   "version": "3.8.8"
  }
 },
 "nbformat": 4,
 "nbformat_minor": 5
}
