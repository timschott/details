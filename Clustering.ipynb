{
 "cells": [
  {
   "cell_type": "code",
   "execution_count": 24,
   "id": "65adcc5b",
   "metadata": {},
   "outputs": [],
   "source": [
    "# numpy\n",
    "import numpy as np\n",
    "# operator\n",
    "import operator\n",
    "# pandas\n",
    "import pandas as pd\n",
    "# sklearn\n",
    "from sklearn import metrics\n",
    "from sklearn.metrics import accuracy_score\n",
    "from sklearn.cluster import AgglomerativeClustering, KMeans"
   ]
  },
  {
   "cell_type": "code",
   "execution_count": 25,
   "id": "f0c66b27",
   "metadata": {},
   "outputs": [],
   "source": [
    "'''\n",
    "Read in .tsv of tagged sample data as a Pandas data frame\n",
    "Add appropriate header to the columns as well.\n",
    "'''\n",
    "def read_as_df(filename):\n",
    "    df = pd.read_csv(filename, sep=\"\\t\", header = None, skiprows=[1])\n",
    "    df.columns = [\"Text_Loc\", \"Sample\", \"Rating\", \"Specificity\",\"Adj\", \"Adv\", \"Noun\", \"Verb\", \"Adp\", \"Time\"]\n",
    "    df = df.iloc[1: , :]\n",
    "    return df"
   ]
  },
  {
   "cell_type": "code",
   "execution_count": 26,
   "id": "695d0f19",
   "metadata": {},
   "outputs": [],
   "source": [
    "'''\n",
    "Take in a list of (n, 768) embeddings and reduce their dims w/ an avg. calc\n",
    "That way each sample can be compared\n",
    "'''\n",
    "def average_embeddings(embedding_list):\n",
    "    avg_embeddings = []\n",
    "    for mat in embedding_list:\n",
    "        avg_embeddings.append(np.mean(mat, axis = 0))\n",
    "    \n",
    "    return avg_embeddings"
   ]
  },
  {
   "cell_type": "code",
   "execution_count": 27,
   "id": "3061c1e7",
   "metadata": {},
   "outputs": [],
   "source": [
    "def k_means(embeddings):\n",
    "    k = KMeans(n_clusters=2, random_state = 46)\n",
    "    k.fit(avg_embeddings)\n",
    "    k_assignment = k.labels_\n",
    "    return k_assignment"
   ]
  },
  {
   "cell_type": "code",
   "execution_count": 28,
   "id": "0f9e1795",
   "metadata": {},
   "outputs": [],
   "source": [
    "def agg_clustering(embeddings):\n",
    "    clustering_model = AgglomerativeClustering(n_clusters=2, linkage=\"ward\")\n",
    "    clustering_model.fit(avg_embeddings)\n",
    "    cluster_assignment = clustering_model.labels_\n",
    "    return cluster_assignment"
   ]
  },
  {
   "cell_type": "code",
   "execution_count": 29,
   "id": "1946b819",
   "metadata": {},
   "outputs": [],
   "source": [
    "def clustering_eval(assignments, gold_labels):\n",
    "    print(metrics.normalized_mutual_info_score(gold_labels, assignments), accuracy_score(gold_labels, assignments))"
   ]
  },
  {
   "cell_type": "code",
   "execution_count": 30,
   "id": "4b5fde4c",
   "metadata": {},
   "outputs": [],
   "source": [
    "def print_clustering_assignments(assignments):\n",
    "    clustered_samples = {}\n",
    "    for sample_id, cluster_id in enumerate(cluster_assignment):\n",
    "        if cluster_id not in clustered_samples:\n",
    "            clustered_samples[cluster_id] = []\n",
    "\n",
    "        clustered_samples[cluster_id].append(samples['Text_Loc'][sample_id])\n",
    "\n",
    "    for i, cluster in clustered_samples.items():\n",
    "        print(f'Cluster {i} {cluster}')"
   ]
  },
  {
   "cell_type": "code",
   "execution_count": 31,
   "id": "25dadb3a",
   "metadata": {},
   "outputs": [],
   "source": [
    "samples = read_as_df(\"data/samples_data.tsv\")"
   ]
  },
  {
   "cell_type": "code",
   "execution_count": 32,
   "id": "59985727",
   "metadata": {},
   "outputs": [],
   "source": [
    "# samples = samples.assign (\n",
    "#     label = lambda dataframe: samples['Rating'].map(lambda Rating: 1 if float(Rating) >= 3.11 else 0)\n",
    "# )"
   ]
  },
  {
   "cell_type": "code",
   "execution_count": 33,
   "id": "6365286f",
   "metadata": {},
   "outputs": [],
   "source": [
    "# avg_embeddings = np.array(average_embeddings(sample_embeddings))"
   ]
  },
  {
   "cell_type": "code",
   "execution_count": 34,
   "id": "e4af9a5a",
   "metadata": {},
   "outputs": [],
   "source": [
    "# agg_lab = agg_clustering(avg_embeddings)"
   ]
  },
  {
   "cell_type": "code",
   "execution_count": 35,
   "id": "4164022f",
   "metadata": {},
   "outputs": [],
   "source": [
    "# clustering_eval(agg_lab, samples['label'])"
   ]
  }
 ],
 "metadata": {
  "kernelspec": {
   "display_name": "Python [conda env:anlp] *",
   "language": "python",
   "name": "conda-env-anlp-py"
  },
  "language_info": {
   "codemirror_mode": {
    "name": "ipython",
    "version": 3
   },
   "file_extension": ".py",
   "mimetype": "text/x-python",
   "name": "python",
   "nbconvert_exporter": "python",
   "pygments_lexer": "ipython3",
   "version": "3.8.8"
  }
 },
 "nbformat": 4,
 "nbformat_minor": 5
}
