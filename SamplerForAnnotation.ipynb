{
 "cells": [
  {
   "cell_type": "code",
   "execution_count": 17,
   "id": "ae9c431b",
   "metadata": {},
   "outputs": [],
   "source": [
    "# re\n",
    "import re\n",
    "\n",
    "# data reading / cleaning\n",
    "from gut_tokenize import read_data, preprocess"
   ]
  },
  {
   "cell_type": "code",
   "execution_count": 18,
   "id": "a875569a",
   "metadata": {},
   "outputs": [
    {
     "name": "stdout",
     "output_type": "stream",
     "text": [
      "robinson_crusoe_clean.txt\n",
      "great_gatsby_clean.txt\n",
      "around_the_world_in_80_days_clean.txt\n",
      "germinal-clean.txt\n",
      "pride_and_prejudice_clean.txt\n",
      "the_jungle_clean.txt\n",
      "scarlet_letter_clean.txt\n",
      "great_expectations_clean.txt\n",
      "moby-clean.txt\n",
      "anna_karenina_clean.txt\n",
      "twenty_thousand_leagues_under_the_sea_clean.txt\n",
      "alice_in_wonderland_clean.txt\n",
      "frankenstein_clean.txt\n",
      "sense_and_sensibility_clean.txt\n",
      "middlemarch_clean.txt\n",
      "tom_jones_clean.txt\n",
      "utopia_clean.txt\n",
      "the_time_machine_clean.txt\n",
      "north_and_south_clean.txt\n",
      "the_fortune_of_the_rougons_clean.txt\n",
      "adam_bede_clean.txt\n",
      "babbit_clean.txt\n",
      "the_last_man_clean.txt\n",
      "madame_bovary_clean.txt\n",
      "picture_of_dorian_grey_clean.txt\n",
      "heart_of_darkness_clean.txt\n",
      "crime_and_punishment_clean.txt\n",
      "bleak_house_clean.txt\n"
     ]
    }
   ],
   "source": [
    "directory = \"../Gutenberg/cleaned_texts/\"\n",
    "titles = []\n",
    "texts = []\n",
    "titles, texts = read_data(directory)\n",
    "\n",
    "for title in titles:\n",
    "    print(title)"
   ]
  },
  {
   "cell_type": "code",
   "execution_count": null,
   "id": "b2b28ad7",
   "metadata": {},
   "outputs": [],
   "source": []
  }
 ],
 "metadata": {
  "kernelspec": {
   "display_name": "Python [conda env:anlp] *",
   "language": "python",
   "name": "conda-env-anlp-py"
  },
  "language_info": {
   "codemirror_mode": {
    "name": "ipython",
    "version": 3
   },
   "file_extension": ".py",
   "mimetype": "text/x-python",
   "name": "python",
   "nbconvert_exporter": "python",
   "pygments_lexer": "ipython3",
   "version": "3.8.8"
  }
 },
 "nbformat": 4,
 "nbformat_minor": 5
}
