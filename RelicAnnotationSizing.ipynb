{
 "cells": [
  {
   "cell_type": "code",
   "execution_count": 2,
   "id": "4eb49c2d",
   "metadata": {},
   "outputs": [],
   "source": [
    "# pandas\n",
    "import pandas as pd\n",
    "\n",
    "# nltk for tokenization\n",
    "import nltk\n",
    "from nltk import sent_tokenize\n",
    "from nltk import word_tokenize\n",
    "\n",
    "# spacy for entity rec\n",
    "import spacy"
   ]
  },
  {
   "cell_type": "code",
   "execution_count": 2,
   "id": "c8bf92c3",
   "metadata": {},
   "outputs": [],
   "source": [
    "nlp = spacy.load('en_core_web_sm')"
   ]
  },
  {
   "cell_type": "code",
   "execution_count": 3,
   "id": "55052f35",
   "metadata": {},
   "outputs": [],
   "source": [
    "'''\n",
    "Read in .txts/.csvs of tagged sample data as a Pandas data frame\n",
    "Add appropriate header to the columns as well.\n",
    "'''\n",
    "def read_as_df(buckets_filename, claim_id_filename, passage_filename):\n",
    "    claim_ids = pd.read_csv(claim_id_filename, sep=\"\\n\")\n",
    "    buckets = pd.read_csv(buckets_filename, sep=\"\\n\")\n",
    "    passages = pd.read_csv(passage_filename, sep=\"\\n\")\n",
    "    df_col_merged = pd.concat([claim_ids, buckets, passages], axis=1)\n",
    "\n",
    "    return df_col_merged"
   ]
  },
  {
   "cell_type": "code",
   "execution_count": 4,
   "id": "ae73d922",
   "metadata": {},
   "outputs": [],
   "source": [
    "merged = read_as_df('data/relic_prev_buckets.txt', 'data/relic_prev_ids.csv', 'data/relic_prev_passages.txt')"
   ]
  },
  {
   "cell_type": "code",
   "execution_count": 5,
   "id": "cc55b8d1",
   "metadata": {},
   "outputs": [
    {
     "data": {
      "text/html": [
       "<div>\n",
       "<style scoped>\n",
       "    .dataframe tbody tr th:only-of-type {\n",
       "        vertical-align: middle;\n",
       "    }\n",
       "\n",
       "    .dataframe tbody tr th {\n",
       "        vertical-align: top;\n",
       "    }\n",
       "\n",
       "    .dataframe thead th {\n",
       "        text-align: right;\n",
       "    }\n",
       "</style>\n",
       "<table border=\"1\" class=\"dataframe\">\n",
       "  <thead>\n",
       "    <tr style=\"text-align: right;\">\n",
       "      <th></th>\n",
       "      <th>claim_id</th>\n",
       "      <th>bucket</th>\n",
       "      <th>passage</th>\n",
       "    </tr>\n",
       "  </thead>\n",
       "  <tbody>\n",
       "    <tr>\n",
       "      <th>0</th>\n",
       "      <td>13861</td>\n",
       "      <td>metaphor</td>\n",
       "      <td>The work of one moment was destroyed by the next.</td>\n",
       "    </tr>\n",
       "    <tr>\n",
       "      <th>1</th>\n",
       "      <td>55809</td>\n",
       "      <td>metaphor</td>\n",
       "      <td>How should they learn the entry into the finer...</td>\n",
       "    </tr>\n",
       "    <tr>\n",
       "      <th>2</th>\n",
       "      <td>3193</td>\n",
       "      <td>x</td>\n",
       "      <td>What is the meaning of life?</td>\n",
       "    </tr>\n",
       "    <tr>\n",
       "      <th>3</th>\n",
       "      <td>18123</td>\n",
       "      <td>internal character experience</td>\n",
       "      <td>His mind pictured the soldiers who would place...</td>\n",
       "    </tr>\n",
       "    <tr>\n",
       "      <th>4</th>\n",
       "      <td>18448</td>\n",
       "      <td>embellishing an event</td>\n",
       "      <td>He yelled then with fright and swung about. Fo...</td>\n",
       "    </tr>\n",
       "  </tbody>\n",
       "</table>\n",
       "</div>"
      ],
      "text/plain": [
       "   claim_id                         bucket  \\\n",
       "0     13861                       metaphor   \n",
       "1     55809                       metaphor   \n",
       "2      3193                              x   \n",
       "3     18123  internal character experience   \n",
       "4     18448          embellishing an event   \n",
       "\n",
       "                                             passage  \n",
       "0  The work of one moment was destroyed by the next.  \n",
       "1  How should they learn the entry into the finer...  \n",
       "2                       What is the meaning of life?  \n",
       "3  His mind pictured the soldiers who would place...  \n",
       "4  He yelled then with fright and swung about. Fo...  "
      ]
     },
     "execution_count": 5,
     "metadata": {},
     "output_type": "execute_result"
    }
   ],
   "source": [
    "merged.head()"
   ]
  },
  {
   "cell_type": "code",
   "execution_count": 6,
   "id": "6b4fde14",
   "metadata": {},
   "outputs": [],
   "source": [
    "def get_word_count(passage):\n",
    "    return len(word_tokenize(passage))"
   ]
  },
  {
   "cell_type": "code",
   "execution_count": 7,
   "id": "843913a1",
   "metadata": {},
   "outputs": [],
   "source": [
    "def get_sentence_count(passage):\n",
    "    return len(sent_tokenize(passage))"
   ]
  },
  {
   "cell_type": "code",
   "execution_count": 8,
   "id": "86375986",
   "metadata": {},
   "outputs": [],
   "source": [
    "def get_entity_count(passage):\n",
    "    doc = nlp(passage)\n",
    "    return len(doc.ents)"
   ]
  },
  {
   "cell_type": "code",
   "execution_count": 1,
   "id": "2c3796ee",
   "metadata": {},
   "outputs": [],
   "source": [
    "def detect_first_person_passage(passage):\n",
    "    passage_words = word_tokenize(passage)\n",
    "    return \"I\" in passage_words or \"me\" in passage_words"
   ]
  },
  {
   "cell_type": "code",
   "execution_count": null,
   "id": "f2e2ddc7",
   "metadata": {},
   "outputs": [],
   "source": [
    "detect_first_person"
   ]
  },
  {
   "cell_type": "code",
   "execution_count": 9,
   "id": "86f5e131",
   "metadata": {},
   "outputs": [],
   "source": [
    "# tally word count for each passage\n",
    "merged['word_count'] = merged.apply(lambda x: get_word_count(x.passage), axis=1)"
   ]
  },
  {
   "cell_type": "code",
   "execution_count": 10,
   "id": "5d9bea89",
   "metadata": {},
   "outputs": [],
   "source": [
    "# tally sentence count for each passage\n",
    "merged['sentence_count'] = merged.apply(lambda x: get_sentence_count(x.passage), axis=1)"
   ]
  },
  {
   "cell_type": "code",
   "execution_count": 11,
   "id": "e979bffa",
   "metadata": {},
   "outputs": [],
   "source": [
    "# tally named entity count for each passage\n",
    "merged['named_entity_count'] = merged.apply(lambda x: get_entity_count(x.passage), axis=1)"
   ]
  },
  {
   "cell_type": "code",
   "execution_count": 12,
   "id": "b04d8a38",
   "metadata": {},
   "outputs": [
    {
     "data": {
      "text/plain": [
       "bucket\n",
       "embellishing an event            44.0\n",
       "external characterization        45.0\n",
       "informative detail               45.0\n",
       "internal character experience    41.0\n",
       "metaphor                         40.0\n",
       "sensory detail                   58.0\n",
       "x                                33.5\n",
       "Name: word_count, dtype: float64"
      ]
     },
     "execution_count": 12,
     "metadata": {},
     "output_type": "execute_result"
    }
   ],
   "source": [
    "# word count per group\n",
    "merged.groupby(['bucket'])['word_count'].median()"
   ]
  },
  {
   "cell_type": "code",
   "execution_count": 13,
   "id": "5351417a",
   "metadata": {},
   "outputs": [
    {
     "data": {
      "text/plain": [
       "13.0"
      ]
     },
     "execution_count": 13,
     "metadata": {},
     "output_type": "execute_result"
    }
   ],
   "source": [
    "# 5th percentile\n",
    "merged['word_count'].quantile(0.05)"
   ]
  },
  {
   "cell_type": "code",
   "execution_count": 14,
   "id": "4c2bb642",
   "metadata": {},
   "outputs": [
    {
     "data": {
      "text/plain": [
       "112.0"
      ]
     },
     "execution_count": 14,
     "metadata": {},
     "output_type": "execute_result"
    }
   ],
   "source": [
    "# 95th percentile\n",
    "merged['word_count'].quantile(0.95)"
   ]
  },
  {
   "cell_type": "code",
   "execution_count": 15,
   "id": "a06dd647",
   "metadata": {},
   "outputs": [
    {
     "data": {
      "text/plain": [
       "bucket\n",
       "embellishing an event            0.880383\n",
       "external characterization        0.843636\n",
       "informative detail               1.454861\n",
       "internal character experience    0.494624\n",
       "metaphor                         0.851282\n",
       "sensory detail                   1.028571\n",
       "x                                0.836066\n",
       "Name: named_entity_count, dtype: float64"
      ]
     },
     "execution_count": 15,
     "metadata": {},
     "output_type": "execute_result"
    }
   ],
   "source": [
    "# entity count per group\n",
    "merged.groupby(['bucket'])['named_entity_count'].mean()"
   ]
  },
  {
   "cell_type": "code",
   "execution_count": 16,
   "id": "3da1ceb1",
   "metadata": {},
   "outputs": [
    {
     "data": {
      "text/plain": [
       "<AxesSubplot:>"
      ]
     },
     "execution_count": 16,
     "metadata": {},
     "output_type": "execute_result"
    },
    {
     "data": {
      "image/png": "[encoded data removed]",
      "text/plain": [
       "<Figure size 432x288 with 1 Axes>"
      ]
     },
     "metadata": {
      "needs_background": "light"
     },
     "output_type": "display_data"
    }
   ],
   "source": [
    "merged['word_count'].hist()"
   ]
  },
  {
   "cell_type": "code",
   "execution_count": 17,
   "id": "a9d9170c",
   "metadata": {},
   "outputs": [
    {
     "data": {
      "text/plain": [
       "<AxesSubplot:>"
      ]
     },
     "execution_count": 17,
     "metadata": {},
     "output_type": "execute_result"
    },
    {
     "data": {
      "image/png": "[encoded data removed]",
      "text/plain": [
       "<Figure size 432x288 with 1 Axes>"
      ]
     },
     "metadata": {
      "needs_background": "light"
     },
     "output_type": "display_data"
    }
   ],
   "source": [
    "merged['sentence_count'].hist()"
   ]
  },
  {
   "cell_type": "code",
   "execution_count": 18,
   "id": "7b7ca19e",
   "metadata": {},
   "outputs": [
    {
     "data": {
      "text/plain": [
       "bucket\n",
       "embellishing an event            1.909091\n",
       "external characterization        1.829091\n",
       "informative detail               1.826389\n",
       "internal character experience    1.854839\n",
       "metaphor                         1.610256\n",
       "sensory detail                   1.909524\n",
       "x                                1.885246\n",
       "Name: sentence_count, dtype: float64"
      ]
     },
     "execution_count": 18,
     "metadata": {},
     "output_type": "execute_result"
    }
   ],
   "source": [
    "# sentence count per group\n",
    "merged.groupby(['bucket'])['sentence_count'].mean()"
   ]
  },
  {
   "cell_type": "code",
   "execution_count": 19,
   "id": "5f753b36",
   "metadata": {},
   "outputs": [
    {
     "data": {
      "text/html": [
       "<div>\n",
       "<style scoped>\n",
       "    .dataframe tbody tr th:only-of-type {\n",
       "        vertical-align: middle;\n",
       "    }\n",
       "\n",
       "    .dataframe tbody tr th {\n",
       "        vertical-align: top;\n",
       "    }\n",
       "\n",
       "    .dataframe thead th {\n",
       "        text-align: right;\n",
       "    }\n",
       "</style>\n",
       "<table border=\"1\" class=\"dataframe\">\n",
       "  <thead>\n",
       "    <tr style=\"text-align: right;\">\n",
       "      <th></th>\n",
       "      <th>passage</th>\n",
       "      <th>word_count</th>\n",
       "    </tr>\n",
       "  </thead>\n",
       "  <tbody>\n",
       "    <tr>\n",
       "      <th>1281</th>\n",
       "      <td>Natásha's illness was so serious that, fortuna...</td>\n",
       "      <td>240</td>\n",
       "    </tr>\n",
       "    <tr>\n",
       "      <th>376</th>\n",
       "      <td>then you saw a lifeboat full of children with ...</td>\n",
       "      <td>239</td>\n",
       "    </tr>\n",
       "    <tr>\n",
       "      <th>914</th>\n",
       "      <td>In the hardest working part of Coketown; in th...</td>\n",
       "      <td>207</td>\n",
       "    </tr>\n",
       "    <tr>\n",
       "      <th>1559</th>\n",
       "      <td>It may be that he pursues her doggedly and ste...</td>\n",
       "      <td>191</td>\n",
       "    </tr>\n",
       "    <tr>\n",
       "      <th>768</th>\n",
       "      <td>it passed thus close by me, in action, so to s...</td>\n",
       "      <td>190</td>\n",
       "    </tr>\n",
       "    <tr>\n",
       "      <th>1499</th>\n",
       "      <td>Meagre and spare, like all the other rooms, it...</td>\n",
       "      <td>188</td>\n",
       "    </tr>\n",
       "    <tr>\n",
       "      <th>1241</th>\n",
       "      <td>At first he had appreciated only the material ...</td>\n",
       "      <td>186</td>\n",
       "    </tr>\n",
       "    <tr>\n",
       "      <th>1292</th>\n",
       "      <td>My depression was not alleviated by the announ...</td>\n",
       "      <td>186</td>\n",
       "    </tr>\n",
       "    <tr>\n",
       "      <th>629</th>\n",
       "      <td>After the first glance, there were slight feat...</td>\n",
       "      <td>179</td>\n",
       "    </tr>\n",
       "    <tr>\n",
       "      <th>761</th>\n",
       "      <td>secondly, if it should appear that the conditi...</td>\n",
       "      <td>178</td>\n",
       "    </tr>\n",
       "    <tr>\n",
       "      <th>1398</th>\n",
       "      <td>Like a woman who had slipped off her print dre...</td>\n",
       "      <td>167</td>\n",
       "    </tr>\n",
       "    <tr>\n",
       "      <th>1329</th>\n",
       "      <td>her nose, just perceptibly wrinkled in a frown...</td>\n",
       "      <td>165</td>\n",
       "    </tr>\n",
       "    <tr>\n",
       "      <th>278</th>\n",
       "      <td>In bed we concocted our plans for the morrow. ...</td>\n",
       "      <td>165</td>\n",
       "    </tr>\n",
       "    <tr>\n",
       "      <th>1201</th>\n",
       "      <td>There he sat down and waited for the sun to ri...</td>\n",
       "      <td>158</td>\n",
       "    </tr>\n",
       "    <tr>\n",
       "      <th>515</th>\n",
       "      <td>The moment when a man's head drops off is seld...</td>\n",
       "      <td>155</td>\n",
       "    </tr>\n",
       "    <tr>\n",
       "      <th>346</th>\n",
       "      <td>There was one among them which was a tall pane...</td>\n",
       "      <td>153</td>\n",
       "    </tr>\n",
       "    <tr>\n",
       "      <th>179</th>\n",
       "      <td>He had written out various speeches and memora...</td>\n",
       "      <td>152</td>\n",
       "    </tr>\n",
       "    <tr>\n",
       "      <th>461</th>\n",
       "      <td>Lowten,' said Perker, when they reached the ou...</td>\n",
       "      <td>152</td>\n",
       "    </tr>\n",
       "    <tr>\n",
       "      <th>579</th>\n",
       "      <td>After that, we went into Chancery, where we ar...</td>\n",
       "      <td>151</td>\n",
       "    </tr>\n",
       "    <tr>\n",
       "      <th>210</th>\n",
       "      <td>Whether these, and many other stories of the l...</td>\n",
       "      <td>150</td>\n",
       "    </tr>\n",
       "    <tr>\n",
       "      <th>938</th>\n",
       "      <td>Preoccupied, however, as Maisie was with the i...</td>\n",
       "      <td>150</td>\n",
       "    </tr>\n",
       "    <tr>\n",
       "      <th>1316</th>\n",
       "      <td>And, now, he approached the great city, which ...</td>\n",
       "      <td>147</td>\n",
       "    </tr>\n",
       "    <tr>\n",
       "      <th>543</th>\n",
       "      <td>In all her intercourse with society, however, ...</td>\n",
       "      <td>146</td>\n",
       "    </tr>\n",
       "    <tr>\n",
       "      <th>1270</th>\n",
       "      <td>In that hour she repeated what the merciful ey...</td>\n",
       "      <td>145</td>\n",
       "    </tr>\n",
       "    <tr>\n",
       "      <th>475</th>\n",
       "      <td>It sounds, no doubt, too penetrating, but it w...</td>\n",
       "      <td>145</td>\n",
       "    </tr>\n",
       "    <tr>\n",
       "      <th>1087</th>\n",
       "      <td>But farther on the current slackened, where th...</td>\n",
       "      <td>145</td>\n",
       "    </tr>\n",
       "    <tr>\n",
       "      <th>1603</th>\n",
       "      <td>And, quite possibly, this lack (or seeming lac...</td>\n",
       "      <td>145</td>\n",
       "    </tr>\n",
       "    <tr>\n",
       "      <th>810</th>\n",
       "      <td>He invaded the turmoil and tumble of the down-...</td>\n",
       "      <td>145</td>\n",
       "    </tr>\n",
       "    <tr>\n",
       "      <th>993</th>\n",
       "      <td>Some men kneeled down, made scoops of their tw...</td>\n",
       "      <td>145</td>\n",
       "    </tr>\n",
       "    <tr>\n",
       "      <th>231</th>\n",
       "      <td>They were, I now saw, the most unearthly creat...</td>\n",
       "      <td>144</td>\n",
       "    </tr>\n",
       "  </tbody>\n",
       "</table>\n",
       "</div>"
      ],
      "text/plain": [
       "                                                passage  word_count\n",
       "1281  Natásha's illness was so serious that, fortuna...         240\n",
       "376   then you saw a lifeboat full of children with ...         239\n",
       "914   In the hardest working part of Coketown; in th...         207\n",
       "1559  It may be that he pursues her doggedly and ste...         191\n",
       "768   it passed thus close by me, in action, so to s...         190\n",
       "1499  Meagre and spare, like all the other rooms, it...         188\n",
       "1241  At first he had appreciated only the material ...         186\n",
       "1292  My depression was not alleviated by the announ...         186\n",
       "629   After the first glance, there were slight feat...         179\n",
       "761   secondly, if it should appear that the conditi...         178\n",
       "1398  Like a woman who had slipped off her print dre...         167\n",
       "1329  her nose, just perceptibly wrinkled in a frown...         165\n",
       "278   In bed we concocted our plans for the morrow. ...         165\n",
       "1201  There he sat down and waited for the sun to ri...         158\n",
       "515   The moment when a man's head drops off is seld...         155\n",
       "346   There was one among them which was a tall pane...         153\n",
       "179   He had written out various speeches and memora...         152\n",
       "461   Lowten,' said Perker, when they reached the ou...         152\n",
       "579   After that, we went into Chancery, where we ar...         151\n",
       "210   Whether these, and many other stories of the l...         150\n",
       "938   Preoccupied, however, as Maisie was with the i...         150\n",
       "1316  And, now, he approached the great city, which ...         147\n",
       "543   In all her intercourse with society, however, ...         146\n",
       "1270  In that hour she repeated what the merciful ey...         145\n",
       "475   It sounds, no doubt, too penetrating, but it w...         145\n",
       "1087  But farther on the current slackened, where th...         145\n",
       "1603  And, quite possibly, this lack (or seeming lac...         145\n",
       "810   He invaded the turmoil and tumble of the down-...         145\n",
       "993   Some men kneeled down, made scoops of their tw...         145\n",
       "231   They were, I now saw, the most unearthly creat...         144"
      ]
     },
     "execution_count": 19,
     "metadata": {},
     "output_type": "execute_result"
    }
   ],
   "source": [
    "merged.sort_values(by=['word_count'], ascending=False).head(30)[['passage', 'word_count']]"
   ]
  },
  {
   "cell_type": "code",
   "execution_count": 20,
   "id": "898f5139",
   "metadata": {},
   "outputs": [
    {
     "data": {
      "text/plain": [
       "['The work of one moment was destroyed by the next.',\n",
       " 'What is the meaning of life?',\n",
       " 'Carrie realised the change of affectional atmosphere at once.',\n",
       " 'I am tied down with single words.',\n",
       " 'A display!',\n",
       " 'but spectral, not really existing.',\n",
       " 'WHY should human equality be averted?',\n",
       " \"It wasn't a scene for a shudder;\",\n",
       " 'A bird twittered; two birds, three.',\n",
       " 'x',\n",
       " 'The verdict of human nature on such a wretch was death.',\n",
       " 'She possessed eyes whose gaze I delighted to encounter.',\n",
       " 'It most froze me to hear such talk.',\n",
       " 'All men live enveloped in whale-lines.',\n",
       " 'I opened the glass-door in the breakfast-room:',\n",
       " 'Winston stopped writing, partly because he was suffering from cramp.',\n",
       " 'Sailors loiter on the parade, and amorous couples;',\n",
       " 'She had thought him just the bright reflex of herself.',\n",
       " 'Would they but love her, she should be satisfied.',\n",
       " 'All here is false; all is meretricious.',\n",
       " 'he is a tyrant; he wears Mrs. Ramsay to death;',\n",
       " \"it's Cana of Galilee, the first miracle....\",\n",
       " 'It would have hurt her if he had refused to come.',\n",
       " 'Silent and terrified, the animals crept back into the barn.',\n",
       " 'She was too full of wonder and desire to be greedy.',\n",
       " \"But she's got a friend of hers there;\",\n",
       " 'Having given his evidence, the celebrated doctor withdrew.',\n",
       " 'Did he shoot my lapwings, Nelly?',\n",
       " 'Thus stood before these radiant bourgeois this half-century of servitude.',\n",
       " 'Why do you tell me that?',\n",
       " 'His rough and hairy voice is like an unshaven chin.',\n",
       " 'That was it. He finished.',\n",
       " 'Hurstwood was an interesting character after his kind.',\n",
       " \"Fro' first to last, a muddle!'\",\n",
       " 'I have seen her in every age and in every costume.',\n",
       " 'Yet I don’t stop to plug my leak;',\n",
       " 'I cannot be divided, or kept apart.',\n",
       " 'Seeming would be quite enough: I ask no more.',\n",
       " 'a moth-like impetuosity dashing itself against hard glass.',\n",
       " 'She heard it as people hear things in their sleep.',\n",
       " 'Instantly there flamed up in his body the all compelling desire.',\n",
       " 'She was not a woman of strong understanding or any quickness;',\n",
       " 'perhaps she did not care to, indeed.',\n",
       " 'Seems like the brighter they are, the farther they go.',\n",
       " 'God gave the day, God gave the strength.',\n",
       " 'They express themselves, and I leave them to themselves.',\n",
       " 'There was a little muslin curtain drawn across it.',\n",
       " 'He flushed crimson, his eyes glowed, his lips quivered.',\n",
       " 'He began to feel mad with the rage of impotency.',\n",
       " 'Catherine coloured, and disclaimed again.',\n",
       " 'That October Governor Bullock resigned his office and fled from Georgia.',\n",
       " \"'if you'll find the materials.'\",\n",
       " 'And in the same nervous frenzy, too, he spoke.',\n",
       " 'A Caucus-Race and a Long Tale',\n",
       " 'Mother is putting my new secondhand clothes in order.',\n",
       " 'I sat gazing at him, spell-bound.',\n",
       " 'Eh, no matter, forward...',\n",
       " 'Never had his soul felt so flayed and uncreated.',\n",
       " 'and silently handed his glass to old Sillerton Jackson.',\n",
       " 'She knew that she had improved in appearance.',\n",
       " 'the sort that needs no helmet in the most brain-battering fight!',\n",
       " 'An odor of grasping, begrimed hands and munching mouths pervaded.',\n",
       " 'But Buck possessed a quality that made for greatness-imagination.',\n",
       " 'I am Josiah Bounderby of Coketown.',\n",
       " 'His attention took them all tenderly into account.',\n",
       " 'Her room was warm and lightsome.',\n",
       " 'The real hues are delicate, and need a clearer vision.',\n",
       " 'With Julia, everything came back to her own sexuality.',\n",
       " \"' Don't! Pray don't beat me!\",\n",
       " 'And how he had pressed in on her!',\n",
       " \"' I am bad, I am lost.\"]"
      ]
     },
     "execution_count": 20,
     "metadata": {},
     "output_type": "execute_result"
    }
   ],
   "source": [
    "list(merged[merged['word_count'] < 13.0]['passage'])"
   ]
  },
  {
   "cell_type": "code",
   "execution_count": 22,
   "id": "373d0b5c",
   "metadata": {},
   "outputs": [
    {
     "data": {
      "text/plain": [
       "80"
      ]
     },
     "execution_count": 22,
     "metadata": {},
     "output_type": "execute_result"
    }
   ],
   "source": [
    "len(list(merged[merged['word_count'] > 112]['claim_id']))"
   ]
  },
  {
   "cell_type": "code",
   "execution_count": null,
   "id": "65e58c6f",
   "metadata": {},
   "outputs": [],
   "source": []
  }
 ],
 "metadata": {
  "kernelspec": {
   "display_name": "Python [conda env:anlp] *",
   "language": "python",
   "name": "conda-env-anlp-py"
  },
  "language_info": {
   "codemirror_mode": {
    "name": "ipython",
    "version": 3
   },
   "file_extension": ".py",
   "mimetype": "text/x-python",
   "name": "python",
   "nbconvert_exporter": "python",
   "pygments_lexer": "ipython3",
   "version": "3.8.8"
  }
 },
 "nbformat": 4,
 "nbformat_minor": 5
}
