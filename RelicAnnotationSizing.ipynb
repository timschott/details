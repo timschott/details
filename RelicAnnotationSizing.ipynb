{
 "cells": [
  {
   "cell_type": "code",
   "execution_count": 1,
   "id": "4eb49c2d",
   "metadata": {},
   "outputs": [],
   "source": [
    "# pandas\n",
    "import pandas as pd\n",
    "\n",
    "# nltk for tokenization\n",
    "import nltk\n",
    "from nltk import sent_tokenize\n",
    "from nltk import word_tokenize\n",
    "\n",
    "# spacy for entity rec\n",
    "import spacy"
   ]
  },
  {
   "cell_type": "code",
   "execution_count": 2,
   "id": "c8bf92c3",
   "metadata": {},
   "outputs": [],
   "source": [
    "nlp = spacy.load('en_core_web_sm')"
   ]
  },
  {
   "cell_type": "code",
   "execution_count": 3,
   "id": "55052f35",
   "metadata": {},
   "outputs": [],
   "source": [
    "'''\n",
    "Read in .txts/.csvs of tagged sample data as a Pandas data frame\n",
    "Add appropriate header to the columns as well.\n",
    "'''\n",
    "def read_as_df(buckets_filename, claim_id_filename, passage_filename):\n",
    "    claim_ids = pd.read_csv(claim_id_filename, sep=\"\\n\")\n",
    "    buckets = pd.read_csv(buckets_filename, sep=\"\\n\")\n",
    "    passages = pd.read_csv(passage_filename, sep=\"\\n\")\n",
    "    df_col_merged = pd.concat([claim_ids, buckets, passages], axis=1)\n",
    "\n",
    "    return df_col_merged"
   ]
  },
  {
   "cell_type": "code",
   "execution_count": 4,
   "id": "ae73d922",
   "metadata": {},
   "outputs": [],
   "source": [
    "merged = read_as_df('data/relic_prev_buckets.txt', 'data/relic_prev_ids.csv', 'data/relic_prev_passages.txt')"
   ]
  },
  {
   "cell_type": "code",
   "execution_count": 5,
   "id": "cc55b8d1",
   "metadata": {},
   "outputs": [
    {
     "data": {
      "text/html": [
       "<div>\n",
       "<style scoped>\n",
       "    .dataframe tbody tr th:only-of-type {\n",
       "        vertical-align: middle;\n",
       "    }\n",
       "\n",
       "    .dataframe tbody tr th {\n",
       "        vertical-align: top;\n",
       "    }\n",
       "\n",
       "    .dataframe thead th {\n",
       "        text-align: right;\n",
       "    }\n",
       "</style>\n",
       "<table border=\"1\" class=\"dataframe\">\n",
       "  <thead>\n",
       "    <tr style=\"text-align: right;\">\n",
       "      <th></th>\n",
       "      <th>claim_id</th>\n",
       "      <th>bucket</th>\n",
       "      <th>passage</th>\n",
       "    </tr>\n",
       "  </thead>\n",
       "  <tbody>\n",
       "    <tr>\n",
       "      <th>0</th>\n",
       "      <td>13861</td>\n",
       "      <td>metaphor</td>\n",
       "      <td>The work of one moment was destroyed by the next.</td>\n",
       "    </tr>\n",
       "    <tr>\n",
       "      <th>1</th>\n",
       "      <td>55809</td>\n",
       "      <td>metaphor</td>\n",
       "      <td>How should they learn the entry into the finer...</td>\n",
       "    </tr>\n",
       "    <tr>\n",
       "      <th>2</th>\n",
       "      <td>3193</td>\n",
       "      <td>x</td>\n",
       "      <td>What is the meaning of life?</td>\n",
       "    </tr>\n",
       "    <tr>\n",
       "      <th>3</th>\n",
       "      <td>18123</td>\n",
       "      <td>internal character experience</td>\n",
       "      <td>His mind pictured the soldiers who would place...</td>\n",
       "    </tr>\n",
       "    <tr>\n",
       "      <th>4</th>\n",
       "      <td>18448</td>\n",
       "      <td>embellishing an event</td>\n",
       "      <td>He yelled then with fright and swung about. Fo...</td>\n",
       "    </tr>\n",
       "  </tbody>\n",
       "</table>\n",
       "</div>"
      ],
      "text/plain": [
       "   claim_id                         bucket  \\\n",
       "0     13861                       metaphor   \n",
       "1     55809                       metaphor   \n",
       "2      3193                              x   \n",
       "3     18123  internal character experience   \n",
       "4     18448          embellishing an event   \n",
       "\n",
       "                                             passage  \n",
       "0  The work of one moment was destroyed by the next.  \n",
       "1  How should they learn the entry into the finer...  \n",
       "2                       What is the meaning of life?  \n",
       "3  His mind pictured the soldiers who would place...  \n",
       "4  He yelled then with fright and swung about. Fo...  "
      ]
     },
     "execution_count": 5,
     "metadata": {},
     "output_type": "execute_result"
    }
   ],
   "source": [
    "merged.head()"
   ]
  },
  {
   "cell_type": "code",
   "execution_count": 6,
   "id": "6b4fde14",
   "metadata": {},
   "outputs": [],
   "source": [
    "def get_word_count(passage):\n",
    "    return len(word_tokenize(passage))"
   ]
  },
  {
   "cell_type": "code",
   "execution_count": 7,
   "id": "843913a1",
   "metadata": {},
   "outputs": [],
   "source": [
    "def get_sentence_count(passage):\n",
    "    return len(sent_tokenize(passage))"
   ]
  },
  {
   "cell_type": "code",
   "execution_count": 8,
   "id": "86375986",
   "metadata": {},
   "outputs": [],
   "source": [
    "def get_entity_count(passage):\n",
    "    doc = nlp(passage)\n",
    "    return len(doc.ents)"
   ]
  },
  {
   "cell_type": "code",
   "execution_count": 9,
   "id": "1a257e3e",
   "metadata": {},
   "outputs": [],
   "source": [
    "def detect_first_person_passage(passage):\n",
    "    passage_words = word_tokenize(passage)\n",
    "    return \"I\" in passage_words or \"me\" in passage_words or \"my\" in passage_words or \"we\" in passage_words or \"our\" in passage_words"
   ]
  },
  {
   "cell_type": "code",
   "execution_count": 10,
   "id": "86f5e131",
   "metadata": {},
   "outputs": [],
   "source": [
    "# tally word count for each passage\n",
    "merged['word_count'] = merged.apply(lambda x: get_word_count(x.passage), axis=1)"
   ]
  },
  {
   "cell_type": "code",
   "execution_count": 11,
   "id": "5d9bea89",
   "metadata": {},
   "outputs": [],
   "source": [
    "# tally sentence count for each passage\n",
    "merged['sentence_count'] = merged.apply(lambda x: get_sentence_count(x.passage), axis=1)"
   ]
  },
  {
   "cell_type": "code",
   "execution_count": 12,
   "id": "e979bffa",
   "metadata": {},
   "outputs": [],
   "source": [
    "# tally named entity count for each passage\n",
    "merged['named_entity_count'] = merged.apply(lambda x: get_entity_count(x.passage), axis=1)"
   ]
  },
  {
   "cell_type": "code",
   "execution_count": 13,
   "id": "dc46de36",
   "metadata": {},
   "outputs": [],
   "source": [
    "# first person flag for each passage\n",
    "merged['first_person'] = merged.apply(lambda x: detect_first_person_passage(x.passage), axis=1)"
   ]
  },
  {
   "cell_type": "code",
   "execution_count": 14,
   "id": "1b280d57",
   "metadata": {},
   "outputs": [
    {
     "data": {
      "text/html": [
       "<div>\n",
       "<style scoped>\n",
       "    .dataframe tbody tr th:only-of-type {\n",
       "        vertical-align: middle;\n",
       "    }\n",
       "\n",
       "    .dataframe tbody tr th {\n",
       "        vertical-align: top;\n",
       "    }\n",
       "\n",
       "    .dataframe thead th {\n",
       "        text-align: right;\n",
       "    }\n",
       "</style>\n",
       "<table border=\"1\" class=\"dataframe\">\n",
       "  <thead>\n",
       "    <tr style=\"text-align: right;\">\n",
       "      <th></th>\n",
       "      <th>claim_id</th>\n",
       "      <th>bucket</th>\n",
       "      <th>passage</th>\n",
       "      <th>word_count</th>\n",
       "      <th>sentence_count</th>\n",
       "      <th>named_entity_count</th>\n",
       "      <th>first_person</th>\n",
       "    </tr>\n",
       "  </thead>\n",
       "  <tbody>\n",
       "    <tr>\n",
       "      <th>0</th>\n",
       "      <td>13861</td>\n",
       "      <td>metaphor</td>\n",
       "      <td>The work of one moment was destroyed by the next.</td>\n",
       "      <td>11</td>\n",
       "      <td>1</td>\n",
       "      <td>1</td>\n",
       "      <td>False</td>\n",
       "    </tr>\n",
       "    <tr>\n",
       "      <th>1</th>\n",
       "      <td>55809</td>\n",
       "      <td>metaphor</td>\n",
       "      <td>How should they learn the entry into the finer...</td>\n",
       "      <td>16</td>\n",
       "      <td>1</td>\n",
       "      <td>0</td>\n",
       "      <td>False</td>\n",
       "    </tr>\n",
       "    <tr>\n",
       "      <th>2</th>\n",
       "      <td>3193</td>\n",
       "      <td>x</td>\n",
       "      <td>What is the meaning of life?</td>\n",
       "      <td>7</td>\n",
       "      <td>1</td>\n",
       "      <td>0</td>\n",
       "      <td>False</td>\n",
       "    </tr>\n",
       "    <tr>\n",
       "      <th>3</th>\n",
       "      <td>18123</td>\n",
       "      <td>internal character experience</td>\n",
       "      <td>His mind pictured the soldiers who would place...</td>\n",
       "      <td>40</td>\n",
       "      <td>1</td>\n",
       "      <td>0</td>\n",
       "      <td>False</td>\n",
       "    </tr>\n",
       "    <tr>\n",
       "      <th>4</th>\n",
       "      <td>18448</td>\n",
       "      <td>embellishing an event</td>\n",
       "      <td>He yelled then with fright and swung about. Fo...</td>\n",
       "      <td>32</td>\n",
       "      <td>3</td>\n",
       "      <td>0</td>\n",
       "      <td>False</td>\n",
       "    </tr>\n",
       "  </tbody>\n",
       "</table>\n",
       "</div>"
      ],
      "text/plain": [
       "   claim_id                         bucket  \\\n",
       "0     13861                       metaphor   \n",
       "1     55809                       metaphor   \n",
       "2      3193                              x   \n",
       "3     18123  internal character experience   \n",
       "4     18448          embellishing an event   \n",
       "\n",
       "                                             passage  word_count  \\\n",
       "0  The work of one moment was destroyed by the next.          11   \n",
       "1  How should they learn the entry into the finer...          16   \n",
       "2                       What is the meaning of life?           7   \n",
       "3  His mind pictured the soldiers who would place...          40   \n",
       "4  He yelled then with fright and swung about. Fo...          32   \n",
       "\n",
       "   sentence_count  named_entity_count  first_person  \n",
       "0               1                   1         False  \n",
       "1               1                   0         False  \n",
       "2               1                   0         False  \n",
       "3               1                   0         False  \n",
       "4               3                   0         False  "
      ]
     },
     "execution_count": 14,
     "metadata": {},
     "output_type": "execute_result"
    }
   ],
   "source": [
    "merged.head()"
   ]
  },
  {
   "cell_type": "code",
   "execution_count": 15,
   "id": "b04d8a38",
   "metadata": {},
   "outputs": [
    {
     "data": {
      "text/plain": [
       "bucket\n",
       "embellishing an event            40.5\n",
       "external characterization        45.5\n",
       "informative detail               44.0\n",
       "internal character experience    42.0\n",
       "metaphor                         40.0\n",
       "sensory detail                   57.0\n",
       "x                                34.0\n",
       "Name: word_count, dtype: float64"
      ]
     },
     "execution_count": 15,
     "metadata": {},
     "output_type": "execute_result"
    }
   ],
   "source": [
    "# word count per group\n",
    "merged.groupby(['bucket'])['word_count'].median()"
   ]
  },
  {
   "cell_type": "code",
   "execution_count": 16,
   "id": "5351417a",
   "metadata": {},
   "outputs": [
    {
     "data": {
      "text/plain": [
       "13.0"
      ]
     },
     "execution_count": 16,
     "metadata": {},
     "output_type": "execute_result"
    }
   ],
   "source": [
    "# 5th percentile\n",
    "merged['word_count'].quantile(0.05)"
   ]
  },
  {
   "cell_type": "code",
   "execution_count": 17,
   "id": "4c2bb642",
   "metadata": {},
   "outputs": [
    {
     "data": {
      "text/plain": [
       "114.15000000000009"
      ]
     },
     "execution_count": 17,
     "metadata": {},
     "output_type": "execute_result"
    }
   ],
   "source": [
    "# 95th percentile\n",
    "merged['word_count'].quantile(0.95)"
   ]
  },
  {
   "cell_type": "code",
   "execution_count": 18,
   "id": "a06dd647",
   "metadata": {},
   "outputs": [
    {
     "data": {
      "text/plain": [
       "bucket\n",
       "embellishing an event            0.907514\n",
       "external characterization        0.916244\n",
       "informative detail               1.366397\n",
       "internal character experience    0.596154\n",
       "metaphor                         0.828767\n",
       "sensory detail                   0.976109\n",
       "x                                0.836991\n",
       "Name: named_entity_count, dtype: float64"
      ]
     },
     "execution_count": 18,
     "metadata": {},
     "output_type": "execute_result"
    }
   ],
   "source": [
    "# entity count per group\n",
    "merged.groupby(['bucket'])['named_entity_count'].mean()"
   ]
  },
  {
   "cell_type": "code",
   "execution_count": 17,
   "id": "5128f44d",
   "metadata": {},
   "outputs": [],
   "source": [
    "#fpov\n",
    "to_check = ['informative detail']\n",
    "fp_df = merged[(merged['first_person'] == True) & (merged['bucket'].isin(to_check))]"
   ]
  },
  {
   "cell_type": "code",
   "execution_count": 18,
   "id": "404bc2b7",
   "metadata": {},
   "outputs": [
    {
     "data": {
      "text/plain": [
       "bucket\n",
       "informative detail    141\n",
       "Name: first_person, dtype: int64"
      ]
     },
     "execution_count": 18,
     "metadata": {},
     "output_type": "execute_result"
    }
   ],
   "source": [
    "fp_df.groupby(['bucket'])['first_person'].sum()"
   ]
  },
  {
   "cell_type": "code",
   "execution_count": 19,
   "id": "3da1ceb1",
   "metadata": {},
   "outputs": [
    {
     "data": {
      "text/plain": [
       "<AxesSubplot:>"
      ]
     },
     "execution_count": 19,
     "metadata": {},
     "output_type": "execute_result"
    },
    {
     "data": {
      "image/png": "[encoded data removed]",
      "text/plain": [
       "<Figure size 432x288 with 1 Axes>"
      ]
     },
     "metadata": {
      "needs_background": "light"
     },
     "output_type": "display_data"
    }
   ],
   "source": [
    "merged['word_count'].hist()"
   ]
  },
  {
   "cell_type": "code",
   "execution_count": 20,
   "id": "a9d9170c",
   "metadata": {},
   "outputs": [
    {
     "data": {
      "text/plain": [
       "<AxesSubplot:>"
      ]
     },
     "execution_count": 20,
     "metadata": {},
     "output_type": "execute_result"
    },
    {
     "data": {
      "image/png": "[encoded data removed]",
      "text/plain": [
       "<Figure size 432x288 with 1 Axes>"
      ]
     },
     "metadata": {
      "needs_background": "light"
     },
     "output_type": "display_data"
    }
   ],
   "source": [
    "merged['sentence_count'].hist()"
   ]
  },
  {
   "cell_type": "code",
   "execution_count": 21,
   "id": "7b7ca19e",
   "metadata": {},
   "outputs": [
    {
     "data": {
      "text/plain": [
       "bucket\n",
       "embellishing an event            1.907514\n",
       "external characterization        1.862944\n",
       "informative detail               1.813765\n",
       "internal character experience    1.853846\n",
       "metaphor                         1.640411\n",
       "sensory detail                   1.914676\n",
       "x                                1.865204\n",
       "Name: sentence_count, dtype: float64"
      ]
     },
     "execution_count": 21,
     "metadata": {},
     "output_type": "execute_result"
    }
   ],
   "source": [
    "# sentence count per group\n",
    "merged.groupby(['bucket'])['sentence_count'].mean()"
   ]
  },
  {
   "cell_type": "code",
   "execution_count": 25,
   "id": "5f753b36",
   "metadata": {},
   "outputs": [
    {
     "data": {
      "text/html": [
       "<div>\n",
       "<style scoped>\n",
       "    .dataframe tbody tr th:only-of-type {\n",
       "        vertical-align: middle;\n",
       "    }\n",
       "\n",
       "    .dataframe tbody tr th {\n",
       "        vertical-align: top;\n",
       "    }\n",
       "\n",
       "    .dataframe thead th {\n",
       "        text-align: right;\n",
       "    }\n",
       "</style>\n",
       "<table border=\"1\" class=\"dataframe\">\n",
       "  <thead>\n",
       "    <tr style=\"text-align: right;\">\n",
       "      <th></th>\n",
       "      <th>passage</th>\n",
       "      <th>word_count</th>\n",
       "    </tr>\n",
       "  </thead>\n",
       "  <tbody>\n",
       "    <tr>\n",
       "      <th>1281</th>\n",
       "      <td>Natásha's illness was so serious that, fortuna...</td>\n",
       "      <td>240</td>\n",
       "    </tr>\n",
       "    <tr>\n",
       "      <th>376</th>\n",
       "      <td>then you saw a lifeboat full of children with ...</td>\n",
       "      <td>239</td>\n",
       "    </tr>\n",
       "    <tr>\n",
       "      <th>914</th>\n",
       "      <td>In the hardest working part of Coketown; in th...</td>\n",
       "      <td>207</td>\n",
       "    </tr>\n",
       "    <tr>\n",
       "      <th>2230</th>\n",
       "      <td>I was so conscious of having passed through sc...</td>\n",
       "      <td>201</td>\n",
       "    </tr>\n",
       "    <tr>\n",
       "      <th>1559</th>\n",
       "      <td>It may be that he pursues her doggedly and ste...</td>\n",
       "      <td>191</td>\n",
       "    </tr>\n",
       "    <tr>\n",
       "      <th>2222</th>\n",
       "      <td>in a word, seen always at the same evening hou...</td>\n",
       "      <td>190</td>\n",
       "    </tr>\n",
       "    <tr>\n",
       "      <th>768</th>\n",
       "      <td>it passed thus close by me, in action, so to s...</td>\n",
       "      <td>190</td>\n",
       "    </tr>\n",
       "    <tr>\n",
       "      <th>1639</th>\n",
       "      <td>Then the active and intelligent, who has got i...</td>\n",
       "      <td>189</td>\n",
       "    </tr>\n",
       "    <tr>\n",
       "      <th>1855</th>\n",
       "      <td>She would have liked me to have in my room pho...</td>\n",
       "      <td>189</td>\n",
       "    </tr>\n",
       "    <tr>\n",
       "      <th>2200</th>\n",
       "      <td>In fact, Mr. Crummles, who could never lose an...</td>\n",
       "      <td>188</td>\n",
       "    </tr>\n",
       "    <tr>\n",
       "      <th>1499</th>\n",
       "      <td>Meagre and spare, like all the other rooms, it...</td>\n",
       "      <td>188</td>\n",
       "    </tr>\n",
       "    <tr>\n",
       "      <th>1241</th>\n",
       "      <td>At first he had appreciated only the material ...</td>\n",
       "      <td>186</td>\n",
       "    </tr>\n",
       "    <tr>\n",
       "      <th>1292</th>\n",
       "      <td>My depression was not alleviated by the announ...</td>\n",
       "      <td>186</td>\n",
       "    </tr>\n",
       "    <tr>\n",
       "      <th>2147</th>\n",
       "      <td>He was not ill fitted to be the head and repre...</td>\n",
       "      <td>184</td>\n",
       "    </tr>\n",
       "    <tr>\n",
       "      <th>629</th>\n",
       "      <td>After the first glance, there were slight feat...</td>\n",
       "      <td>179</td>\n",
       "    </tr>\n",
       "    <tr>\n",
       "      <th>761</th>\n",
       "      <td>secondly, if it should appear that the conditi...</td>\n",
       "      <td>178</td>\n",
       "    </tr>\n",
       "    <tr>\n",
       "      <th>2082</th>\n",
       "      <td>He was a person of very striking aspect, with ...</td>\n",
       "      <td>176</td>\n",
       "    </tr>\n",
       "    <tr>\n",
       "      <th>1845</th>\n",
       "      <td>In Marseilles that day there was a villainous ...</td>\n",
       "      <td>169</td>\n",
       "    </tr>\n",
       "    <tr>\n",
       "      <th>1398</th>\n",
       "      <td>Like a woman who had slipped off her print dre...</td>\n",
       "      <td>167</td>\n",
       "    </tr>\n",
       "    <tr>\n",
       "      <th>1329</th>\n",
       "      <td>her nose, just perceptibly wrinkled in a frown...</td>\n",
       "      <td>165</td>\n",
       "    </tr>\n",
       "    <tr>\n",
       "      <th>278</th>\n",
       "      <td>In bed we concocted our plans for the morrow. ...</td>\n",
       "      <td>165</td>\n",
       "    </tr>\n",
       "    <tr>\n",
       "      <th>1756</th>\n",
       "      <td>And then fell to pulling off, not only his jac...</td>\n",
       "      <td>165</td>\n",
       "    </tr>\n",
       "    <tr>\n",
       "      <th>2106</th>\n",
       "      <td>Exposed upon this surface of silence, which ab...</td>\n",
       "      <td>162</td>\n",
       "    </tr>\n",
       "    <tr>\n",
       "      <th>1631</th>\n",
       "      <td>In the main street of Ipswich, on the left-han...</td>\n",
       "      <td>159</td>\n",
       "    </tr>\n",
       "    <tr>\n",
       "      <th>1201</th>\n",
       "      <td>There he sat down and waited for the sun to ri...</td>\n",
       "      <td>158</td>\n",
       "    </tr>\n",
       "    <tr>\n",
       "      <th>2244</th>\n",
       "      <td>This charm of drawing him closer to her, which...</td>\n",
       "      <td>157</td>\n",
       "    </tr>\n",
       "    <tr>\n",
       "      <th>1791</th>\n",
       "      <td>And after dinner he made his way out into the ...</td>\n",
       "      <td>157</td>\n",
       "    </tr>\n",
       "    <tr>\n",
       "      <th>515</th>\n",
       "      <td>The moment when a man's head drops off is seld...</td>\n",
       "      <td>155</td>\n",
       "    </tr>\n",
       "    <tr>\n",
       "      <th>346</th>\n",
       "      <td>There was one among them which was a tall pane...</td>\n",
       "      <td>153</td>\n",
       "    </tr>\n",
       "    <tr>\n",
       "      <th>1712</th>\n",
       "      <td>Had my parents allowed me, when I read a book,...</td>\n",
       "      <td>153</td>\n",
       "    </tr>\n",
       "  </tbody>\n",
       "</table>\n",
       "</div>"
      ],
      "text/plain": [
       "                                                passage  word_count\n",
       "1281  Natásha's illness was so serious that, fortuna...         240\n",
       "376   then you saw a lifeboat full of children with ...         239\n",
       "914   In the hardest working part of Coketown; in th...         207\n",
       "2230  I was so conscious of having passed through sc...         201\n",
       "1559  It may be that he pursues her doggedly and ste...         191\n",
       "2222  in a word, seen always at the same evening hou...         190\n",
       "768   it passed thus close by me, in action, so to s...         190\n",
       "1639  Then the active and intelligent, who has got i...         189\n",
       "1855  She would have liked me to have in my room pho...         189\n",
       "2200  In fact, Mr. Crummles, who could never lose an...         188\n",
       "1499  Meagre and spare, like all the other rooms, it...         188\n",
       "1241  At first he had appreciated only the material ...         186\n",
       "1292  My depression was not alleviated by the announ...         186\n",
       "2147  He was not ill fitted to be the head and repre...         184\n",
       "629   After the first glance, there were slight feat...         179\n",
       "761   secondly, if it should appear that the conditi...         178\n",
       "2082  He was a person of very striking aspect, with ...         176\n",
       "1845  In Marseilles that day there was a villainous ...         169\n",
       "1398  Like a woman who had slipped off her print dre...         167\n",
       "1329  her nose, just perceptibly wrinkled in a frown...         165\n",
       "278   In bed we concocted our plans for the morrow. ...         165\n",
       "1756  And then fell to pulling off, not only his jac...         165\n",
       "2106  Exposed upon this surface of silence, which ab...         162\n",
       "1631  In the main street of Ipswich, on the left-han...         159\n",
       "1201  There he sat down and waited for the sun to ri...         158\n",
       "2244  This charm of drawing him closer to her, which...         157\n",
       "1791  And after dinner he made his way out into the ...         157\n",
       "515   The moment when a man's head drops off is seld...         155\n",
       "346   There was one among them which was a tall pane...         153\n",
       "1712  Had my parents allowed me, when I read a book,...         153"
      ]
     },
     "execution_count": 25,
     "metadata": {},
     "output_type": "execute_result"
    }
   ],
   "source": [
    "merged.sort_values(by=['word_count'], ascending=False).head(30)[['passage', 'word_count']]"
   ]
  },
  {
   "cell_type": "code",
   "execution_count": 26,
   "id": "898f5139",
   "metadata": {},
   "outputs": [
    {
     "data": {
      "text/plain": [
       "['The work of one moment was destroyed by the next.',\n",
       " 'What is the meaning of life?',\n",
       " 'Carrie realised the change of affectional atmosphere at once.',\n",
       " 'I am tied down with single words.',\n",
       " 'A display!',\n",
       " 'but spectral, not really existing.',\n",
       " 'WHY should human equality be averted?',\n",
       " \"It wasn't a scene for a shudder;\",\n",
       " 'A bird twittered; two birds, three.',\n",
       " 'x',\n",
       " 'The verdict of human nature on such a wretch was death.',\n",
       " 'She possessed eyes whose gaze I delighted to encounter.',\n",
       " 'It most froze me to hear such talk.',\n",
       " 'All men live enveloped in whale-lines.',\n",
       " 'I opened the glass-door in the breakfast-room:',\n",
       " 'Winston stopped writing, partly because he was suffering from cramp.',\n",
       " 'Sailors loiter on the parade, and amorous couples;',\n",
       " 'She had thought him just the bright reflex of herself.',\n",
       " 'Would they but love her, she should be satisfied.',\n",
       " 'All here is false; all is meretricious.',\n",
       " 'he is a tyrant; he wears Mrs. Ramsay to death;',\n",
       " \"it's Cana of Galilee, the first miracle....\",\n",
       " 'It would have hurt her if he had refused to come.',\n",
       " 'Silent and terrified, the animals crept back into the barn.',\n",
       " 'She was too full of wonder and desire to be greedy.',\n",
       " \"But she's got a friend of hers there;\",\n",
       " 'Having given his evidence, the celebrated doctor withdrew.',\n",
       " 'Did he shoot my lapwings, Nelly?',\n",
       " 'Thus stood before these radiant bourgeois this half-century of servitude.',\n",
       " 'Why do you tell me that?',\n",
       " 'His rough and hairy voice is like an unshaven chin.',\n",
       " 'That was it. He finished.',\n",
       " 'Hurstwood was an interesting character after his kind.',\n",
       " \"Fro' first to last, a muddle!'\",\n",
       " 'I have seen her in every age and in every costume.',\n",
       " 'Yet I don’t stop to plug my leak;',\n",
       " 'I cannot be divided, or kept apart.',\n",
       " 'Seeming would be quite enough: I ask no more.',\n",
       " 'a moth-like impetuosity dashing itself against hard glass.',\n",
       " 'She heard it as people hear things in their sleep.',\n",
       " 'Instantly there flamed up in his body the all compelling desire.',\n",
       " 'She was not a woman of strong understanding or any quickness;',\n",
       " 'perhaps she did not care to, indeed.',\n",
       " 'Seems like the brighter they are, the farther they go.',\n",
       " 'God gave the day, God gave the strength.',\n",
       " 'They express themselves, and I leave them to themselves.',\n",
       " 'There was a little muslin curtain drawn across it.',\n",
       " 'He flushed crimson, his eyes glowed, his lips quivered.',\n",
       " 'He began to feel mad with the rage of impotency.',\n",
       " 'Catherine coloured, and disclaimed again.',\n",
       " 'That October Governor Bullock resigned his office and fled from Georgia.',\n",
       " \"'if you'll find the materials.'\",\n",
       " 'And in the same nervous frenzy, too, he spoke.',\n",
       " 'A Caucus-Race and a Long Tale',\n",
       " 'Mother is putting my new secondhand clothes in order.',\n",
       " 'I sat gazing at him, spell-bound.',\n",
       " 'Eh, no matter, forward...',\n",
       " 'Never had his soul felt so flayed and uncreated.',\n",
       " 'and silently handed his glass to old Sillerton Jackson.',\n",
       " 'She knew that she had improved in appearance.',\n",
       " 'the sort that needs no helmet in the most brain-battering fight!',\n",
       " 'An odor of grasping, begrimed hands and munching mouths pervaded.',\n",
       " 'But Buck possessed a quality that made for greatness-imagination.',\n",
       " 'I am Josiah Bounderby of Coketown.',\n",
       " 'His attention took them all tenderly into account.',\n",
       " 'Her room was warm and lightsome.',\n",
       " 'The real hues are delicate, and need a clearer vision.',\n",
       " 'With Julia, everything came back to her own sexuality.',\n",
       " \"' Don't! Pray don't beat me!\",\n",
       " 'And how he had pressed in on her!',\n",
       " \"' I am bad, I am lost.\",\n",
       " 'Reality outran apprehension; Captain Ahab stood upon his quarter-deck.',\n",
       " 'Venerable are letters, infinitely brave, forlorn, and lost.',\n",
       " 'When is she dejected or melancholy?',\n",
       " \"I would make it the business of my life.'\",\n",
       " 'Red flowers grew through his flesh;',\n",
       " 'the whole of her tongue protruded from her mouth;',\n",
       " 'The artist is the creator of beautiful things.',\n",
       " \"He looked in the corner for the engraver's name.\",\n",
       " 'He was a sarcastic brute, Andrew said.',\n",
       " 'AND WILL STEPHEN NOT SING, MR DEDALUS?',\n",
       " 'The prosecutor swallowed this without a murmur.',\n",
       " 'Thor was born a chauffeur before there were cars to drive.',\n",
       " 'abutting on a churchyard small and shady.',\n",
       " 'Emma found again in adultery all the platitudes of marriage.',\n",
       " 'Dante, Parnell, Clane, Clongowes.',\n",
       " 'Off came a head. Reggie almost jumped.',\n",
       " 'She was more influenced by Bowers than she knew.',\n",
       " 'Why does she give these parties, he thought.',\n",
       " \"The structure is visible. We have made a dwelling-place. '\",\n",
       " 'the doll, seated in her little wicker carriage;',\n",
       " 'He took it scientifically in complete good faith.',\n",
       " \"'No, Betsey! Drink fair, wotever you do!'\",\n",
       " 'The weekday world had triumphed over the Sunday world.',\n",
       " 'but it is like the faintness of death.',\n",
       " \"Like it if you dare!'\",\n",
       " 'But we grow affecting: let us proceed.',\n",
       " 'What I contend for is the authenticity of the outline.',\n",
       " 'Pass Mr. E., Knightley, Jane, and myself.',\n",
       " 'The whole country about them abounded in beautiful walks.',\n",
       " \"Tom D'Invilliers became at first an occasion rather than a friend.\",\n",
       " 'Now she would have a nice new jacket!',\n",
       " 'The pleasure, the spontaneous joy was not there any longer.',\n",
       " 'At last the door opened and his servant entered.',\n",
       " 'Her father was feeling in his pockets;',\n",
       " 'Sir Claude had rescued Maisie and kept hold of her;',\n",
       " 'I could not collect myself; I could not distinguish myself;',\n",
       " 'Surely all this is not without meaning.',\n",
       " \"It's a fine bit of work, Susan!\",\n",
       " 'There was rustling and muttering among the men.',\n",
       " 'Carrie had no excellent home principles fixed upon her.',\n",
       " 'No warmth of feeling united it organically.',\n",
       " 'The light is come upon the dark benighted way.',\n",
       " 'the Source of Life was also the Saviour of spirits.',\n",
       " 'England, my England! But which is MY England?',\n",
       " 'What was really between them they could not utter.']"
      ]
     },
     "execution_count": 26,
     "metadata": {},
     "output_type": "execute_result"
    }
   ],
   "source": [
    "list(merged[merged['word_count'] < 13.0]['passage'])"
   ]
  },
  {
   "cell_type": "code",
   "execution_count": 27,
   "id": "373d0b5c",
   "metadata": {},
   "outputs": [
    {
     "data": {
      "text/plain": [
       "126"
      ]
     },
     "execution_count": 27,
     "metadata": {},
     "output_type": "execute_result"
    }
   ],
   "source": [
    "len(list(merged[merged['word_count'] > 112]['claim_id']))"
   ]
  },
  {
   "cell_type": "code",
   "execution_count": 28,
   "id": "65e58c6f",
   "metadata": {},
   "outputs": [],
   "source": [
    "# write out fpov .csv\n",
    "fp_df.sort_values(by=['bucket'], ascending=True)[['claim_id', 'bucket', 'passage']].to_csv('data/first_person_id_passages.csv', index=False)"
   ]
  },
  {
   "cell_type": "code",
   "execution_count": null,
   "id": "2cda335e",
   "metadata": {},
   "outputs": [],
   "source": []
  }
 ],
 "metadata": {
  "kernelspec": {
   "display_name": "Python [conda env:anlp] *",
   "language": "python",
   "name": "conda-env-anlp-py"
  },
  "language_info": {
   "codemirror_mode": {
    "name": "ipython",
    "version": 3
   },
   "file_extension": ".py",
   "mimetype": "text/x-python",
   "name": "python",
   "nbconvert_exporter": "python",
   "pygments_lexer": "ipython3",
   "version": "3.8.8"
  }
 },
 "nbformat": 4,
 "nbformat_minor": 5
}
