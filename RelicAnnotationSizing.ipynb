{
 "cells": [
  {
   "cell_type": "code",
   "execution_count": 2,
   "id": "4eb49c2d",
   "metadata": {},
   "outputs": [],
   "source": [
    "# pandas\n",
    "import pandas as pd\n",
    "\n",
    "# nltk for tokenization\n",
    "import nltk\n",
    "from nltk import sent_tokenize\n",
    "from nltk import word_tokenize\n",
    "\n",
    "# spacy for entity rec\n",
    "import spacy"
   ]
  },
  {
   "cell_type": "code",
   "execution_count": 3,
   "id": "c8bf92c3",
   "metadata": {},
   "outputs": [],
   "source": [
    "nlp = spacy.load('en_core_web_sm')"
   ]
  },
  {
   "cell_type": "code",
   "execution_count": 4,
   "id": "55052f35",
   "metadata": {},
   "outputs": [],
   "source": [
    "'''\n",
    "Read in .txts/.csvs of tagged sample data as a Pandas data frame\n",
    "Add appropriate header to the columns as well.\n",
    "'''\n",
    "def read_as_df(buckets_filename, claim_id_filename, passage_filename, dir_prefix):\n",
    "    claim_ids = pd.read_csv(dir_prefix+claim_id_filename, sep=\"\\n\")\n",
    "    buckets = pd.read_csv(dir_prefix+buckets_filename, sep=\"\\n\")\n",
    "    passages = pd.read_csv(dir_prefix+passage_filename, sep=\"\\n\")\n",
    "    df_col_merged = pd.concat([claim_ids, buckets, passages], axis=1)\n",
    "\n",
    "    return df_col_merged"
   ]
  },
  {
   "cell_type": "code",
   "execution_count": 5,
   "id": "ae73d922",
   "metadata": {},
   "outputs": [],
   "source": [
    "merged = read_as_df('relic_prev_buckets.txt', 'relic_prev_ids.csv', 'relic_prev_passages.txt', 'data/relic/final-relic-annotations-2023/')"
   ]
  },
  {
   "cell_type": "code",
   "execution_count": 6,
   "id": "cc55b8d1",
   "metadata": {},
   "outputs": [
    {
     "data": {
      "text/html": [
       "<div>\n",
       "<style scoped>\n",
       "    .dataframe tbody tr th:only-of-type {\n",
       "        vertical-align: middle;\n",
       "    }\n",
       "\n",
       "    .dataframe tbody tr th {\n",
       "        vertical-align: top;\n",
       "    }\n",
       "\n",
       "    .dataframe thead th {\n",
       "        text-align: right;\n",
       "    }\n",
       "</style>\n",
       "<table border=\"1\" class=\"dataframe\">\n",
       "  <thead>\n",
       "    <tr style=\"text-align: right;\">\n",
       "      <th></th>\n",
       "      <th>claim_id</th>\n",
       "      <th>bucket</th>\n",
       "      <th>passage</th>\n",
       "    </tr>\n",
       "  </thead>\n",
       "  <tbody>\n",
       "    <tr>\n",
       "      <th>0</th>\n",
       "      <td>13861</td>\n",
       "      <td>metaphor</td>\n",
       "      <td>The work of one moment was destroyed by the next.</td>\n",
       "    </tr>\n",
       "    <tr>\n",
       "      <th>1</th>\n",
       "      <td>55809</td>\n",
       "      <td>metaphor</td>\n",
       "      <td>How should they learn the entry into the finer...</td>\n",
       "    </tr>\n",
       "    <tr>\n",
       "      <th>2</th>\n",
       "      <td>3193</td>\n",
       "      <td>x</td>\n",
       "      <td>What is the meaning of life?</td>\n",
       "    </tr>\n",
       "    <tr>\n",
       "      <th>3</th>\n",
       "      <td>18123</td>\n",
       "      <td>internal character experience</td>\n",
       "      <td>His mind pictured the soldiers who would place...</td>\n",
       "    </tr>\n",
       "    <tr>\n",
       "      <th>4</th>\n",
       "      <td>18448</td>\n",
       "      <td>embellishing an event</td>\n",
       "      <td>He yelled then with fright and swung about. Fo...</td>\n",
       "    </tr>\n",
       "  </tbody>\n",
       "</table>\n",
       "</div>"
      ],
      "text/plain": [
       "   claim_id                         bucket  \\\n",
       "0     13861                       metaphor   \n",
       "1     55809                       metaphor   \n",
       "2      3193                              x   \n",
       "3     18123  internal character experience   \n",
       "4     18448          embellishing an event   \n",
       "\n",
       "                                             passage  \n",
       "0  The work of one moment was destroyed by the next.  \n",
       "1  How should they learn the entry into the finer...  \n",
       "2                       What is the meaning of life?  \n",
       "3  His mind pictured the soldiers who would place...  \n",
       "4  He yelled then with fright and swung about. Fo...  "
      ]
     },
     "execution_count": 6,
     "metadata": {},
     "output_type": "execute_result"
    }
   ],
   "source": [
    "merged.head()"
   ]
  },
  {
   "cell_type": "code",
   "execution_count": 7,
   "id": "6b4fde14",
   "metadata": {},
   "outputs": [],
   "source": [
    "def get_word_count(passage):\n",
    "    return len(word_tokenize(passage))"
   ]
  },
  {
   "cell_type": "code",
   "execution_count": 8,
   "id": "843913a1",
   "metadata": {},
   "outputs": [],
   "source": [
    "def get_sentence_count(passage):\n",
    "    return len(sent_tokenize(passage))"
   ]
  },
  {
   "cell_type": "code",
   "execution_count": 9,
   "id": "86375986",
   "metadata": {},
   "outputs": [],
   "source": [
    "def get_entity_count(passage):\n",
    "    doc = nlp(passage)\n",
    "    return len(doc.ents)"
   ]
  },
  {
   "cell_type": "code",
   "execution_count": 10,
   "id": "1a257e3e",
   "metadata": {},
   "outputs": [],
   "source": [
    "def detect_first_person_passage(passage):\n",
    "    passage_words = word_tokenize(passage)\n",
    "    return \"I\" in passage_words or \"me\" in passage_words or \"my\" in passage_words or \"we\" in passage_words or \"our\" in passage_words"
   ]
  },
  {
   "cell_type": "code",
   "execution_count": 11,
   "id": "86f5e131",
   "metadata": {},
   "outputs": [],
   "source": [
    "# tally word count for each passage\n",
    "merged['word_count'] = merged.apply(lambda x: get_word_count(x.passage), axis=1)"
   ]
  },
  {
   "cell_type": "code",
   "execution_count": 12,
   "id": "5d9bea89",
   "metadata": {},
   "outputs": [],
   "source": [
    "# tally sentence count for each passage\n",
    "merged['sentence_count'] = merged.apply(lambda x: get_sentence_count(x.passage), axis=1)"
   ]
  },
  {
   "cell_type": "code",
   "execution_count": 13,
   "id": "e979bffa",
   "metadata": {},
   "outputs": [],
   "source": [
    "# tally named entity count for each passage\n",
    "merged['named_entity_count'] = merged.apply(lambda x: get_entity_count(x.passage), axis=1)"
   ]
  },
  {
   "cell_type": "code",
   "execution_count": 14,
   "id": "dc46de36",
   "metadata": {},
   "outputs": [],
   "source": [
    "# first person flag for each passage\n",
    "merged['first_person'] = merged.apply(lambda x: detect_first_person_passage(x.passage), axis=1)"
   ]
  },
  {
   "cell_type": "code",
   "execution_count": 15,
   "id": "1b280d57",
   "metadata": {},
   "outputs": [
    {
     "data": {
      "text/html": [
       "<div>\n",
       "<style scoped>\n",
       "    .dataframe tbody tr th:only-of-type {\n",
       "        vertical-align: middle;\n",
       "    }\n",
       "\n",
       "    .dataframe tbody tr th {\n",
       "        vertical-align: top;\n",
       "    }\n",
       "\n",
       "    .dataframe thead th {\n",
       "        text-align: right;\n",
       "    }\n",
       "</style>\n",
       "<table border=\"1\" class=\"dataframe\">\n",
       "  <thead>\n",
       "    <tr style=\"text-align: right;\">\n",
       "      <th></th>\n",
       "      <th>claim_id</th>\n",
       "      <th>bucket</th>\n",
       "      <th>passage</th>\n",
       "      <th>word_count</th>\n",
       "      <th>sentence_count</th>\n",
       "      <th>named_entity_count</th>\n",
       "      <th>first_person</th>\n",
       "    </tr>\n",
       "  </thead>\n",
       "  <tbody>\n",
       "    <tr>\n",
       "      <th>0</th>\n",
       "      <td>13861</td>\n",
       "      <td>metaphor</td>\n",
       "      <td>The work of one moment was destroyed by the next.</td>\n",
       "      <td>11</td>\n",
       "      <td>1</td>\n",
       "      <td>1</td>\n",
       "      <td>False</td>\n",
       "    </tr>\n",
       "    <tr>\n",
       "      <th>1</th>\n",
       "      <td>55809</td>\n",
       "      <td>metaphor</td>\n",
       "      <td>How should they learn the entry into the finer...</td>\n",
       "      <td>16</td>\n",
       "      <td>1</td>\n",
       "      <td>0</td>\n",
       "      <td>False</td>\n",
       "    </tr>\n",
       "    <tr>\n",
       "      <th>2</th>\n",
       "      <td>3193</td>\n",
       "      <td>x</td>\n",
       "      <td>What is the meaning of life?</td>\n",
       "      <td>7</td>\n",
       "      <td>1</td>\n",
       "      <td>0</td>\n",
       "      <td>False</td>\n",
       "    </tr>\n",
       "    <tr>\n",
       "      <th>3</th>\n",
       "      <td>18123</td>\n",
       "      <td>internal character experience</td>\n",
       "      <td>His mind pictured the soldiers who would place...</td>\n",
       "      <td>40</td>\n",
       "      <td>1</td>\n",
       "      <td>0</td>\n",
       "      <td>False</td>\n",
       "    </tr>\n",
       "    <tr>\n",
       "      <th>4</th>\n",
       "      <td>18448</td>\n",
       "      <td>embellishing an event</td>\n",
       "      <td>He yelled then with fright and swung about. Fo...</td>\n",
       "      <td>32</td>\n",
       "      <td>3</td>\n",
       "      <td>0</td>\n",
       "      <td>False</td>\n",
       "    </tr>\n",
       "  </tbody>\n",
       "</table>\n",
       "</div>"
      ],
      "text/plain": [
       "   claim_id                         bucket  \\\n",
       "0     13861                       metaphor   \n",
       "1     55809                       metaphor   \n",
       "2      3193                              x   \n",
       "3     18123  internal character experience   \n",
       "4     18448          embellishing an event   \n",
       "\n",
       "                                             passage  word_count  \\\n",
       "0  The work of one moment was destroyed by the next.          11   \n",
       "1  How should they learn the entry into the finer...          16   \n",
       "2                       What is the meaning of life?           7   \n",
       "3  His mind pictured the soldiers who would place...          40   \n",
       "4  He yelled then with fright and swung about. Fo...          32   \n",
       "\n",
       "   sentence_count  named_entity_count  first_person  \n",
       "0               1                   1         False  \n",
       "1               1                   0         False  \n",
       "2               1                   0         False  \n",
       "3               1                   0         False  \n",
       "4               3                   0         False  "
      ]
     },
     "execution_count": 15,
     "metadata": {},
     "output_type": "execute_result"
    }
   ],
   "source": [
    "merged.head()"
   ]
  },
  {
   "cell_type": "code",
   "execution_count": 16,
   "id": "b04d8a38",
   "metadata": {},
   "outputs": [
    {
     "data": {
      "text/plain": [
       "bucket\n",
       "embellishing an event            41.0\n",
       "external characterization        45.5\n",
       "informative detail               43.5\n",
       "internal character experience    42.0\n",
       "metaphor                         40.0\n",
       "sensory detail                   56.5\n",
       "x                                34.0\n",
       "Name: word_count, dtype: float64"
      ]
     },
     "execution_count": 16,
     "metadata": {},
     "output_type": "execute_result"
    }
   ],
   "source": [
    "# median word count per group\n",
    "merged.groupby(['bucket'])['word_count'].median()"
   ]
  },
  {
   "cell_type": "code",
   "execution_count": 17,
   "id": "5351417a",
   "metadata": {},
   "outputs": [
    {
     "data": {
      "text/plain": [
       "13.0"
      ]
     },
     "execution_count": 17,
     "metadata": {},
     "output_type": "execute_result"
    }
   ],
   "source": [
    "# 5th percentile\n",
    "merged['word_count'].quantile(0.05)"
   ]
  },
  {
   "cell_type": "code",
   "execution_count": 18,
   "id": "4c2bb642",
   "metadata": {},
   "outputs": [
    {
     "data": {
      "text/plain": [
       "114.15000000000009"
      ]
     },
     "execution_count": 18,
     "metadata": {},
     "output_type": "execute_result"
    }
   ],
   "source": [
    "# 95th percentile\n",
    "merged['word_count'].quantile(0.95)"
   ]
  },
  {
   "cell_type": "code",
   "execution_count": 19,
   "id": "a06dd647",
   "metadata": {},
   "outputs": [
    {
     "data": {
      "text/plain": [
       "bucket\n",
       "embellishing an event            0.900277\n",
       "external characterization        0.916244\n",
       "informative detail               1.436073\n",
       "internal character experience    0.604563\n",
       "metaphor                         0.833898\n",
       "sensory detail                   0.976190\n",
       "x                                0.830028\n",
       "Name: named_entity_count, dtype: float64"
      ]
     },
     "execution_count": 19,
     "metadata": {},
     "output_type": "execute_result"
    }
   ],
   "source": [
    "# entity count per group\n",
    "merged.groupby(['bucket'])['named_entity_count'].mean()"
   ]
  },
  {
   "cell_type": "code",
   "execution_count": 20,
   "id": "5128f44d",
   "metadata": {},
   "outputs": [],
   "source": [
    "#fpov\n",
    "to_check = ['informative detail']\n",
    "fp_df = merged[(merged['first_person'] == True) & (merged['bucket'].isin(to_check))]"
   ]
  },
  {
   "cell_type": "code",
   "execution_count": 21,
   "id": "404bc2b7",
   "metadata": {},
   "outputs": [
    {
     "data": {
      "text/plain": [
       "bucket\n",
       "informative detail    85\n",
       "Name: first_person, dtype: int64"
      ]
     },
     "execution_count": 21,
     "metadata": {},
     "output_type": "execute_result"
    }
   ],
   "source": [
    "fp_df.groupby(['bucket'])['first_person'].sum()"
   ]
  },
  {
   "cell_type": "code",
   "execution_count": 22,
   "id": "3da1ceb1",
   "metadata": {},
   "outputs": [
    {
     "data": {
      "text/plain": [
       "<AxesSubplot:>"
      ]
     },
     "execution_count": 22,
     "metadata": {},
     "output_type": "execute_result"
    },
    {
     "data": {
      "image/png": "[encoded data removed]",
      "text/plain": [
       "<Figure size 432x288 with 1 Axes>"
      ]
     },
     "metadata": {
      "needs_background": "light"
     },
     "output_type": "display_data"
    }
   ],
   "source": [
    "merged['word_count'].hist()"
   ]
  },
  {
   "cell_type": "code",
   "execution_count": 23,
   "id": "a9d9170c",
   "metadata": {},
   "outputs": [
    {
     "data": {
      "text/plain": [
       "<AxesSubplot:>"
      ]
     },
     "execution_count": 23,
     "metadata": {},
     "output_type": "execute_result"
    },
    {
     "data": {
      "image/png": "[encoded data removed]",
      "text/plain": [
       "<Figure size 432x288 with 1 Axes>"
      ]
     },
     "metadata": {
      "needs_background": "light"
     },
     "output_type": "display_data"
    }
   ],
   "source": [
    "merged['sentence_count'].hist()"
   ]
  },
  {
   "cell_type": "code",
   "execution_count": 21,
   "id": "7b7ca19e",
   "metadata": {},
   "outputs": [
    {
     "data": {
      "text/plain": [
       "bucket\n",
       "embellishing an event            1.907514\n",
       "external characterization        1.862944\n",
       "informative detail               1.813765\n",
       "internal character experience    1.853846\n",
       "metaphor                         1.640411\n",
       "sensory detail                   1.914676\n",
       "x                                1.865204\n",
       "Name: sentence_count, dtype: float64"
      ]
     },
     "execution_count": 21,
     "metadata": {},
     "output_type": "execute_result"
    }
   ],
   "source": [
    "# sentence count per group\n",
    "merged.groupby(['bucket'])['sentence_count'].mean()"
   ]
  },
  {
   "cell_type": "code",
   "execution_count": 24,
   "id": "61cf5456",
   "metadata": {},
   "outputs": [
    {
     "data": {
      "text/plain": [
       "bucket\n",
       "embellishing an event            48.437673\n",
       "external characterization        51.593909\n",
       "informative detail               53.817352\n",
       "internal character experience    48.946768\n",
       "metaphor                         46.444068\n",
       "sensory detail                   63.285714\n",
       "x                                42.070822\n",
       "Name: word_count, dtype: float64"
      ]
     },
     "execution_count": 24,
     "metadata": {},
     "output_type": "execute_result"
    }
   ],
   "source": [
    "# mean word count per group\n",
    "merged.groupby(['bucket'])['word_count'].mean()"
   ]
  },
  {
   "cell_type": "code",
   "execution_count": 26,
   "id": "5f753b36",
   "metadata": {},
   "outputs": [
    {
     "data": {
      "text/html": [
       "<div>\n",
       "<style scoped>\n",
       "    .dataframe tbody tr th:only-of-type {\n",
       "        vertical-align: middle;\n",
       "    }\n",
       "\n",
       "    .dataframe tbody tr th {\n",
       "        vertical-align: top;\n",
       "    }\n",
       "\n",
       "    .dataframe thead th {\n",
       "        text-align: right;\n",
       "    }\n",
       "</style>\n",
       "<table border=\"1\" class=\"dataframe\">\n",
       "  <thead>\n",
       "    <tr style=\"text-align: right;\">\n",
       "      <th></th>\n",
       "      <th>claim_id</th>\n",
       "      <th>bucket</th>\n",
       "    </tr>\n",
       "  </thead>\n",
       "  <tbody>\n",
       "    <tr>\n",
       "      <th>1281</th>\n",
       "      <td>61039</td>\n",
       "      <td>informative detail</td>\n",
       "    </tr>\n",
       "    <tr>\n",
       "      <th>376</th>\n",
       "      <td>27960</td>\n",
       "      <td>x</td>\n",
       "    </tr>\n",
       "    <tr>\n",
       "      <th>914</th>\n",
       "      <td>66167</td>\n",
       "      <td>informative detail</td>\n",
       "    </tr>\n",
       "    <tr>\n",
       "      <th>2230</th>\n",
       "      <td>5162</td>\n",
       "      <td>internal character experience</td>\n",
       "    </tr>\n",
       "    <tr>\n",
       "      <th>1559</th>\n",
       "      <td>57665</td>\n",
       "      <td>metaphor</td>\n",
       "    </tr>\n",
       "    <tr>\n",
       "      <th>...</th>\n",
       "      <td>...</td>\n",
       "      <td>...</td>\n",
       "    </tr>\n",
       "    <tr>\n",
       "      <th>756</th>\n",
       "      <td>48223</td>\n",
       "      <td>informative detail</td>\n",
       "    </tr>\n",
       "    <tr>\n",
       "      <th>1632</th>\n",
       "      <td>55748</td>\n",
       "      <td>embellishing an event</td>\n",
       "    </tr>\n",
       "    <tr>\n",
       "      <th>1039</th>\n",
       "      <td>42222</td>\n",
       "      <td>informative detail</td>\n",
       "    </tr>\n",
       "    <tr>\n",
       "      <th>899</th>\n",
       "      <td>35475</td>\n",
       "      <td>informative detail</td>\n",
       "    </tr>\n",
       "    <tr>\n",
       "      <th>2198</th>\n",
       "      <td>1265</td>\n",
       "      <td>external characterization</td>\n",
       "    </tr>\n",
       "  </tbody>\n",
       "</table>\n",
       "<p>120 rows × 2 columns</p>\n",
       "</div>"
      ],
      "text/plain": [
       "      claim_id                         bucket\n",
       "1281     61039             informative detail\n",
       "376      27960                              x\n",
       "914      66167             informative detail\n",
       "2230      5162  internal character experience\n",
       "1559     57665                       metaphor\n",
       "...        ...                            ...\n",
       "756      48223             informative detail\n",
       "1632     55748          embellishing an event\n",
       "1039     42222             informative detail\n",
       "899      35475             informative detail\n",
       "2198      1265      external characterization\n",
       "\n",
       "[120 rows x 2 columns]"
      ]
     },
     "execution_count": 26,
     "metadata": {},
     "output_type": "execute_result"
    }
   ],
   "source": [
    "merged.sort_values(by=['word_count'], ascending=False).head(120)[['claim_id', 'bucket']]"
   ]
  },
  {
   "cell_type": "code",
   "execution_count": 22,
   "id": "373d0b5c",
   "metadata": {},
   "outputs": [
    {
     "data": {
      "text/plain": [
       "120"
      ]
     },
     "execution_count": 22,
     "metadata": {},
     "output_type": "execute_result"
    }
   ],
   "source": [
    "len(list(merged[merged['word_count'] > 114]['claim_id']))"
   ]
  },
  {
   "cell_type": "code",
   "execution_count": 28,
   "id": "65e58c6f",
   "metadata": {},
   "outputs": [],
   "source": [
    "# write out fpov .csv\n",
    "fp_df.sort_values(by=['bucket'], ascending=True)[['claim_id', 'bucket', 'passage']].to_csv('data/first_person_id_passages.csv', index=False)"
   ]
  }
 ],
 "metadata": {
  "kernelspec": {
   "display_name": "Python [conda env:anlp] *",
   "language": "python",
   "name": "conda-env-anlp-py"
  },
  "language_info": {
   "codemirror_mode": {
    "name": "ipython",
    "version": 3
   },
   "file_extension": ".py",
   "mimetype": "text/x-python",
   "name": "python",
   "nbconvert_exporter": "python",
   "pygments_lexer": "ipython3",
   "version": "3.8.8"
  }
 },
 "nbformat": 4,
 "nbformat_minor": 5
}
