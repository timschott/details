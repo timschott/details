{
 "cells": [
  {
   "cell_type": "code",
   "execution_count": 54,
   "id": "4eb49c2d",
   "metadata": {},
   "outputs": [],
   "source": [
    "# pandas\n",
    "import pandas as pd\n",
    "\n",
    "# nltk for tokenization\n",
    "import nltk\n",
    "from nltk import sent_tokenize\n",
    "from nltk import word_tokenize\n",
    "\n",
    "# spacy for entity rec\n",
    "import spacy"
   ]
  },
  {
   "cell_type": "code",
   "execution_count": 55,
   "id": "c8bf92c3",
   "metadata": {},
   "outputs": [],
   "source": [
    "nlp = spacy.load('en_core_web_sm')"
   ]
  },
  {
   "cell_type": "code",
   "execution_count": 15,
   "id": "55052f35",
   "metadata": {},
   "outputs": [],
   "source": [
    "'''\n",
    "Read in .txts/.csvs of tagged sample data as a Pandas data frame\n",
    "Add appropriate header to the columns as well.\n",
    "'''\n",
    "def read_as_df(buckets_filename, claim_id_filename, passage_filename):\n",
    "    claim_ids = pd.read_csv(claim_id_filename, sep=\"\\n\")\n",
    "    buckets = pd.read_csv(buckets_filename, sep=\"\\n\")\n",
    "    passages = pd.read_csv(passage_filename, sep=\"\\n\")\n",
    "    df_col_merged = pd.concat([claim_ids, buckets, passages], axis=1)\n",
    "\n",
    "    return df_col_merged"
   ]
  },
  {
   "cell_type": "code",
   "execution_count": 16,
   "id": "ae73d922",
   "metadata": {},
   "outputs": [],
   "source": [
    "merged = read_as_df('data/relic_prev_buckets.txt', 'data/relic_prev_ids.csv', 'data/relic_prev_passages.txt')"
   ]
  },
  {
   "cell_type": "code",
   "execution_count": 17,
   "id": "cc55b8d1",
   "metadata": {},
   "outputs": [
    {
     "data": {
      "text/html": [
       "<div>\n",
       "<style scoped>\n",
       "    .dataframe tbody tr th:only-of-type {\n",
       "        vertical-align: middle;\n",
       "    }\n",
       "\n",
       "    .dataframe tbody tr th {\n",
       "        vertical-align: top;\n",
       "    }\n",
       "\n",
       "    .dataframe thead th {\n",
       "        text-align: right;\n",
       "    }\n",
       "</style>\n",
       "<table border=\"1\" class=\"dataframe\">\n",
       "  <thead>\n",
       "    <tr style=\"text-align: right;\">\n",
       "      <th></th>\n",
       "      <th>claim_id</th>\n",
       "      <th>bucket</th>\n",
       "      <th>passage</th>\n",
       "    </tr>\n",
       "  </thead>\n",
       "  <tbody>\n",
       "    <tr>\n",
       "      <th>0</th>\n",
       "      <td>13861</td>\n",
       "      <td>metaphor</td>\n",
       "      <td>The work of one moment was destroyed by the next.</td>\n",
       "    </tr>\n",
       "    <tr>\n",
       "      <th>1</th>\n",
       "      <td>55809</td>\n",
       "      <td>metaphor</td>\n",
       "      <td>How should they learn the entry into the finer...</td>\n",
       "    </tr>\n",
       "    <tr>\n",
       "      <th>2</th>\n",
       "      <td>3193</td>\n",
       "      <td>metaphor</td>\n",
       "      <td>What is the meaning of life?</td>\n",
       "    </tr>\n",
       "    <tr>\n",
       "      <th>3</th>\n",
       "      <td>18123</td>\n",
       "      <td>internal character experience</td>\n",
       "      <td>His mind pictured the soldiers who would place...</td>\n",
       "    </tr>\n",
       "    <tr>\n",
       "      <th>4</th>\n",
       "      <td>18448</td>\n",
       "      <td>embellishing an event</td>\n",
       "      <td>He yelled then with fright and swung about. Fo...</td>\n",
       "    </tr>\n",
       "  </tbody>\n",
       "</table>\n",
       "</div>"
      ],
      "text/plain": [
       "   claim_id                         bucket  \\\n",
       "0     13861                       metaphor   \n",
       "1     55809                       metaphor   \n",
       "2      3193                       metaphor   \n",
       "3     18123  internal character experience   \n",
       "4     18448          embellishing an event   \n",
       "\n",
       "                                             passage  \n",
       "0  The work of one moment was destroyed by the next.  \n",
       "1  How should they learn the entry into the finer...  \n",
       "2                       What is the meaning of life?  \n",
       "3  His mind pictured the soldiers who would place...  \n",
       "4  He yelled then with fright and swung about. Fo...  "
      ]
     },
     "execution_count": 17,
     "metadata": {},
     "output_type": "execute_result"
    }
   ],
   "source": [
    "merged.head()"
   ]
  },
  {
   "cell_type": "code",
   "execution_count": 22,
   "id": "6b4fde14",
   "metadata": {},
   "outputs": [],
   "source": [
    "def get_word_count(passage):\n",
    "    return len(word_tokenize(passage))"
   ]
  },
  {
   "cell_type": "code",
   "execution_count": 32,
   "id": "843913a1",
   "metadata": {},
   "outputs": [],
   "source": [
    "def get_sentence_count(passage):\n",
    "    return len(sent_tokenize(passage))"
   ]
  },
  {
   "cell_type": "code",
   "execution_count": 63,
   "id": "86375986",
   "metadata": {},
   "outputs": [],
   "source": [
    "def get_entity_count(passage):\n",
    "    doc = nlp(passage)\n",
    "    return len(doc.ents)"
   ]
  },
  {
   "cell_type": "code",
   "execution_count": 64,
   "id": "86f5e131",
   "metadata": {},
   "outputs": [],
   "source": [
    "# tally word count for each passage\n",
    "merged['word_count'] = merged.apply(lambda x: get_word_count(x.passage), axis=1)"
   ]
  },
  {
   "cell_type": "code",
   "execution_count": 33,
   "id": "5d9bea89",
   "metadata": {},
   "outputs": [],
   "source": [
    "# tally sentence count for each passage\n",
    "merged['sentence_count'] = merged.apply(lambda x: get_sentence_count(x.passage), axis=1)"
   ]
  },
  {
   "cell_type": "code",
   "execution_count": 66,
   "id": "e979bffa",
   "metadata": {},
   "outputs": [],
   "source": [
    "# tally named entity count for each passage\n",
    "merged['named_entity_count'] = merged.apply(lambda x: get_entity_count(x.passage), axis=1)"
   ]
  },
  {
   "cell_type": "code",
   "execution_count": 85,
   "id": "b04d8a38",
   "metadata": {},
   "outputs": [
    {
     "data": {
      "text/plain": [
       "bucket\n",
       "embellishing an event            1.0\n",
       "external characterization        2.0\n",
       "informative detail               2.0\n",
       "internal character experience    2.0\n",
       "metaphor                         1.0\n",
       "sensory detail                   2.0\n",
       "x                                1.0\n",
       "Name: sentence_count, dtype: float64"
      ]
     },
     "execution_count": 85,
     "metadata": {},
     "output_type": "execute_result"
    }
   ],
   "source": [
    "# word count per group\n",
    "merged.groupby(['bucket'])['word_count'].median()"
   ]
  },
  {
   "cell_type": "code",
   "execution_count": 83,
   "id": "5351417a",
   "metadata": {},
   "outputs": [
    {
     "data": {
      "text/plain": [
       "13.0"
      ]
     },
     "execution_count": 83,
     "metadata": {},
     "output_type": "execute_result"
    }
   ],
   "source": [
    "# 5th percentile\n",
    "merged['word_count'].quantile(0.05)"
   ]
  },
  {
   "cell_type": "code",
   "execution_count": 84,
   "id": "4c2bb642",
   "metadata": {},
   "outputs": [
    {
     "data": {
      "text/plain": [
       "121.0"
      ]
     },
     "execution_count": 84,
     "metadata": {},
     "output_type": "execute_result"
    }
   ],
   "source": [
    "# 95th percentile\n",
    "merged['word_count'].quantile(0.95)"
   ]
  },
  {
   "cell_type": "code",
   "execution_count": 74,
   "id": "a06dd647",
   "metadata": {},
   "outputs": [
    {
     "data": {
      "text/plain": [
       "bucket\n",
       "embellishing an event            0.947368\n",
       "external characterization        0.875706\n",
       "informative detail               1.492386\n",
       "internal character experience    0.516129\n",
       "metaphor                         0.899281\n",
       "sensory detail                   1.039370\n",
       "x                                0.802260\n",
       "Name: named_entity_count, dtype: float64"
      ]
     },
     "execution_count": 74,
     "metadata": {},
     "output_type": "execute_result"
    }
   ],
   "source": [
    "# entity count per group\n",
    "merged.groupby(['bucket'])['named_entity_count'].mean()"
   ]
  },
  {
   "cell_type": "code",
   "execution_count": 78,
   "id": "3da1ceb1",
   "metadata": {},
   "outputs": [
    {
     "data": {
      "text/plain": [
       "<AxesSubplot:>"
      ]
     },
     "execution_count": 78,
     "metadata": {},
     "output_type": "execute_result"
    },
    {
     "data": {
      "image/png": "[encoded data removed]",
      "text/plain": [
       "<Figure size 432x288 with 1 Axes>"
      ]
     },
     "metadata": {
      "needs_background": "light"
     },
     "output_type": "display_data"
    }
   ],
   "source": [
    "merged['word_count'].hist()"
   ]
  },
  {
   "cell_type": "code",
   "execution_count": 43,
   "id": "a9d9170c",
   "metadata": {},
   "outputs": [
    {
     "data": {
      "text/plain": [
       "<AxesSubplot:>"
      ]
     },
     "execution_count": 43,
     "metadata": {},
     "output_type": "execute_result"
    },
    {
     "data": {
      "image/png": "[encoded data removed]",
      "text/plain": [
       "<Figure size 432x288 with 1 Axes>"
      ]
     },
     "metadata": {
      "needs_background": "light"
     },
     "output_type": "display_data"
    }
   ],
   "source": [
    "merged['sentence_count'].hist()"
   ]
  },
  {
   "cell_type": "code",
   "execution_count": 89,
   "id": "7b7ca19e",
   "metadata": {},
   "outputs": [
    {
     "data": {
      "text/plain": [
       "bucket\n",
       "embellishing an event            1.939850\n",
       "external characterization        1.751412\n",
       "informative detail               1.928934\n",
       "internal character experience    1.927419\n",
       "metaphor                         1.640288\n",
       "sensory detail                   2.023622\n",
       "x                                1.875706\n",
       "Name: sentence_count, dtype: float64"
      ]
     },
     "execution_count": 89,
     "metadata": {},
     "output_type": "execute_result"
    }
   ],
   "source": [
    "# sentence count per group\n",
    "merged.groupby(['bucket'])['sentence_count'].mean()"
   ]
  },
  {
   "cell_type": "code",
   "execution_count": 77,
   "id": "5f753b36",
   "metadata": {},
   "outputs": [
    {
     "data": {
      "text/html": [
       "<div>\n",
       "<style scoped>\n",
       "    .dataframe tbody tr th:only-of-type {\n",
       "        vertical-align: middle;\n",
       "    }\n",
       "\n",
       "    .dataframe tbody tr th {\n",
       "        vertical-align: top;\n",
       "    }\n",
       "\n",
       "    .dataframe thead th {\n",
       "        text-align: right;\n",
       "    }\n",
       "</style>\n",
       "<table border=\"1\" class=\"dataframe\">\n",
       "  <thead>\n",
       "    <tr style=\"text-align: right;\">\n",
       "      <th></th>\n",
       "      <th>passage</th>\n",
       "      <th>word_count</th>\n",
       "    </tr>\n",
       "  </thead>\n",
       "  <tbody>\n",
       "    <tr>\n",
       "      <th>334</th>\n",
       "      <td>There was one among them which was a tall pane...</td>\n",
       "      <td>292</td>\n",
       "    </tr>\n",
       "    <tr>\n",
       "      <th>363</th>\n",
       "      <td>then you saw a lifeboat full of children with ...</td>\n",
       "      <td>251</td>\n",
       "    </tr>\n",
       "    <tr>\n",
       "      <th>885</th>\n",
       "      <td>In the hardest working part of Coketown; in th...</td>\n",
       "      <td>207</td>\n",
       "    </tr>\n",
       "    <tr>\n",
       "      <th>741</th>\n",
       "      <td>it passed thus close by me, in action, so to s...</td>\n",
       "      <td>190</td>\n",
       "    </tr>\n",
       "    <tr>\n",
       "      <th>610</th>\n",
       "      <td>After the first glance, there were slight feat...</td>\n",
       "      <td>179</td>\n",
       "    </tr>\n",
       "    <tr>\n",
       "      <th>735</th>\n",
       "      <td>secondly, if it should appear that the conditi...</td>\n",
       "      <td>178</td>\n",
       "    </tr>\n",
       "    <tr>\n",
       "      <th>708</th>\n",
       "      <td>And Clyde, as instantly sensing the profoundne...</td>\n",
       "      <td>178</td>\n",
       "    </tr>\n",
       "    <tr>\n",
       "      <th>266</th>\n",
       "      <td>In bed we concocted our plans for the morrow. ...</td>\n",
       "      <td>165</td>\n",
       "    </tr>\n",
       "    <tr>\n",
       "      <th>191</th>\n",
       "      <td>17 It was a picturesque old house in a fine pa...</td>\n",
       "      <td>161</td>\n",
       "    </tr>\n",
       "    <tr>\n",
       "      <th>498</th>\n",
       "      <td>The moment when a man's head drops off is seld...</td>\n",
       "      <td>155</td>\n",
       "    </tr>\n",
       "    <tr>\n",
       "      <th>172</th>\n",
       "      <td>He had written out various speeches and memora...</td>\n",
       "      <td>152</td>\n",
       "    </tr>\n",
       "    <tr>\n",
       "      <th>445</th>\n",
       "      <td>Lowten,' said Perker, when they reached the ou...</td>\n",
       "      <td>152</td>\n",
       "    </tr>\n",
       "    <tr>\n",
       "      <th>560</th>\n",
       "      <td>After that, we went into Chancery, where we ar...</td>\n",
       "      <td>151</td>\n",
       "    </tr>\n",
       "    <tr>\n",
       "      <th>903</th>\n",
       "      <td>The gloomy taint that was in the Murdstone blo...</td>\n",
       "      <td>151</td>\n",
       "    </tr>\n",
       "    <tr>\n",
       "      <th>908</th>\n",
       "      <td>Preoccupied, however, as Maisie was with the i...</td>\n",
       "      <td>150</td>\n",
       "    </tr>\n",
       "    <tr>\n",
       "      <th>201</th>\n",
       "      <td>Whether these, and many other stories of the l...</td>\n",
       "      <td>150</td>\n",
       "    </tr>\n",
       "    <tr>\n",
       "      <th>200</th>\n",
       "      <td>But far beneath this wondrous world upon the s...</td>\n",
       "      <td>148</td>\n",
       "    </tr>\n",
       "    <tr>\n",
       "      <th>629</th>\n",
       "      <td>For the first time she took down the miniature...</td>\n",
       "      <td>148</td>\n",
       "    </tr>\n",
       "    <tr>\n",
       "      <th>526</th>\n",
       "      <td>In all her intercourse with society, however, ...</td>\n",
       "      <td>146</td>\n",
       "    </tr>\n",
       "    <tr>\n",
       "      <th>783</th>\n",
       "      <td>He invaded the turmoil and tumble of the down-...</td>\n",
       "      <td>145</td>\n",
       "    </tr>\n",
       "    <tr>\n",
       "      <th>458</th>\n",
       "      <td>It sounds, no doubt, too penetrating, but it w...</td>\n",
       "      <td>145</td>\n",
       "    </tr>\n",
       "    <tr>\n",
       "      <th>962</th>\n",
       "      <td>Some men kneeled down, made scoops of their tw...</td>\n",
       "      <td>145</td>\n",
       "    </tr>\n",
       "    <tr>\n",
       "      <th>1055</th>\n",
       "      <td>But farther on the current slackened, where th...</td>\n",
       "      <td>145</td>\n",
       "    </tr>\n",
       "    <tr>\n",
       "      <th>220</th>\n",
       "      <td>They were, I now saw, the most unearthly creat...</td>\n",
       "      <td>144</td>\n",
       "    </tr>\n",
       "    <tr>\n",
       "      <th>89</th>\n",
       "      <td>I did not dare to linger or to look up, but I ...</td>\n",
       "      <td>144</td>\n",
       "    </tr>\n",
       "    <tr>\n",
       "      <th>109</th>\n",
       "      <td>I was a mile from Thornfield, in a lane noted ...</td>\n",
       "      <td>144</td>\n",
       "    </tr>\n",
       "    <tr>\n",
       "      <th>366</th>\n",
       "      <td>This creed was never taught, for instance, by ...</td>\n",
       "      <td>142</td>\n",
       "    </tr>\n",
       "    <tr>\n",
       "      <th>736</th>\n",
       "      <td>She had struck Swann not, certainly, as being ...</td>\n",
       "      <td>142</td>\n",
       "    </tr>\n",
       "    <tr>\n",
       "      <th>638</th>\n",
       "      <td>He was going to buy a second straw hat in Utic...</td>\n",
       "      <td>141</td>\n",
       "    </tr>\n",
       "    <tr>\n",
       "      <th>1016</th>\n",
       "      <td>And such men-odd and grizzled, or tanned and w...</td>\n",
       "      <td>141</td>\n",
       "    </tr>\n",
       "  </tbody>\n",
       "</table>\n",
       "</div>"
      ],
      "text/plain": [
       "                                                passage  word_count\n",
       "334   There was one among them which was a tall pane...         292\n",
       "363   then you saw a lifeboat full of children with ...         251\n",
       "885   In the hardest working part of Coketown; in th...         207\n",
       "741   it passed thus close by me, in action, so to s...         190\n",
       "610   After the first glance, there were slight feat...         179\n",
       "735   secondly, if it should appear that the conditi...         178\n",
       "708   And Clyde, as instantly sensing the profoundne...         178\n",
       "266   In bed we concocted our plans for the morrow. ...         165\n",
       "191   17 It was a picturesque old house in a fine pa...         161\n",
       "498   The moment when a man's head drops off is seld...         155\n",
       "172   He had written out various speeches and memora...         152\n",
       "445   Lowten,' said Perker, when they reached the ou...         152\n",
       "560   After that, we went into Chancery, where we ar...         151\n",
       "903   The gloomy taint that was in the Murdstone blo...         151\n",
       "908   Preoccupied, however, as Maisie was with the i...         150\n",
       "201   Whether these, and many other stories of the l...         150\n",
       "200   But far beneath this wondrous world upon the s...         148\n",
       "629   For the first time she took down the miniature...         148\n",
       "526   In all her intercourse with society, however, ...         146\n",
       "783   He invaded the turmoil and tumble of the down-...         145\n",
       "458   It sounds, no doubt, too penetrating, but it w...         145\n",
       "962   Some men kneeled down, made scoops of their tw...         145\n",
       "1055  But farther on the current slackened, where th...         145\n",
       "220   They were, I now saw, the most unearthly creat...         144\n",
       "89    I did not dare to linger or to look up, but I ...         144\n",
       "109   I was a mile from Thornfield, in a lane noted ...         144\n",
       "366   This creed was never taught, for instance, by ...         142\n",
       "736   She had struck Swann not, certainly, as being ...         142\n",
       "638   He was going to buy a second straw hat in Utic...         141\n",
       "1016  And such men-odd and grizzled, or tanned and w...         141"
      ]
     },
     "execution_count": 77,
     "metadata": {},
     "output_type": "execute_result"
    }
   ],
   "source": [
    "merged.sort_values(by=['word_count'], ascending=False).head(30)[['passage', 'word_count']]"
   ]
  },
  {
   "cell_type": "code",
   "execution_count": 100,
   "id": "898f5139",
   "metadata": {},
   "outputs": [
    {
     "data": {
      "text/plain": [
       "['The work of one moment was destroyed by the next.',\n",
       " 'What is the meaning of life?',\n",
       " 'Carrie realised the change of affectional atmosphere at once.',\n",
       " 'I am tied down with single words.',\n",
       " 'A display!',\n",
       " 'but spectral, not really existing.',\n",
       " 'WHY should human equality be averted?',\n",
       " \"It wasn't a scene for a shudder;\",\n",
       " 'A bird twittered; two birds, three.',\n",
       " 'x',\n",
       " 'The verdict of human nature on such a wretch was death.',\n",
       " 'She possessed eyes whose gaze I delighted to encounter.',\n",
       " 'It most froze me to hear such talk.',\n",
       " 'All men live enveloped in whale-lines.',\n",
       " 'I opened the glass-door in the breakfast-room:',\n",
       " 'Sailors loiter on the parade, and amorous couples;',\n",
       " 'She had thought him just the bright reflex of herself.',\n",
       " 'Would they but love her, she should be satisfied.',\n",
       " 'All here is false; all is meretricious.',\n",
       " 'he is a tyrant; he wears Mrs. Ramsay to death;',\n",
       " \"it's Cana of Galilee, the first miracle....\",\n",
       " 'It would have hurt her if he had refused to come.',\n",
       " 'Silent and terrified, the animals crept back into the barn.',\n",
       " 'She was too full of wonder and desire to be greedy.',\n",
       " \"But she's got a friend of hers there;\",\n",
       " 'Having given his evidence, the celebrated doctor withdrew.',\n",
       " 'Did he shoot my lapwings, Nelly?',\n",
       " 'Thus stood before these radiant bourgeois this half-century of servitude.',\n",
       " 'Why do you tell me that?',\n",
       " 'His rough and hairy voice is like an unshaven chin.',\n",
       " 'That was it. He finished.',\n",
       " 'Hurstwood was an interesting character after his kind.',\n",
       " \"Fro' first to last, a muddle!'\",\n",
       " 'I have seen her in every age and in every costume.',\n",
       " 'Yet I don’t stop to plug my leak;',\n",
       " 'I cannot be divided, or kept apart.',\n",
       " 'Seeming would be quite enough: I ask no more.',\n",
       " 'a moth-like impetuosity dashing itself against hard glass.',\n",
       " 'She heard it as people hear things in their sleep.',\n",
       " 'Instantly there flamed up in his body the all compelling desire.',\n",
       " 'She was not a woman of strong understanding or any quickness;',\n",
       " 'perhaps she did not care to, indeed.',\n",
       " 'Seems like the brighter they are, the farther they go.',\n",
       " 'God gave the day, God gave the strength.']"
      ]
     },
     "execution_count": 100,
     "metadata": {},
     "output_type": "execute_result"
    }
   ],
   "source": [
    "list(merged[merged['word_count'] < 13.0]['passage'])"
   ]
  },
  {
   "cell_type": "code",
   "execution_count": 99,
   "id": "373d0b5c",
   "metadata": {},
   "outputs": [
    {
     "data": {
      "text/plain": [
       "53"
      ]
     },
     "execution_count": 99,
     "metadata": {},
     "output_type": "execute_result"
    }
   ],
   "source": [
    "len(list(merged[merged['word_count'] > 121]['claim_id']))"
   ]
  },
  {
   "cell_type": "code",
   "execution_count": null,
   "id": "65e58c6f",
   "metadata": {},
   "outputs": [],
   "source": []
  }
 ],
 "metadata": {
  "kernelspec": {
   "display_name": "Python [conda env:anlp] *",
   "language": "python",
   "name": "conda-env-anlp-py"
  },
  "language_info": {
   "codemirror_mode": {
    "name": "ipython",
    "version": 3
   },
   "file_extension": ".py",
   "mimetype": "text/x-python",
   "name": "python",
   "nbconvert_exporter": "python",
   "pygments_lexer": "ipython3",
   "version": "3.8.8"
  }
 },
 "nbformat": 4,
 "nbformat_minor": 5
}
