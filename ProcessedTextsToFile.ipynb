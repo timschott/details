{
 "cells": [
  {
   "cell_type": "code",
   "execution_count": 1,
   "id": "e44c881e",
   "metadata": {},
   "outputs": [],
   "source": [
    "# re\n",
    "import re\n",
    "\n",
    "# data reading / cleaning\n",
    "from gut_tokenize import read_data, preprocess\n",
    "\n",
    "# ceiling \n",
    "import math \n",
    "\n",
    "# random\n",
    "import random\n",
    "random.seed(42)\n",
    "\n",
    "import nltk"
   ]
  },
  {
   "cell_type": "code",
   "execution_count": 5,
   "id": "5fb34f67",
   "metadata": {},
   "outputs": [],
   "source": [
    "'''\n",
    "Helper method for writing an inputted `sample` to a file.\n",
    "Args:\n",
    "    text: text of the book (str)\n",
    "    filename: filename, should have directory prefixed already (str)\n",
    "\n",
    "'''\n",
    "def write_processed_text_to_file(text, filename):\n",
    "    if text is None:\n",
    "        return\n",
    "    t = open(filename, \"w\")\n",
    "    t.write(text)\n",
    "    t.close()\n",
    "\n",
    "'''\n",
    "Helper method for writing processed texts to an output dir\n",
    "Args:\n",
    "    titles: book titles for the files you are working with (string)\n",
    "    texts: book texts (str)\n",
    "\n",
    "Return:\n",
    "    summary string of how many texts were written and their location (hard-coded, but could be made dynamic)\n",
    "\n",
    "'''\n",
    "def write_processed_texts_to_files(titles, texts):\n",
    "    count = 0\n",
    "    for index, text in enumerate(texts):\n",
    "        current_book = titles[index]\n",
    "        file_name = \"../Gutenberg/processed_full_texts/\" + current_book.replace(\"_clean.txt\", \"\") + \".txt\"\n",
    "        write_processed_text_to_file(text, file_name)\n",
    "        count +=1\n",
    "    \n",
    "    return \"Wrote \" + str(count) + \" processed texts to ../Gutenberg/processed_full_texts.\""
   ]
  },
  {
   "cell_type": "code",
   "execution_count": 6,
   "id": "4b74bebf",
   "metadata": {},
   "outputs": [
    {
     "data": {
      "text/plain": [
       "'Wrote 28 processed texts to ../Gutenberg/processed_full_texts.'"
      ]
     },
     "execution_count": 6,
     "metadata": {},
     "output_type": "execute_result"
    }
   ],
   "source": [
    "directory = \"../Gutenberg/cleaned_texts/\"\n",
    "titles = []\n",
    "texts = []\n",
    "titles, texts = read_data(directory)\n",
    "\n",
    "for index, text in enumerate(texts):\n",
    "    texts[index] = preprocess(text)\n",
    "\n",
    "write_processed_texts_to_files(titles, texts)"
   ]
  },
  {
   "cell_type": "code",
   "execution_count": null,
   "id": "bef4fad4",
   "metadata": {},
   "outputs": [],
   "source": []
  }
 ],
 "metadata": {
  "kernelspec": {
   "display_name": "Python [conda env:anlp] *",
   "language": "python",
   "name": "conda-env-anlp-py"
  },
  "language_info": {
   "codemirror_mode": {
    "name": "ipython",
    "version": 3
   },
   "file_extension": ".py",
   "mimetype": "text/x-python",
   "name": "python",
   "nbconvert_exporter": "python",
   "pygments_lexer": "ipython3",
   "version": "3.8.8"
  }
 },
 "nbformat": 4,
 "nbformat_minor": 5
}
