{
 "cells": [
  {
   "cell_type": "markdown",
   "id": "0b311692",
   "metadata": {},
   "source": [
    "## Notebook Overview\n",
    "\n",
    "Explore dataset from [RELiC](https://relic.cs.umass.edu/), a novel information retrieval task."
   ]
  },
  {
   "cell_type": "code",
   "execution_count": 4,
   "id": "fe87bfcf",
   "metadata": {},
   "outputs": [],
   "source": [
    "import json"
   ]
  },
  {
   "cell_type": "code",
   "execution_count": 70,
   "id": "cb69bbb0",
   "metadata": {},
   "outputs": [],
   "source": [
    "'''\n",
    "Read in .json of RELiC data as a nested dict.\n",
    "Data structured as follows:\n",
    "\n",
    "{\n",
    "    book_n: {\n",
    "        quotes: {\n",
    "            quote_id: [\n",
    "                [quote_n_left] # 4 sentences, left 'context' of critical claim\n",
    "                sentence_id # index of the corresponding sentence in `sentences`\n",
    "                sentence_window_size # number from 1-5 =to how many original sentences inhere the claim\n",
    "                [quote_n_right] # 4 sentences, right 'context' of critical claim\n",
    "            ], ...\n",
    "        },\n",
    "        sentences: [sentence_1, sentence_2], # all the sentences in the work\n",
    "        candidates: { # tracks which sentences are eligible to be 'expanded' e.g. if sentence #7 is used in a claim that's 3 sentences long, we should retrieve sentences 7,8,9.\n",
    "            1_sentence: [all sentence_id's],\n",
    "            ...,\n",
    "            5-sentence: [all but last 4 sentence_ids (prevent OOB error)], \n",
    "        }\n",
    "    },\n",
    "}\n",
    "'''\n",
    "def read_data(filename):\n",
    "    \n",
    "    f = open(filename)\n",
    "    data = json.load(f)\n",
    "    \n",
    "    return data\n",
    "    "
   ]
  },
  {
   "cell_type": "code",
   "execution_count": 6,
   "id": "da8d1e07",
   "metadata": {},
   "outputs": [],
   "source": [
    "data = read_data('data/relic-train.json')"
   ]
  },
  {
   "cell_type": "code",
   "execution_count": 16,
   "id": "2cecc312",
   "metadata": {},
   "outputs": [
    {
     "name": "stdout",
     "output_type": "stream",
     "text": [
      "(0, 'brothers_karamazov')\n",
      "(1, 'to_the_lighthouse')\n",
      "(2, 'the_pickwick_papers')\n",
      "(3, 'david_copperfield')\n",
      "(4, 'animal_farm')\n",
      "(5, 'the_scarlet_letter')\n",
      "(6, 'a_portrait_of_the_artist_as_a_young_man')\n",
      "(7, 'the_turn_of_the_screw')\n",
      "(8, 'the_souls_of_black_folk')\n",
      "(9, 'adam_bede')\n",
      "(10, 'sense_and_sensibility')\n",
      "(11, 'martin_chuzzlewit')\n",
      "(12, 'swanns_way')\n",
      "(13, 'sister_carrie')\n",
      "(14, 'daisy_miller')\n",
      "(15, 'o_pioneers')\n",
      "(16, 'the_red_badge_of_courage')\n",
      "(17, 'little_dorrit')\n",
      "(18, 'great_expectations')\n",
      "(19, 'the_call_of_the_wild')\n",
      "(20, 'mrs_dalloway')\n",
      "(21, 'the_sport_of_the_gods')\n",
      "(22, 'middlemarch')\n",
      "(23, 'alices_adventures_in_wonderland')\n",
      "(24, 'jacobs_room')\n",
      "(25, '1984')\n",
      "(26, 'house_of_mirth')\n",
      "(27, 'nicholas_nickleby')\n",
      "(28, 'moby_dick')\n",
      "(29, 'oliver_twist')\n",
      "(30, 'jane_eyre')\n",
      "(31, 'this_side_of_paradise')\n",
      "(32, 'madame_bovary')\n",
      "(33, 'iola_leroy')\n",
      "(34, 'frankenstein')\n",
      "(35, 'the_age_of_innocence')\n",
      "(36, 'lady_chatterlys_lover')\n",
      "(37, 'maggie_a_girl_of_the_streets')\n",
      "(38, 'wuthering_heights')\n",
      "(39, 'the_ambassadors')\n",
      "(40, 'brave_new_world')\n",
      "(41, 'an_american_tragedy')\n",
      "(42, 'adventures_of_huckleberry_finn')\n",
      "(43, 'gone_with_the_wind')\n",
      "(44, 'the_awakening')\n",
      "(45, 'mansfield_park')\n",
      "(46, 'the_waves')\n",
      "(47, 'uncle_toms_cabin')\n",
      "(48, 'my_antonia')\n",
      "(49, 'the_rainbow')\n",
      "(50, 'bleak_house')\n",
      "(51, 'crime_and_punishment')\n",
      "(52, 'the_picture_of_dorian_gray')\n",
      "(53, 'a_christmas_carol')\n",
      "(54, 'war_and_peace')\n",
      "(55, 'what_maisie_knew')\n"
     ]
    }
   ],
   "source": [
    "# what books are in the dataset:\n",
    "for i in enumerate(data):\n",
    "    print(i)"
   ]
  },
  {
   "cell_type": "code",
   "execution_count": 75,
   "id": "99595a44",
   "metadata": {},
   "outputs": [],
   "source": [
    "'''\n",
    "for a given work in the dataset, extract passages deemed by critics to be \"descriptive\"\n",
    "'''\n",
    "def extract_passages(data, book_title, search_list):\n",
    "    # get associated data for a single title\n",
    "    book_data = data[book_title]\n",
    "    \n",
    "    quotes = book_data[\"quotes\"]\n",
    "    sentences = book_data[\"sentences\"]\n",
    "    \n",
    "    descriptive_sentences = {}\n",
    "    descriptive_count = 0\n",
    "    claim_count = 0\n",
    "    \n",
    "    for quote_id in quotes:\n",
    "        left_claim = ' '.join(quotes[quote_id][0]).lower()\n",
    "        sentence_id = quotes[quote_id][1]\n",
    "        quote_size = quotes[quote_id][2]\n",
    "        right_claim = ' '.join(quotes[quote_id][3]).lower()\n",
    "                \n",
    "        descriptive = any(substring in left_claim for substring in search_list)\n",
    "        \n",
    "        if descriptive:\n",
    "            descriptive_sentences[str(quote_id)] = sentences[sentence_id: sentence_id+quote_size]\n",
    "            descriptive_count +=1\n",
    "        \n",
    "        claim_count +=1\n",
    "\n",
    "    print(f'Found {descriptive_count} out of {claim_count} passages in {book_title}')\n",
    "    return descriptive_sentences"
   ]
  },
  {
   "cell_type": "code",
   "execution_count": 76,
   "id": "ccb1e54e",
   "metadata": {},
   "outputs": [
    {
     "name": "stdout",
     "output_type": "stream",
     "text": [
      "Found 119 out of 1831 passages in to_the_lighthouse\n"
     ]
    }
   ],
   "source": [
    "descriptive_sentences = extract_passages(data, 'to_the_lighthouse', ['descri', 'detail'])"
   ]
  },
  {
   "cell_type": "code",
   "execution_count": 77,
   "id": "75c00243",
   "metadata": {},
   "outputs": [
    {
     "name": "stdout",
     "output_type": "stream",
     "text": [
      "{'001854': ['She could not show him what she wished to make of it, could not see it even herself, without a brush in her hand. ', 'She took up once more her old painting position with the dim eyes and the absent-minded manner, subduing all her impressions as a woman to something much more general; ', 'becoming once more under the power of that vision which she had seen clearly once and must now grope for among hedges and houses and mothers and children-her picture. '], '001872': ['Did Nature supplement what man advanced? ', 'Did she complete what he began? '], '001873': ['( But the war had drawn the sting of her femininity. ', 'Poor devils, one thought, poor devils, of both sexes.) '], '001894': ['\" Think of a kitchen table then,\" he told her, \"when you\\'re not there.\" ', \"So now she always saw, when she thought of Mr. Ramsay's work, a scrubbed kitchen table. \", 'It lodged now in the fork of a pear tree, for they had reached the orchard. '], '001913': ['When she looked in the glass and saw her hair grey, her cheek sunk, at fifty, she thought, possibly she might have managed things better-her husband; ', 'money; ', 'his books. ', 'But for her own part she would never for a single second regret her decision, evade difficulties, or slur over duties. '], '001922': [\"She asked him what his father's books were about. \", '\" Subject and object and the nature of reality,\" Andrew had said. ', 'And when she said Heavens, she had no notion what that meant. ', '\" Think of a kitchen table then,\" he told her, \"when you\\'re not there.\" '], '001926': ['Mrs. Ramsay, who had been sitting loosely, folding her son in her arm, braced herself, and, half turning, seemed to raise herself with an effort, and at once to pour erect into the air a rain of energy, a column of spray, looking at the same time animated and alive as if all her energies were being fused into force, burning and illuminating (quietly though she sat, taking up her stocking again), and into this delicious fecundity, this fountain and spray of life, the fatal sterility of the male plunged itself, like a beak of brass, barren and bare. '], '001959': ['The swallows nested in the drawing- roon; ', 'the floor was strewn with straw; '], '001978': ['Suddenly, as if the movement of his hand had released it, the load of her accumulated impressions of him tilted up, and down poured in a ponderous avalanche all she felt about him. ', 'That was one sensation. ', 'Then up rose in a fume the essence of his being. ', 'That was another. '], '001979': ['His immense self-pity, his demand for sympathy poured and spread itself in pools at ther feet, and all she did, miserable sinner that she was, was to draw her skirts a little closer round her ankles, lest she should get wet. ', 'In complete silence she stood there, grasping her paint brush. '], '001994': ['[Prue Ramsay died that summer in some illness connected with childbirth, which was indeed a tragedy, people said, everything, they said, had promised so well.] '], '001997': ['The great revelation perhaps never did come. ', 'Instead there were little daily miracles, illuminations, matches struck unexpectedly in the dark; '], '002006': [\"One glided, one shook one's sails (there was a good deal of movement in the bay, boats were starting off) between things, beyond things. \"], '002061': [\"Scolding and demonstrating (how to make a bed, how to open a window, with hands that shut and spread like a Frenchwoman's) all had folded itself quietly about her, when the girl spoke, as, after a flight through the sunshine the wings of a bird fold themselves quietly and the blue of its plumage changes from bright steel to soft purple. \"], '002083': ['He was a sarcastic brute, Andrew said. '], '002097': ['and then by the swift cutting race of a sailing boat, which, having sliced a curve in the bay, stopped; ', 'shivered; ', 'let its sails drop down; '], '002128': ['He took it scientifically in complete good faith. '], '002131': ['Did Nature supplement what man advanced? ', 'Did she complete what he began? ', 'With equal complacence she saw his misery, his meanness, and his torture. ', 'That dream, of sharing, completing, of finding in solitude on the beach an answer, was then but a reflection in a mirror, and the mirror itself was but the surface glassiness which forms in quiescence when the nobler powers sleep beneath? '], '002177': ['She went on tunnelling her way into her picture, into the past. '], '002180': ['No guide, no shelter, but all was miracle, and leaping from the pinnacle of a tower into the air? '], '002191': ['She decided that there in that very distant and entirely silent little boat Mr. Ramsay was sitting with Cam and James. '], '002197': [\"Lily's picture! \", 'Mrs. Ramsay smiled. ', 'With her little Chinese eyes and her puckered-up face, she would never marry; ', 'one could not take her painting very seriously; '], '002211': ['She opened bedroom windows. ', 'She shut doors. '], '002223': ['a fiery unworldliness; ', 'he knows nothing about trifles; ', 'he loves dogs and his children. '], '002242': [\"Such were the extremes of emotion that Mr. Ramsay excited in his children's breasts by his mere presence; \", 'standing, as now, lean as a knife, narrow as the blade of one, grinning sarcastically, not only with the pleasure of disillusioning his son and casting ridicule upon his wife, who was ten thousand times better in every way than he was (James thought), but also with some secret conceit at his own accuracy of judgement. '], '002243': ['And now slowly the pain of the want, and the bitter anger (to be called back, just as she thought she would never feel sorrow for Mrs. Ramsay again. '], '002271': [\"Her hand cut a trail in the sea, as her mind made the green swirls and streaks into patterns and, numbed and shrouded, wandered in imagination in that underworld of waters where the pearls stuck in clusters to white sprays, where in the green light a change came over one's entire mind and one's body shone half transparent enveloped in a green cloak. \"], '002275': ['which took to itself and treasured up like the air which held the smoke of the steamer, her thoughts, her imaginations, her desires. '], '002285': ['And she went on telling herself a story about escaping from a sinking ship, for she was safe, while he sat there; '], '002287': ['Strife, divisions, difference of opinion, prejudices twisted into the very fibre of being, oh, that they should begin so early, Mrs. Ramsay deplored. ', 'They were so critical, her children. ', 'They talked such nonsense. ', 'She went from the dining-room, holding James by the hand, since he would not go with the others. '], '002295': ['That was the view, she said, stopping, growing greyer-eyed, that her husband loved. '], '002310': ['He has landed,\" she said aloud. ', '\" It is finished.\" ', 'Then, surging up, puffing slightly, old Mr. Carmichael stood beside her, looking like an old pagan god, shaggy, with weeds in his hair and the trident (it was only a French novel) in his hand. '], '002312': ['And she opened the book and began reading here and there at random, and as she did so, she felt that she was climbing backwards, upwards, shoving her way up under petals that curved over her, so that she only knew this is white, or this is red. ', 'She did not know at first what the words meant at all. '], '002338': ['But,\" said his father, stopping in front of the drawing-room window, \"it won\\'t be fine.\" ', \"Had there been an axe handy, a poker, or any weapon that would have gashed a hole in his father's breast and killed him, there and then, James would have seized it. \", \"Such were the extremes of emotion that Mr. Ramsay excited in his children's breasts by his mere presence; \", 'standing, as now, lean as a knife, narrow as the blade of one, grinning sarcastically, not only with the pleasure of disillusioning his son and casting ridicule upon his wife, who was ten thousand times better in every way than he was (James thought), but also with some secret conceit at his own accuracy of judgement. '], '002362': ['he is a tyrant; ', 'he wears Mrs. Ramsay to death; '], '002419': ['Her father was feeling in his pockets; '], '002436': ['The mystic, the visionary, walking the beach on a fine night, stirring a puddle, looking at a stone, asking themselves \"What am I,\" \"What is this?\" had suddenly an answer vouchsafed them: '], '002445': ['That was it. ', 'He finished. '], '002446': ['So fine was the morning except for a streak of wind here and there that the sea and sky looked all one fabric, as if sails were stuck high up in the sky, or the clouds had dropped down into the sea. ', 'A steamer far out at sea had drawn in the air a great scroll of smoke which stayed there curving and circling decoratively, as if the air were a fine gauze which held things and kept them softly in its mesh, only gently swaying them this way and that. ', 'And as happens sometimes when the weather is very fine, the cliffs looked as if they were conscious of the ships, and the ships looked as if they were conscious of the cliffs, as if they signalled to each other some message of their own. ', 'For sometimes quite close to the shore, the Lighthouse looked this morning in the haze an enormous distance away. '], '002452': ['Did Nature supplement what man advanced? ', 'Did she complete what he began? ', 'With equal complacence she saw his misery, his meanness, and his torture. '], '002487': ['Oh, Mrs. Ramsay! ', 'she called out silently, to that essence which sat by the boat, that abstract one made of her, that woman in grey, as if to abuse her for having gone, and then having gone, come back again. ', 'It had seemed so safe, thinking of her. ', 'Ghost, air, nothingness, a thing you could play with easily and safely at any time of day or night, she had been that, and then suddenly she put her hand out and wrung the heart thus. ', 'Suddenly, the empty drawing-room steps, the frill of the chair inside, the puppy tumbling on the terrace, the whole wave and whisper of the garden became like curves and arabesques flourishing round a centre of complete emptiness. '], '002493': [\"Aren't you drenched to the skin? \", '\" she had said. '], '002510': ['And looking up, she saw above the thin trees the first pulse of the full-throbbing star, and wanted to make her husband look at it; ', 'for the sight gave her such keen pleasure. ', 'But she stopped herself. ', 'He never looked at things. ', 'If he did, all he would say would be, Poor little world, with one of his sighs. '], '002520': ['He was so pleased that he was not going to let anybody share a grain of his pleasure. ', 'His father had praised him. ', 'They must think that he was perfectly indifferent. '], '002526': ['It lay like that on the sea, did it, with a dent in the middle and two sharp crags, and the sea swept in there, and spread away for miles and miles on either side of the island. ', 'It was very small; ', 'shaped something like a leaf stood on end. '], '002531': ['Indeed, she had the whole of the other sex under her protection; ', 'for reasons she could not explain, for their chivalry and valour, for the fact that they negotiated treaties, ruled India, controlled finance; ', 'finally for an attitude towards herself which no woman could fail to feel or to find agreeable, something trustful, childlike, reverential; '], '002552': ['Such she often felt herself-struggling against terrific odds to maintain her courage; ', 'to say: ', 'But this is what I see; ', 'this is what I see,\" and so to clasp some miserable remnant of her vision to her breast, which a thousand forces did their best to pluck from her. ', \"And it was then too, in that chill and windy way, as she began to paint, that there forced themselves upon her other things, her own inadequacy, her insignificance, keeping house for her father off the Brompton Road, and had much ado to control her impulse to fling herself (thank Heaven she had always resisted so far) at Mrs. Ramsay's knee and say to her-but what could one say to her? \"], '002564': ['Yes, he felt that in her. ', 'He felt many things, something in particular that excited him and disturbed him for reasons which he could not give. '], '002571': [\"Qualities that would have saved a ship's company exposed on a broiling sea with six biscuits and a flask of water-endurance and justice, foresight, devotion, skill, came to his help. \", 'R is then-what is R? '], '002584': [\"[ Prue Ramsay, leaning on her father's arm, was given in marriage. \", 'What, people said, could have been more fitting? ', 'And, they added, how beautiful she looked!] '], '002587': ['[Here Mr. Carmichael, who was reading Virgil, blew out his candle. ', 'It was past midnight.] '], '002601': ['The nights now are full of wind and destruction; ', 'the trees plunge and bend and their leaves fly helter skelter until the lawn is plastered with them and they lie packed in gutters and choke rain pipes and scatter damp paths. ', 'Also the sea tosses itself and breaks itself, and should any sleeper fancying that he might find on the beach an answer to his doubts, a sharer of his solitude, throw off his bedclothes and go down by himself to walk on the sand, no image with semblance of serving and divine promptitude comes readily to hand bringing the night to order and making the world reflect the compass of the soul. '], '002620': [\"He'd disinherit her if she married him, said Mr. Ramsay. \", 'He did not look at the flowers, which his wife was considering, but at a spot about a foot or so above them. ', 'There was no harm in him, he added, and was just about to say that anyhow he was the only young man in England who admired his-when he choked it back. '], '002664': ['And this, Lily thought, taking the green paint on her brush, this making up scenes about them, is what we call \"knowing\" people, \"thinking\" of them, \"being fond\" of them! ', 'Not a word of it was true; ', 'she had made it up; ', 'but it was what she knew them by all the same. ', 'She went on tunnelling her way into her picture, into the past. '], '002668': ['And with a painful effort of concentration, she focused her mind, not upon the silver-bossed bark of the tree, or upon its fish-shaped leaves, but upon a phantom kitchen table, one of those scrubbed board tables, grained and knotted, whose virtue seems to have been laid bare by years of muscular integrity, which stuck there, its four legs in air. '], '002670': ['\"It suddenly gets cold. ', 'The sun seems to give less heat,\" she said, looking about her, for it was bright enough, the grass still a soft deep green, the house starred in its greenery with purple passion flowers, and rooks dropping cool cries from the high blue. ', 'But something moved, flashed, turned a silver wing in the air. ', 'It was September after all, the middle of September, and past six in the evening. '], '002673': [\"Beautiful and bright it should be on the surface, feathery and evanescent, one colour melting into another like the colours on a butterfly's wing; \", 'but beneath the fabric must be clamped together with bolts of iron. '], '002685': [\"Beautiful and bright it should be on the surface, feathery and evanescent, one colour melting into another like the colours on a butterfly's wing; \", 'but beneath the fabric must be clamped together with bolts of iron. ', 'It was to be a thing you could ruffle with your breath; ', 'and a thing you could not dislodge with a team of horses. '], '002692': ['Everything depended upon things being served up to the precise moment they were ready. ', 'The beef, the bayleaf, and the wine-all must be done to a turn. ', 'To keep it waiting was out of the question. '], '002702': [\"To her son these words conveyed an extraordinary joy, as if it were settled, the expedition were bound to take place, and the wonder to which he had looked forward, for years and years it seemed, was, after a night's darkness and a day's sail, within touch. \", 'Since he belonged, even at the age of six, to that great clan which cannot keep this feeling separate from that, but must let future prospects, with their joys and sorrows, cloud what is actually at hand, since to such people even in earliest childhood any turn in the wheel of sensation has the power to crystallise and transfix the moment upon which its gloom or radiance rests, James Ramsay, sitting on the floor cutting out pictures from the illustrated catalogue of the Army and Navy stores, endowed the picture of a refrigerator, as his mother spoke, with heavenly bliss. ', 'It was fringed with joy. ', 'The wheelbarrow, the lawnmower, the sound of poplar trees, leaves whitening before rain, rooks cawing, brooms knocking, dresses rustling-all these were so coloured and distinguished in his mind that he had already his private code, his secret language, though he appeared the image of stark and uncompromising severity, with his high forehead and his fierce blue eyes, impeccably candid and pure, frowning slightly at the sight of human frailty, so that his mother, watching him guide his scissors neatly round the refrigerator, imagined him all red and ermine on the Bench or directing a stern and momentous enterprise in some crisis of public affairs. \" '], '002715': ['So that was the Lighthouse, was it? ', 'No, the other was also the Lighthouse. ', 'For nothing was simply one thing. ', 'The other Lighthouse was true too. '], '002719': ['For in the rough and tumble of daily life, with all those children about, all those visitors, one had constantly a sense of repetition-of one thing falling where another had fallen, and so setting up an echo which chimed in the air and made it full of vibrations. '], '002726': ['Then the roof would have fallen; ', 'briars and hemlocks would have blotted out path, step and window; ', 'would have grown, unequally but lustily over the mound, until some trespasser, losing his way, could have told only by a red-hot poker among the nettles, or a scrap of china in the hemlock, that here once some one had lived; ', 'there had been a house. '], '002743': ['She took up once more her old painting position with the dim eyes and the absent-minded manner, subduing all her impressions as a woman to something much more general; ', 'becoming once more under the power of that vision which she had seen clearly once and must now grope for among hedges and houses and mothers and children-her picture. '], '002850': ['This intrusion into a scene calculated to stir the most sublime reflections and lead to the most comfortable conclusions stayed their pacing. ', 'It was difficult blandly to overlook them; ', 'to abolish their significance in the landscape; ', 'to continue, as one walked by the sea, to marvel how beauty outside mirrored beauty within. '], '002855': ['Loveliness and stillness clasped hands in the bedroom, and among the shrouded jugs and sheeted chairs even the prying of the wind, and the soft nose of the clammy sea airs, rubbing, snuffling, iterating, and reiterating their questions-\"Will you fade? ', 'Will you perish?\"-scarcely disturbed the peace, the indifference, the air of pure integrity, as if the question they asked scarcely needed that they should answer: '], '002864': ['They allowed the toes their natural expansion. '], '002871': [\"[Macalister's boy took one of the fish and cut a square out of its side to bait his hook with. \", 'The mutilated body (it was alive still) was thrown back into the sea.] 8 \"Mrs. Ramsay!\" '], '002897': [\"He stopped to light his pipe, looked once at his wife and son in the window, and as one raises one's eyes from a page in an express train and sees a farm, a tree, a cluster of cottages as an illustration, a confirmation of something on the printed page to which one returns, fortified, and satisfied, so without his distinguishing either his son or his wife, the sight of them fortified him and satisfied him and consecrated his effort to arrive at a perfectly clear understanding of the problem which now engaged the energies of his splendid mind. \"], '002916': [\"With her foot on the threshold she waited a moment longer in a scene which was vanishing even as she looked, and then, as she moved and took Minta's arm and left the room, it changed, it shaped itself differently; \", 'it had become, she knew, giving one last look at it over her shoulder, already the past. '], '002935': ['Could things thrust their hands up and grip one; ', 'could the blade cut; ', 'the fist grasp? '], '002946': ['It was like reading a good book again, for she knew the end of that story, since it had happened twenty years ago, and life, which shot down even from this dining-room table in cascades, heaven knows where, was sealed up there, and lay, like a lake, placidly between its banks. '], '002985': ['For the mass loomed before her; ', 'it protruded; '], '002992': ['Filled with her words, like a child who drops off satisfied, he said, at last, looking at her with humble gratitude, restored, renewed, that he would take a turn; '], '002994': ['She could have wept. ', 'It was bad, it was bad, it was infinitely bad! '], '003009': ['3 But what after all is one night? '], '003011': ['And she must take great care, Mrs. Ramsay thought, diving into the soft mass, to choose a specially tender piece for William Bankes. ', 'And she peered into the dish, with its shiny walls and its confusion of savoury brown and yellow meats and its bay leaves and its wine, and thought, This will celebrate the occasion-a curious sense rising in her, at once freakish and tender, of celebrating a festival, as if two emotions were called up in her, one profound-for what could be more serious than the love of man for woman, what more commanding, more impressive, bearing in its bosom the seeds of death; ', 'at the same time these lovers, these people entering into illusion glittering eyed, must be danced round with mockery, decorated with garlands. '], '003061': [\"Lily Briscoe watched her drifting into that strange no-man's land where to follow people is impossible and yet their going inflicts such a chill on those who watch them that they always try at least to follow them with their eyes as one follows a fading ship until the sails have sunk beneath the horizon. \"], '003064': ['With her little Chinese eyes and her puckered-up face, she would never marry; ', 'one could not take her painting very seriously; ', 'she was an independent little creature, and Mrs. Ramsay liked her for it; '], '003087': ['What art was there, known to love or cunning, by which one pressed through into those secret chambers? '], '003115': ['She had a sense of being past everything, through everything, out of everything, as she helped the soup, as if there was an eddy-there- and one could be in it, or one could be out of it, and she was out of it. '], '003129': ['With her little Chinese eyes and her puckered-up face, she would never marry; ', 'one could not take her painting very seriously; ', 'she was an independent little creature, and Mrs. Ramsay liked her for it; '], '003154': ['But,\" said his father, stopping in front of the drawing-room window, \"it won\\'t be fine.\" '], '003157': ['To be silent; ', 'to be alone. ', 'All the being and the doing, expansive, glittering, vocal, evaporated; ', 'and one shrunk, with a sense of solemnity, to being oneself, a wedge-shaped core of darkness, something invisible to others. '], '003158': ['The Spring without a leaf to toss, bare and bright like a virgin fierce in her chastity, scornful in her purity, was laid out on fields wide- eyed and watchful and entirely careless of what was done or thought by the beholders. '], '003185': ['She saw the colour burning on a framework of steel; ', \"the light of a butterfly's wing lying upon the arches of a cathedral. \"], '003186': ['That dream, of sharing, completing, of finding in solitude on the beach an answer, was then but a reflection in a mirror, and the mirror itself was but the surface glassiness which forms in quiescence when the nobler powers sleep beneath? ', 'Impatient, despairing yet loth to go (for beauty offers her lures, has her consolations), to pace the beach was impossible; ', 'contemplation was unendurable; ', 'the mirror was broken. '], '003193': ['What is the meaning of life? '], '003204': ['[Lily Briscoe had her bag carried up to the house late one evening in September. ', 'Mr. Carmichael came by the same train.] '], '003209': ['All the being and the doing, expansive, glittering, vocal, evaporated; ', 'and one shrunk, with a sense of solemnity, to being oneself, a wedge-shaped core of darkness, something invisible to others. '], '003221': ['\" They\\'ll say that all their lives, she thought, and an exquisite scent of olives and oil and juice rose from the great brown dish as Marthe, with a little flourish, took the cover off. ', 'The cook had spent three days over that dish. '], '003224': ['They only mumbled at each other on staircases; ', \"they looked up at the sky and said it will be fine or it won't be fine. \", 'But this was one way of knowing people, she thought: ', \"to know the outline, not the detail, to sit in one's garden and look at the slopes of a hill running purple down into the distant heather. \", 'She knew him in that way. '], '003225': ['At the same time, she seemed to be sitting beside Mrs. Ramsay on the beach. '], '003255': ['Nothing, it seemed, could survive the flood, the profusion of darkness which, creeping in at keyholes and crevices, stole round window blinds, came into bedrooms, swallowed up here a jug and basin, there a bowl of red and yellow dahlias, there the sharp edges and firm bulk of a chest of drawers. ', 'Not only was furniture confounded; ', 'there was scarcely anything left of body or mind by which one could say, \"This is he\" or \"This is she. '], '003264': [\"Her hand cut a trail in the sea, as her mind made the green swirls and streaks into patterns and, numbed and shrouded, wandered in imagination in that underworld of waters where the pearls stuck in clusters to white sprays, where in the green light a change came over one's entire mind and one's body shone half transparent enveloped in a green cloak. \"], '003265': ['The autumn trees, ravaged as they are, take on the flash of tattered flags kindling in the gloom of cool cathedral caves where gold letters on marble pages describe death in battle and how bones bleach and burn far away in Indian sands. ', 'The autumn trees gleam in the yellow moonlight, in the light of harvest moons, the light which mellows the energy of labour, and smooths the stubble, and brings the wave lapping blue to the shore. '], '003288': ['something not highly conscious; ', 'something that leered, something that lurched; '], '003292': ['[Mr. Ramsay, stumbling along a passage one dark morning, stretched his arms out, but Mrs. Ramsay having died rather suddenly the night before, his arms, though stretched out, remained empty.]] '], '003303': ['So loveliness reigned and stillness, and together made the shape of loveliness itself, a form from which life had parted; ', 'solitary like a pool at evening, far distant, seen from a train window, vanishing so quickly that the pool, pale in the evening, is scarcely robbed of its solitude, though once seen. '], '003343': ['She rammed a little hole in the sand and covered it up, by way of burying in it the perfection of the moment. ', 'It was like a drop of silver in which one dipped and illumined the darkness of the past. '], '003351': ['It would have hurt her if he had refused to come. '], '003373': ['There might be lovers whose gift it was to choose out the elements of things and place them together and so, giving them a wholeness not theirs in life, make of some scene, or meeting of people (all now gone and separate), one of those globed compacted things over which thought lingers, and love plays. '], '003430': ['But they vowed, in silence, as they walked, to stand by each other and carry out the great compact-to resist tyranny to the death. ', 'So there they would sit, one at one end of the boat, one at the other, in silence. '], '003434': ['\"Yes, of course, if it\\'s fine tomorrow,\" said Mrs. Ramsay. '], '003439': ['The Spring without a leaf to toss, bare and bright like a virgin fierce in her chastity, scornful in her purity, was laid out on fields wide- eyed and watchful and entirely careless of what was done or thought by the beholders. ', \"[ Prue Ramsay, leaning on her father's arm, was given in marriage. \", 'What, people said, could have been more fitting? ', 'And, they added, how beautiful she looked!] '], '003442': [\"Beautiful and bright it should be on the surface, feathery and evanescent, one colour melting into another like the colours on a butterfly's wing; \", 'but beneath the fabric must be clamped together with bolts of iron. ', 'It was to be a thing you could ruffle with your breath; ', 'and a thing you could not dislodge with a team of horses. '], '003445': ['\" They\\'ll say that all their lives, she thought, and an exquisite scent of olives and oil and juice rose from the great brown dish as Marthe, with a little flourish, took the cover off. ', 'The cook had spent three days over that dish. '], '003453': ['they had done just what he wanted; '], '003480': ['The autumn trees, ravaged as they are, take on the flash of tattered flags kindling in the gloom of cool cathedral caves where gold letters on marble pages describe death in battle and how bones bleach and burn far away in Indian sands. '], '003506': ['Mr. Tansley raised a hammer: ', 'swung it high in air; '], '003507': ['He sat there bareheaded with the wind blowing his hair about, extraordinarily exposed to everything. ', 'He looked very old. ', 'He looked, James thought, getting his head now against the Lighthouse, now against the waste of waters running away into the open, like some old stone lying on the sand; ', 'he looked as if he had become physically what was always at the back of both of their minds-that loneliness which was for both of them the truth about things. '], '003541': ['[Mr. Ramsay, stumbling along a passage one dark morning, stretched his arms out, but Mrs. Ramsay having died rather suddenly the night before, his arms, though stretched out, remained empty.]] ', '4 So with the house empty and the doors locked and the mattresses rolled round, those stray airs, advance guards of great armies, blustered in, brushed bare boards, nibbled and fanned, met nothing in bedroom or drawing-room that wholly resisted them but only hangings that flapped, wood that creaked, the bare legs of tables, saucepans and china already furred, tarnished, cracked. '], '003565': ['when the great clangour of the gong announced solemnly, authoritatively, that all those scattered about, in attics, in bedrooms, on little perches of their own, reading, writing, putting the last smooth to their hair, or fastening dresses, must leave all that, and the little odds and ends on their washing-tables and dressing tables, and the novels on the bed- tables, and the diaries which were so private, and assemble in the dining-room for dinner. '], '003585': ['Lily Briscoe knew all that. ', \"Sitting opposite him, could she not see, as in an X-ray photograph, the ribs and thigh bones of the young man's desire to impress himself, lying dark in the mist of his flesh-that thin mist which convention had laid over his burning desire to break into the conversation? \"], '003588': ['[Mr. Ramsay, stumbling along a passage one dark morning, stretched his arms out, but Mrs. Ramsay having died rather suddenly the night before, his arms, though stretched out, remained empty.]] '], '003592': ['Yet he would not die lying down; ', 'he would find some crag of rock, and there, his eyes fixed on the storm, trying to the end to pierce the darkness, he would die standing. '], '003593': ['The winter holds a pack of them in store and deals them equally, evenly, with indefatigable fingers. '], '003609': ['7 Night after night, summer and winter, the torment of storms, the arrow- like stillness of fine (had there been any one to listen) from the upper rooms of the empty house only gigantic chaos streaked with lightning could have been heard tumbling and tossing, as the winds and waves disported themselves like the amorphous bulks of leviathans whose brows are pierced by no light of reason, and mounted one on top of another, and lunged and plunged in the darkness or the daylight (for night and day, month and year ran shapelessly together) in idiot games, until it seemed as if the universe were battling and tumbling, in brute confusion and wanton lust aimlessly by itself. '], '003624': ['He only raised his right hand mysteriously high in the air, and let it fall upon his knee again as if he were conducting some secret symphony. ']}\n"
     ]
    }
   ],
   "source": [
    "print(descriptive_sentences)"
   ]
  },
  {
   "cell_type": "code",
   "execution_count": 72,
   "id": "577a5964",
   "metadata": {},
   "outputs": [
    {
     "name": "stdout",
     "output_type": "stream",
     "text": [
      "[['Ever so many books there were.\"', 'And even her memories leave their impressions in precise, sensual images;', 'she remembers \"when, with a little squeak of the hinges, which she could hear now, she had burst open the French windows and plunged at Bourton into the open air.\"\\n, In contrast, the prose style of To the Lighthouse favors the abstract.', 'Its paths of reverie gravitate toward generality, as when Lily thinks:'], 878, 3, ['Even the concrete descriptions of material objects emphasize the ephemerality and insignificance of the physical world.', 'The house contains \"crazy ghosts of chairs and tables whose London life of service was done they did well enough here.', 'the mat was fading, the wallpaper was flapping.', 'You couldn\\'t tell anymore that those were roses on it\".']]\n"
     ]
    }
   ],
   "source": [
    "print(data['to_the_lighthouse']['quotes'][\"001835\"])"
   ]
  },
  {
   "cell_type": "code",
   "execution_count": null,
   "id": "cdff1e83",
   "metadata": {},
   "outputs": [],
   "source": []
  }
 ],
 "metadata": {
  "kernelspec": {
   "display_name": "Python [conda env:anlp] *",
   "language": "python",
   "name": "conda-env-anlp-py"
  },
  "language_info": {
   "codemirror_mode": {
    "name": "ipython",
    "version": 3
   },
   "file_extension": ".py",
   "mimetype": "text/x-python",
   "name": "python",
   "nbconvert_exporter": "python",
   "pygments_lexer": "ipython3",
   "version": "3.8.8"
  }
 },
 "nbformat": 4,
 "nbformat_minor": 5
}
