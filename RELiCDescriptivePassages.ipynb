{
 "cells": [
  {
   "cell_type": "code",
   "execution_count": 1,
   "id": "1f80b1de",
   "metadata": {},
   "outputs": [],
   "source": [
    "import json"
   ]
  },
  {
   "cell_type": "code",
   "execution_count": null,
   "id": "97b1d61d",
   "metadata": {},
   "outputs": [],
   "source": [
    "'''\n",
    "Read in .json of RELiC data as a nested dict.\n",
    "Data structured as follows:\n",
    "\n",
    "{\n",
    "    book_n: {\n",
    "        quotes: {\n",
    "            quote_n: [\n",
    "                [quote_n_left] # 4 sentences, left 'context' of critical claim\n",
    "                sentence_id # index of the corresponding sentence in `sentences`\n",
    "                sentence_window_size # number from 1-5 =to how many original sentences inhere the claim\n",
    "                [quote_n_right] # 4 sentences, right 'context' of critical claim\n",
    "            ], ...\n",
    "        },\n",
    "        sentences: [sentence_1, sentence_2], # all the sentences in the work\n",
    "        candidates: { # tracks which sentences are eligible to be 'expanded' e.g. if sentence #7 is used in a claim that's 3 sentences long, we should retrieve sentences 7,8,9.\n",
    "            1_sentence: [all sentence_id's],\n",
    "            ...,\n",
    "            5-sentence: [all but last 4 sentence_ids (prevent OOB error)], \n",
    "        }\n",
    "    },\n",
    "}\n",
    "'''\n",
    "def read_data(filename):\n",
    "    \n",
    "    "
   ]
  }
 ],
 "metadata": {
  "kernelspec": {
   "display_name": "Python [conda env:anlp] *",
   "language": "python",
   "name": "conda-env-anlp-py"
  },
  "language_info": {
   "codemirror_mode": {
    "name": "ipython",
    "version": 3
   },
   "file_extension": ".py",
   "mimetype": "text/x-python",
   "name": "python",
   "nbconvert_exporter": "python",
   "pygments_lexer": "ipython3",
   "version": "3.8.8"
  }
 },
 "nbformat": 4,
 "nbformat_minor": 5
}
