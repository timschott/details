{
 "cells": [
  {
   "cell_type": "code",
   "execution_count": 1,
   "id": "77a757bb",
   "metadata": {},
   "outputs": [],
   "source": [
    "# re\n",
    "import re\n",
    "\n",
    "# POS\n",
    "import spacy"
   ]
  },
  {
   "cell_type": "code",
   "execution_count": 2,
   "id": "028c0e54",
   "metadata": {},
   "outputs": [
    {
     "data": {
      "text/plain": [
       "('parser', <spacy.pipeline.dep_parser.DependencyParser at 0x136fdbd60>)"
      ]
     },
     "execution_count": 2,
     "metadata": {},
     "output_type": "execute_result"
    }
   ],
   "source": [
    "nlp = spacy.load('en_core_web_sm', disable=['ner,parser'])\n",
    "nlp.remove_pipe('ner')\n",
    "nlp.remove_pipe('parser')"
   ]
  },
  {
   "cell_type": "code",
   "execution_count": 3,
   "id": "922330b1",
   "metadata": {},
   "outputs": [],
   "source": [
    "'''\n",
    "Reads in a file containing text samples, that has each sample separated by a carriage return and then tabs\n",
    "\n",
    "Args:\n",
    "    filename: location of sample file\n",
    "\n",
    "Return:\n",
    "    tagged_samples: a list of spacy `nlp` docs that contains information about each word in the sample\n",
    "'''\n",
    "def read_and_tag(filename):    \n",
    "    \n",
    "    tagged_samples = []\n",
    "    \n",
    "    with open(filename, encoding=\"utf-8\") as file:\n",
    "        # samples are separated by line breaks\n",
    "        next(file)\n",
    "        for sample in file:\n",
    "            sample_data = sample.split(\"\\t\")\n",
    "            doc=nlp(sample_data[1])\n",
    "            tagged_samples.append(doc)\n",
    "        \n",
    "    return tagged_samples"
   ]
  },
  {
   "cell_type": "code",
   "execution_count": 4,
   "id": "560632e0",
   "metadata": {},
   "outputs": [],
   "source": [
    "tagged_samples = read_and_tag(\"data/samples_data.tsv\")"
   ]
  },
  {
   "cell_type": "code",
   "execution_count": 5,
   "id": "0b695601",
   "metadata": {},
   "outputs": [
    {
     "data": {
      "text/plain": [
       "'...passionate exclamation, as if some torture screw were threatening him, he started up and said, “it is impossible!” he went and leaned on the back of the chair again, and seemed to be battling with his own anger, while she looked towards him sadly. “it is as fatal as a murder or any other horror that divides people,” he burst out again; “it is more intolerable—to have our life maimed by petty accidents.” “no—don’t say that—your life need not be maimed,” said dorothea, gently. “yes, it must,” said will, angrily. “it is cruel of you to speak in that way—as if there were any comfort. you may see beyond the misery of it, but i don’t. it is unkind—it is throwing back my love for you as if it were a trifle, to speak in that way in the face of the fact. we can never be married.” “some time—we...'"
      ]
     },
     "execution_count": 5,
     "metadata": {},
     "output_type": "execute_result"
    }
   ],
   "source": [
    "tagged_samples[1].text"
   ]
  },
  {
   "cell_type": "code",
   "execution_count": null,
   "id": "800d7628",
   "metadata": {},
   "outputs": [],
   "source": []
  }
 ],
 "metadata": {
  "kernelspec": {
   "display_name": "Python [conda env:anlp] *",
   "language": "python",
   "name": "conda-env-anlp-py"
  },
  "language_info": {
   "codemirror_mode": {
    "name": "ipython",
    "version": 3
   },
   "file_extension": ".py",
   "mimetype": "text/x-python",
   "name": "python",
   "nbconvert_exporter": "python",
   "pygments_lexer": "ipython3",
   "version": "3.8.8"
  }
 },
 "nbformat": 4,
 "nbformat_minor": 5
}
