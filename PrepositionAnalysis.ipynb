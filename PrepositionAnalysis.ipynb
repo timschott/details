{
 "cells": [
  {
   "cell_type": "code",
   "execution_count": 142,
   "id": "c8b4c932",
   "metadata": {},
   "outputs": [],
   "source": [
    "# re\n",
    "import re\n",
    "\n",
    "# pandas\n",
    "import pandas as pd\n",
    "\n",
    "# POS\n",
    "import spacy\n",
    "\n",
    "# counter\n",
    "from collections import Counter\n",
    "\n",
    "import operator"
   ]
  },
  {
   "cell_type": "code",
   "execution_count": 2,
   "id": "2ec85fd9",
   "metadata": {},
   "outputs": [
    {
     "data": {
      "text/plain": [
       "('parser', <spacy.pipeline.dep_parser.DependencyParser at 0x136fdbd60>)"
      ]
     },
     "execution_count": 2,
     "metadata": {},
     "output_type": "execute_result"
    }
   ],
   "source": [
    "nlp = spacy.load('en_core_web_sm', disable=['ner,parser'])\n",
    "nlp.remove_pipe('ner')\n",
    "nlp.remove_pipe('parser')"
   ]
  },
  {
   "cell_type": "code",
   "execution_count": 106,
   "id": "73d770a4",
   "metadata": {},
   "outputs": [],
   "source": [
    "'''\n",
    "Read in .tsv of tagged sample data as a Pandas data frame\n",
    "Add appropriate header to the columns as well.\n",
    "'''\n",
    "def read_as_df(filename):\n",
    "    \n",
    "    df = pd.read_csv(filename, sep=\"\\t\", header = None)\n",
    "    df.columns = [\"Text_Loc\", \"Sample\", \"Rating\", \"Specificity\",\"Adj\", \"Adv\", \"Noun\", \"Verb\", \"Adp\"]\n",
    "    return df"
   ]
  },
  {
   "cell_type": "code",
   "execution_count": 162,
   "id": "e40a6526",
   "metadata": {},
   "outputs": [],
   "source": [
    "'''\n",
    "Identifies frequencies for preposition usage across the samples.\n",
    "Provides output in the form suitable for chi-square analysis.\n",
    "'''\n",
    "def prep_capture(samples, detail_rating):\n",
    "    preps = set()\n",
    "    details_counter = Counter()\n",
    "    not_details_counter = Counter()\n",
    "    total_words = 0\n",
    "    for index, value in enumerate(samples):\n",
    "        score = detail_rating[index]\n",
    "        sample = nlp(samples[index])\n",
    "        for word in sample:\n",
    "            if word.pos_ != 'PUNC':\n",
    "                total_words += 1\n",
    "            if word.pos_ == 'ADP':\n",
    "                if score >= 3.0:\n",
    "                    if word.text not in details_counter:\n",
    "                        details_counter[word.text] = 1\n",
    "                    else:\n",
    "                        details_counter[word.text] += 1\n",
    "                    \n",
    "                else:\n",
    "                    if word.text not in not_details_counter:\n",
    "                        not_details_counter[word.text] = 1\n",
    "                    else:\n",
    "                        not_details_counter[word.text] += 1\n",
    "    \n",
    "    # first, remove anything that has an observed count of < 5 -- probably some weird typo.\n",
    "    \n",
    "    details_counter = {k: v for k, v in details_counter.items() if v >= 5}\n",
    "    not_details_counter = {k: v for k, v in not_details_counter.items() if v >= 5}\n",
    "    \n",
    "    # now, double check that details_counter and not_details_counter both have same elements\n",
    "    # if they aren't, add the missing entries and give them a count of 0\n",
    "    \n",
    "    for key in details_counter.keys():\n",
    "        if key not in not_details_counter.keys():\n",
    "            not_details_counter[key] = 0\n",
    "    for key in not_details_counter.keys():\n",
    "        if key not in details_counter.keys():\n",
    "            details_counter[key] = 0\n",
    "            \n",
    "    # sort them, by their keys, so we can easily iterate + compare.\n",
    "    sorted_detail_counts = sorted(details_counter.items(), key=operator.itemgetter(0), reverse = False)\n",
    "    sorted_not_detail_counts = sorted(not_details_counter.items(), key=operator.itemgetter(0), reverse = False)\n",
    "\n",
    "    return sorted_detail_counts, sorted_not_detail_counts, total_words\n",
    "                "
   ]
  },
  {
   "cell_type": "code",
   "execution_count": 163,
   "id": "5e737118",
   "metadata": {},
   "outputs": [],
   "source": [
    "df = read_as_df(\"data/samples_data.tsv\")"
   ]
  },
  {
   "cell_type": "code",
   "execution_count": 164,
   "id": "ba25e69e",
   "metadata": {},
   "outputs": [
    {
     "data": {
      "text/html": [
       "<div>\n",
       "<style scoped>\n",
       "    .dataframe tbody tr th:only-of-type {\n",
       "        vertical-align: middle;\n",
       "    }\n",
       "\n",
       "    .dataframe tbody tr th {\n",
       "        vertical-align: top;\n",
       "    }\n",
       "\n",
       "    .dataframe thead th {\n",
       "        text-align: right;\n",
       "    }\n",
       "</style>\n",
       "<table border=\"1\" class=\"dataframe\">\n",
       "  <thead>\n",
       "    <tr style=\"text-align: right;\">\n",
       "      <th></th>\n",
       "      <th>Text_Loc</th>\n",
       "      <th>Sample</th>\n",
       "      <th>Rating</th>\n",
       "      <th>Specificity</th>\n",
       "      <th>Adj</th>\n",
       "      <th>Adv</th>\n",
       "      <th>Noun</th>\n",
       "      <th>Verb</th>\n",
       "      <th>Adp</th>\n",
       "    </tr>\n",
       "  </thead>\n",
       "  <tbody>\n",
       "    <tr>\n",
       "      <th>0</th>\n",
       "      <td>../Gutenberg/samples/heart_of_darkness_20960_2...</td>\n",
       "      <td>...lap. she wore a starched white affair on he...</td>\n",
       "      <td>4.5</td>\n",
       "      <td>4.565217</td>\n",
       "      <td>20</td>\n",
       "      <td>7</td>\n",
       "      <td>29</td>\n",
       "      <td>21</td>\n",
       "      <td>21</td>\n",
       "    </tr>\n",
       "    <tr>\n",
       "      <th>1</th>\n",
       "      <td>../Gutenberg/samples/adam_bede_601425_602225.txt</td>\n",
       "      <td>...him, if he had known it, that the general a...</td>\n",
       "      <td>2.5</td>\n",
       "      <td>4.758621</td>\n",
       "      <td>16</td>\n",
       "      <td>10</td>\n",
       "      <td>36</td>\n",
       "      <td>24</td>\n",
       "      <td>20</td>\n",
       "    </tr>\n",
       "    <tr>\n",
       "      <th>2</th>\n",
       "      <td>../Gutenberg/samples/middlemarch_1718514_17193...</td>\n",
       "      <td>...passionate exclamation, as if some torture ...</td>\n",
       "      <td>2.0</td>\n",
       "      <td>2.945455</td>\n",
       "      <td>9</td>\n",
       "      <td>8</td>\n",
       "      <td>21</td>\n",
       "      <td>35</td>\n",
       "      <td>20</td>\n",
       "    </tr>\n",
       "    <tr>\n",
       "      <th>3</th>\n",
       "      <td>../Gutenberg/samples/tom_jones_1740540_1741340...</td>\n",
       "      <td>...so vicious a passion from your heart, and y...</td>\n",
       "      <td>1.5</td>\n",
       "      <td>4.823529</td>\n",
       "      <td>10</td>\n",
       "      <td>10</td>\n",
       "      <td>29</td>\n",
       "      <td>29</td>\n",
       "      <td>16</td>\n",
       "    </tr>\n",
       "    <tr>\n",
       "      <th>4</th>\n",
       "      <td>../Gutenberg/samples/the_jungle_691598_692398.txt</td>\n",
       "      <td>...intensity, staring at the platform as if no...</td>\n",
       "      <td>2.0</td>\n",
       "      <td>3.407407</td>\n",
       "      <td>12</td>\n",
       "      <td>13</td>\n",
       "      <td>22</td>\n",
       "      <td>33</td>\n",
       "      <td>9</td>\n",
       "    </tr>\n",
       "  </tbody>\n",
       "</table>\n",
       "</div>"
      ],
      "text/plain": [
       "                                            Text_Loc  \\\n",
       "0  ../Gutenberg/samples/heart_of_darkness_20960_2...   \n",
       "1   ../Gutenberg/samples/adam_bede_601425_602225.txt   \n",
       "2  ../Gutenberg/samples/middlemarch_1718514_17193...   \n",
       "3  ../Gutenberg/samples/tom_jones_1740540_1741340...   \n",
       "4  ../Gutenberg/samples/the_jungle_691598_692398.txt   \n",
       "\n",
       "                                              Sample  Rating  Specificity  \\\n",
       "0  ...lap. she wore a starched white affair on he...     4.5     4.565217   \n",
       "1  ...him, if he had known it, that the general a...     2.5     4.758621   \n",
       "2  ...passionate exclamation, as if some torture ...     2.0     2.945455   \n",
       "3  ...so vicious a passion from your heart, and y...     1.5     4.823529   \n",
       "4  ...intensity, staring at the platform as if no...     2.0     3.407407   \n",
       "\n",
       "   Adj  Adv  Noun  Verb  Adp  \n",
       "0   20    7    29    21   21  \n",
       "1   16   10    36    24   20  \n",
       "2    9    8    21    35   20  \n",
       "3   10   10    29    29   16  \n",
       "4   12   13    22    33    9  "
      ]
     },
     "execution_count": 164,
     "metadata": {},
     "output_type": "execute_result"
    }
   ],
   "source": [
    "df.head()"
   ]
  },
  {
   "cell_type": "code",
   "execution_count": 165,
   "id": "3cda62fc",
   "metadata": {},
   "outputs": [],
   "source": [
    "detail_preps, not_detail_preps, total_word_count = prep_capture(df['Sample'], df['Rating'])"
   ]
  },
  {
   "cell_type": "code",
   "execution_count": 167,
   "id": "46933c46",
   "metadata": {},
   "outputs": [
    {
     "data": {
      "text/plain": [
       "63478"
      ]
     },
     "execution_count": 167,
     "metadata": {},
     "output_type": "execute_result"
    }
   ],
   "source": [
    "total_word_count"
   ]
  }
 ],
 "metadata": {
  "kernelspec": {
   "display_name": "Python [conda env:anlp] *",
   "language": "python",
   "name": "conda-env-anlp-py"
  },
  "language_info": {
   "codemirror_mode": {
    "name": "ipython",
    "version": 3
   },
   "file_extension": ".py",
   "mimetype": "text/x-python",
   "name": "python",
   "nbconvert_exporter": "python",
   "pygments_lexer": "ipython3",
   "version": "3.8.8"
  }
 },
 "nbformat": 4,
 "nbformat_minor": 5
}
