{
 "cells": [
  {
   "cell_type": "code",
   "execution_count": 5,
   "id": "9fb99d78",
   "metadata": {},
   "outputs": [],
   "source": [
    "# off the shelf BERT from Huggingface\n",
    "from transformers import BertModel, BertTokenizer\n",
    "# numpy\n",
    "import numpy as np\n",
    "# pandas\n",
    "import pandas as pd"
   ]
  },
  {
   "cell_type": "code",
   "execution_count": 6,
   "id": "e4c4d902",
   "metadata": {},
   "outputs": [
    {
     "name": "stderr",
     "output_type": "stream",
     "text": [
      "Some weights of the model checkpoint at bert-base-uncased were not used when initializing BertModel: ['cls.predictions.transform.dense.weight', 'cls.predictions.transform.LayerNorm.bias', 'cls.predictions.transform.LayerNorm.weight', 'cls.predictions.bias', 'cls.seq_relationship.weight', 'cls.predictions.transform.dense.bias', 'cls.seq_relationship.bias', 'cls.predictions.decoder.weight']\n",
      "- This IS expected if you are initializing BertModel from the checkpoint of a model trained on another task or with another architecture (e.g. initializing a BertForSequenceClassification model from a BertForPreTraining model).\n",
      "- This IS NOT expected if you are initializing BertModel from the checkpoint of a model that you expect to be exactly identical (initializing a BertForSequenceClassification model from a BertForSequenceClassification model).\n"
     ]
    }
   ],
   "source": [
    "tokenizer = BertTokenizer.from_pretrained('bert-base-uncased')\n",
    "model = BertModel.from_pretrained('bert-base-uncased')"
   ]
  },
  {
   "cell_type": "code",
   "execution_count": 7,
   "id": "b348dfdd",
   "metadata": {},
   "outputs": [],
   "source": [
    "'''\n",
    "Read in .tsv of tagged sample data as a Pandas data frame\n",
    "Add appropriate header to the columns as well.\n",
    "'''\n",
    "def read_as_df(filename):\n",
    "    df = pd.read_csv(filename, sep=\"\\t\", header = None)\n",
    "    df.columns = [\"Text_Loc\", \"Sample\", \"Rating\", \"Specificity\",\"Adj\", \"Adv\", \"Noun\", \"Verb\", \"Adp\", \"Time\"]\n",
    "    return df"
   ]
  },
  {
   "cell_type": "code",
   "execution_count": 9,
   "id": "05cd1a2d",
   "metadata": {},
   "outputs": [],
   "source": [
    "samples = read_as_df(\"data/samples_data.tsv\")"
   ]
  },
  {
   "cell_type": "code",
   "execution_count": 10,
   "id": "c7a7bc63",
   "metadata": {},
   "outputs": [
    {
     "data": {
      "text/html": [
       "<div>\n",
       "<style scoped>\n",
       "    .dataframe tbody tr th:only-of-type {\n",
       "        vertical-align: middle;\n",
       "    }\n",
       "\n",
       "    .dataframe tbody tr th {\n",
       "        vertical-align: top;\n",
       "    }\n",
       "\n",
       "    .dataframe thead th {\n",
       "        text-align: right;\n",
       "    }\n",
       "</style>\n",
       "<table border=\"1\" class=\"dataframe\">\n",
       "  <thead>\n",
       "    <tr style=\"text-align: right;\">\n",
       "      <th></th>\n",
       "      <th>Text_Loc</th>\n",
       "      <th>Sample</th>\n",
       "      <th>Rating</th>\n",
       "      <th>Specificity</th>\n",
       "      <th>Adj</th>\n",
       "      <th>Adv</th>\n",
       "      <th>Noun</th>\n",
       "      <th>Verb</th>\n",
       "      <th>Adp</th>\n",
       "      <th>Time</th>\n",
       "    </tr>\n",
       "  </thead>\n",
       "  <tbody>\n",
       "    <tr>\n",
       "      <th>0</th>\n",
       "      <td>Text_Loc</td>\n",
       "      <td>Sample</td>\n",
       "      <td>Rating</td>\n",
       "      <td>Specificity</td>\n",
       "      <td>Adj</td>\n",
       "      <td>Adv</td>\n",
       "      <td>Noun</td>\n",
       "      <td>Verb</td>\n",
       "      <td>Adp</td>\n",
       "      <td>Time</td>\n",
       "    </tr>\n",
       "    <tr>\n",
       "      <th>1</th>\n",
       "      <td>../Gutenberg/samples/heart_of_darkness_20960_2...</td>\n",
       "      <td>...lap. she wore a starched white affair on he...</td>\n",
       "      <td>4.5</td>\n",
       "      <td>4.565217391304348</td>\n",
       "      <td>20</td>\n",
       "      <td>7</td>\n",
       "      <td>29</td>\n",
       "      <td>21</td>\n",
       "      <td>21</td>\n",
       "      <td>9</td>\n",
       "    </tr>\n",
       "    <tr>\n",
       "      <th>2</th>\n",
       "      <td>../Gutenberg/samples/adam_bede_601425_602225.txt</td>\n",
       "      <td>...him, if he had known it, that the general a...</td>\n",
       "      <td>2.5</td>\n",
       "      <td>4.758620689655173</td>\n",
       "      <td>16</td>\n",
       "      <td>10</td>\n",
       "      <td>36</td>\n",
       "      <td>24</td>\n",
       "      <td>20</td>\n",
       "      <td>1</td>\n",
       "    </tr>\n",
       "    <tr>\n",
       "      <th>3</th>\n",
       "      <td>../Gutenberg/samples/middlemarch_1718514_17193...</td>\n",
       "      <td>...passionate exclamation, as if some torture ...</td>\n",
       "      <td>2.0</td>\n",
       "      <td>2.9454545454545453</td>\n",
       "      <td>9</td>\n",
       "      <td>8</td>\n",
       "      <td>21</td>\n",
       "      <td>35</td>\n",
       "      <td>20</td>\n",
       "      <td>6</td>\n",
       "    </tr>\n",
       "    <tr>\n",
       "      <th>4</th>\n",
       "      <td>../Gutenberg/samples/tom_jones_1740540_1741340...</td>\n",
       "      <td>...so vicious a passion from your heart, and y...</td>\n",
       "      <td>1.5</td>\n",
       "      <td>4.823529411764706</td>\n",
       "      <td>10</td>\n",
       "      <td>10</td>\n",
       "      <td>29</td>\n",
       "      <td>29</td>\n",
       "      <td>16</td>\n",
       "      <td>7</td>\n",
       "    </tr>\n",
       "  </tbody>\n",
       "</table>\n",
       "</div>"
      ],
      "text/plain": [
       "                                            Text_Loc  \\\n",
       "0                                           Text_Loc   \n",
       "1  ../Gutenberg/samples/heart_of_darkness_20960_2...   \n",
       "2   ../Gutenberg/samples/adam_bede_601425_602225.txt   \n",
       "3  ../Gutenberg/samples/middlemarch_1718514_17193...   \n",
       "4  ../Gutenberg/samples/tom_jones_1740540_1741340...   \n",
       "\n",
       "                                              Sample  Rating  \\\n",
       "0                                             Sample  Rating   \n",
       "1  ...lap. she wore a starched white affair on he...     4.5   \n",
       "2  ...him, if he had known it, that the general a...     2.5   \n",
       "3  ...passionate exclamation, as if some torture ...     2.0   \n",
       "4  ...so vicious a passion from your heart, and y...     1.5   \n",
       "\n",
       "          Specificity  Adj  Adv  Noun  Verb  Adp  Time  \n",
       "0         Specificity  Adj  Adv  Noun  Verb  Adp  Time  \n",
       "1   4.565217391304348   20    7    29    21   21     9  \n",
       "2   4.758620689655173   16   10    36    24   20     1  \n",
       "3  2.9454545454545453    9    8    21    35   20     6  \n",
       "4   4.823529411764706   10   10    29    29   16     7  "
      ]
     },
     "execution_count": 10,
     "metadata": {},
     "output_type": "execute_result"
    }
   ],
   "source": [
    "samples.head()"
   ]
  },
  {
   "cell_type": "code",
   "execution_count": 105,
   "id": "2d58e231",
   "metadata": {},
   "outputs": [],
   "source": [
    "def tokenize_sample(sample):\n",
    "    # tokenize\n",
    "    return tokenizer(sample, return_tensors=\"pt\")"
   ]
  },
  {
   "cell_type": "code",
   "execution_count": null,
   "id": "951404a3",
   "metadata": {},
   "outputs": [],
   "source": [
    "'''\n",
    "Helper to add extra information to a 768-dimension BERT embedding.\n",
    "'''\n",
    "def augment_bert_embedding(bert_output, nums_to_add):\n",
    "    temp = np.array(nums_to_add)\n",
    "    augmented_bert_output = np.resize(bert_output, len(bert_output) + len(nums_to_add))\n",
    "    augmented_bert_output[-len(nums_to_add):] = temp\n",
    "    return augmented_bert_output"
   ]
  },
  {
   "cell_type": "code",
   "execution_count": null,
   "id": "fb57194c",
   "metadata": {},
   "outputs": [],
   "source": [
    "def get_embeddings(df):\n",
    "    \n",
    "    for i in range (1, len(df) - 1):\n",
    "        # get sample, remove leading + trailing ellipses\n",
    "        sample = df['Sample'][i][3:-3]\n",
    "        \n",
    "        token_inputs = tokenize_sample(sample)\n",
    "\n",
    "        # converts input_ids to their tokenized form\n",
    "        # ie \"insinuating\" -> is word-pieced into in/##sin/##uating (3 diff tokens!)\n",
    "        tokens=tokenizer.convert_ids_to_tokens(token_inputs[\"input_ids\"][0])\n",
    "        outputs = model(**token_inputs)\n",
    "        \n",
    "        # need to make a matrix for each sample\n",
    "        for index, token in enumerate(tokens):\n",
    "            # find the rep\n",
    "            bert_embedding = outputs.last_hidden_state[0][index].detach().numpy()\n",
    "            # augment w/ additional info\n",
    "            augmented_embedding = augment_bert_embedding(bert_embedding, [df['Specificity'][i], df['Adp'][i]])    "
   ]
  },
  {
   "cell_type": "code",
   "execution_count": 1,
   "id": "a683eb4e",
   "metadata": {},
   "outputs": [],
   "source": [
    "# get_embeddings(samples)"
   ]
  },
  {
   "cell_type": "code",
   "execution_count": null,
   "id": "53b06a76",
   "metadata": {},
   "outputs": [],
   "source": []
  }
 ],
 "metadata": {
  "kernelspec": {
   "display_name": "Python [conda env:anlp] *",
   "language": "python",
   "name": "conda-env-anlp-py"
  },
  "language_info": {
   "codemirror_mode": {
    "name": "ipython",
    "version": 3
   },
   "file_extension": ".py",
   "mimetype": "text/x-python",
   "name": "python",
   "nbconvert_exporter": "python",
   "pygments_lexer": "ipython3",
   "version": "3.8.8"
  }
 },
 "nbformat": 4,
 "nbformat_minor": 5
}
