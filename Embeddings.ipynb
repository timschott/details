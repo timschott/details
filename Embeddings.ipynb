{
 "cells": [
  {
   "cell_type": "code",
   "execution_count": 132,
   "id": "9fb99d78",
   "metadata": {},
   "outputs": [],
   "source": [
    "# off the shelf BERT from Huggingface\n",
    "from transformers import BertModel, BertTokenizer\n",
    "# numpy\n",
    "import numpy as np\n",
    "# operator\n",
    "import operator\n",
    "# pandas\n",
    "import pandas as pd\n",
    "# sklearn\n",
    "from sklearn import metrics\n",
    "from sklearn.metrics import accuracy_score\n",
    "from sklearn.cluster import AgglomerativeClustering, KMeans"
   ]
  },
  {
   "cell_type": "code",
   "execution_count": 5,
   "id": "e4c4d902",
   "metadata": {},
   "outputs": [
    {
     "name": "stderr",
     "output_type": "stream",
     "text": [
      "Some weights of the model checkpoint at bert-base-uncased were not used when initializing BertModel: ['cls.predictions.transform.LayerNorm.weight', 'cls.predictions.bias', 'cls.predictions.transform.dense.weight', 'cls.predictions.transform.dense.bias', 'cls.predictions.transform.LayerNorm.bias', 'cls.predictions.decoder.weight', 'cls.seq_relationship.bias', 'cls.seq_relationship.weight']\n",
      "- This IS expected if you are initializing BertModel from the checkpoint of a model trained on another task or with another architecture (e.g. initializing a BertForSequenceClassification model from a BertForPreTraining model).\n",
      "- This IS NOT expected if you are initializing BertModel from the checkpoint of a model that you expect to be exactly identical (initializing a BertForSequenceClassification model from a BertForSequenceClassification model).\n"
     ]
    }
   ],
   "source": [
    "tokenizer = BertTokenizer.from_pretrained('bert-base-uncased')\n",
    "model = BertModel.from_pretrained('bert-base-uncased')"
   ]
  },
  {
   "cell_type": "code",
   "execution_count": 76,
   "id": "b348dfdd",
   "metadata": {},
   "outputs": [],
   "source": [
    "'''\n",
    "Read in .tsv of tagged sample data as a Pandas data frame\n",
    "Add appropriate header to the columns as well.\n",
    "'''\n",
    "def read_as_df(filename):\n",
    "    df = pd.read_csv(filename, sep=\"\\t\", header = None, skiprows=[1])\n",
    "    df.columns = [\"Text_Loc\", \"Sample\", \"Rating\", \"Specificity\",\"Adj\", \"Adv\", \"Noun\", \"Verb\", \"Adp\", \"Time\"]\n",
    "    df = df.iloc[1: , :]\n",
    "    return df"
   ]
  },
  {
   "cell_type": "code",
   "execution_count": 9,
   "id": "2d58e231",
   "metadata": {},
   "outputs": [],
   "source": [
    "def tokenize_sample(sample):\n",
    "    # tokenize\n",
    "    return tokenizer(sample, return_tensors=\"pt\")"
   ]
  },
  {
   "cell_type": "code",
   "execution_count": 33,
   "id": "951404a3",
   "metadata": {},
   "outputs": [],
   "source": [
    "'''\n",
    "Helper to add extra information to a 768-dimension BERT embedding.\n",
    "Could be used in future; no application in this process since I am not going to use the embeddings for model input\n",
    "(Not enough data).\n",
    "'''\n",
    "def augment_bert_embedding(bert_output, nums_to_add):\n",
    "    temp = np.array(nums_to_add)\n",
    "    augmented_bert_output = np.resize(bert_output, len(bert_output) + len(nums_to_add))\n",
    "    augmented_bert_output[-len(nums_to_add):] = temp\n",
    "    return augmented_bert_output"
   ]
  },
  {
   "cell_type": "code",
   "execution_count": 26,
   "id": "fb57194c",
   "metadata": {},
   "outputs": [],
   "source": [
    "def get_embeddings(df):\n",
    "    \n",
    "    mat_list = []\n",
    "    for i in range (0, len(df) - 1):\n",
    "        # get sample, remove leading + trailing ellipses\n",
    "        sample = df['Sample'][i][3:-3]\n",
    "        \n",
    "        \n",
    "        token_inputs = tokenize_sample(sample)\n",
    "\n",
    "        # converts input_ids to their tokenized form\n",
    "        # ie \"insinuating\" -> is word-pieced into in/##sin/##uating (3 diff tokens!)\n",
    "        tokens=tokenizer.convert_ids_to_tokens(token_inputs[\"input_ids\"][0])\n",
    "        outputs = model(**token_inputs)\n",
    "        embedding_list = []\n",
    "\n",
    "        # need to make a matrix for each sample\n",
    "        for index, token in enumerate(tokens):\n",
    "            # find the rep\n",
    "            bert_embedding = outputs.last_hidden_state[0][index].detach().numpy()\n",
    "            embedding_list.append(bert_embedding)\n",
    "        mat = np.stack(embedding_list, axis=0)\n",
    "        mat_list.append(mat)\n",
    "    return mat_list"
   ]
  },
  {
   "cell_type": "code",
   "execution_count": 38,
   "id": "42c73ab3",
   "metadata": {},
   "outputs": [],
   "source": [
    "'''\n",
    "Take in a list of (n, 768) embeddings and reduce their dims w/ an avg. calc\n",
    "That way each sample can be compared\n",
    "'''\n",
    "def average_embeddings(embedding_list):\n",
    "    avg_embeddings = []\n",
    "    for mat in embedding_list:\n",
    "        avg_embeddings.append(np.mean(mat, axis = 0))\n",
    "    \n",
    "    return avg_embeddings"
   ]
  },
  {
   "cell_type": "code",
   "execution_count": 137,
   "id": "c0e0f24f",
   "metadata": {},
   "outputs": [],
   "source": [
    "def k_means(embeddings):\n",
    "    k = KMeans(n_clusters=2, random_state = 46)\n",
    "    k.fit(avg_embeddings)\n",
    "    k_assignment = k.labels_\n",
    "    return k_assignment"
   ]
  },
  {
   "cell_type": "code",
   "execution_count": 111,
   "id": "42650e12",
   "metadata": {},
   "outputs": [],
   "source": [
    "def agg_clustering(embeddings):\n",
    "    clustering_model = AgglomerativeClustering(n_clusters=2, linkage=\"ward\")\n",
    "    clustering_model.fit(avg_embeddings)\n",
    "    cluster_assignment = clustering_model.labels_\n",
    "    return cluster_assignment"
   ]
  },
  {
   "cell_type": "code",
   "execution_count": 112,
   "id": "1951fe8b",
   "metadata": {},
   "outputs": [],
   "source": [
    "def clustering_eval(assignments, gold_labels):\n",
    "    print(metrics.normalized_mutual_info_score(gold_labels, assignments), accuracy_score(gold_labels, assignments))"
   ]
  },
  {
   "cell_type": "code",
   "execution_count": 113,
   "id": "90cc450b",
   "metadata": {},
   "outputs": [],
   "source": [
    "def print_clustering_assignments(assignments):\n",
    "    clustered_samples = {}\n",
    "    for sample_id, cluster_id in enumerate(cluster_assignment):\n",
    "        if cluster_id not in clustered_samples:\n",
    "            clustered_samples[cluster_id] = []\n",
    "\n",
    "        clustered_samples[cluster_id].append(samples['Text_Loc'][sample_id])\n",
    "\n",
    "    for i, cluster in clustered_samples.items():\n",
    "        print(f'Cluster {i} {cluster}')"
   ]
  },
  {
   "cell_type": "code",
   "execution_count": 77,
   "id": "05cd1a2d",
   "metadata": {},
   "outputs": [],
   "source": [
    "samples = read_as_df(\"data/samples_data.tsv\")"
   ]
  },
  {
   "cell_type": "code",
   "execution_count": 138,
   "id": "f2979586",
   "metadata": {},
   "outputs": [],
   "source": [
    "samples = samples.assign (\n",
    "    label = lambda dataframe: samples['Rating'].map(lambda Rating: 1 if float(Rating) >= 3.11 else 0)\n",
    ")"
   ]
  },
  {
   "cell_type": "code",
   "execution_count": 27,
   "id": "a683eb4e",
   "metadata": {},
   "outputs": [],
   "source": [
    "sample_embeddings = get_embeddings(samples)"
   ]
  },
  {
   "cell_type": "code",
   "execution_count": 109,
   "id": "b3e55605",
   "metadata": {},
   "outputs": [
    {
     "data": {
      "text/plain": [
       "0"
      ]
     },
     "execution_count": 109,
     "metadata": {},
     "output_type": "execute_result"
    }
   ],
   "source": [
    "samples['label'][0]"
   ]
  },
  {
   "cell_type": "code",
   "execution_count": 46,
   "id": "1be1c85d",
   "metadata": {},
   "outputs": [],
   "source": [
    "avg_embeddings = np.array(average_embeddings(sample_embeddings))"
   ]
  },
  {
   "cell_type": "code",
   "execution_count": 141,
   "id": "7b7ba620",
   "metadata": {},
   "outputs": [
    {
     "name": "stdout",
     "output_type": "stream",
     "text": [
      "0.0022937486004810255 0.48484848484848486\n"
     ]
    }
   ],
   "source": [
    "clustering_eval(k_lab, samples['label'])"
   ]
  },
  {
   "cell_type": "code",
   "execution_count": 142,
   "id": "8e1adbd2",
   "metadata": {},
   "outputs": [],
   "source": [
    "agg_lab = agg_clustering(avg_embeddings)"
   ]
  },
  {
   "cell_type": "code",
   "execution_count": 143,
   "id": "0efec5f6",
   "metadata": {},
   "outputs": [
    {
     "name": "stdout",
     "output_type": "stream",
     "text": [
      "1.6552928531198963e-06 0.48760330578512395\n"
     ]
    }
   ],
   "source": [
    "clustering_eval(agg_lab, samples['label'])"
   ]
  },
  {
   "cell_type": "code",
   "execution_count": null,
   "id": "c0ca003a",
   "metadata": {},
   "outputs": [],
   "source": []
  }
 ],
 "metadata": {
  "kernelspec": {
   "display_name": "Python [conda env:anlp] *",
   "language": "python",
   "name": "conda-env-anlp-py"
  },
  "language_info": {
   "codemirror_mode": {
    "name": "ipython",
    "version": 3
   },
   "file_extension": ".py",
   "mimetype": "text/x-python",
   "name": "python",
   "nbconvert_exporter": "python",
   "pygments_lexer": "ipython3",
   "version": "3.8.8"
  }
 },
 "nbformat": 4,
 "nbformat_minor": 5
}
